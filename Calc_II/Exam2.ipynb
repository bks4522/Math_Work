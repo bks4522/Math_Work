{
 "cells": [
  {
   "cell_type": "code",
   "execution_count": 1,
   "metadata": {},
   "outputs": [],
   "source": [
    "import sympy as smp\n",
    "from sympy import *\n",
    "import numpy as np\n",
    "from numpy import *\n",
    "import scipy as sp\n",
    "from scipy.integrate import solve_ivp\n",
    "from scipy.interpolate import interp1d\n",
    "from scipy.integrate import odeint\n",
    "from fractions import Fraction\n",
    "import matplotlib.pyplot as plt\n",
    "import scienceplots\n",
    "plt.style.use(['science', 'notebook', 'grid'])\n",
    "\n",
    "x, y, t, n, a, b, C, c, r, u, s = smp.symbols('x y t n a b C c r u s')\n",
    "f, g, m = smp.symbols('f g m', cls=smp.Function)"
   ]
  },
  {
   "cell_type": "code",
   "execution_count": 2,
   "metadata": {},
   "outputs": [
    {
     "data": {
      "text/latex": [
       "$\\displaystyle 1$"
      ],
      "text/plain": [
       "1"
      ]
     },
     "execution_count": 2,
     "metadata": {},
     "output_type": "execute_result"
    }
   ],
   "source": [
    "# Define the variable and function\n",
    "x = smp.symbols('x')\n",
    "f = smp.exp(-10*x)\n",
    "a = 0\n",
    "\n",
    "# Calculate the Taylor polynomial of order 3\n",
    "P_0 = f.subs(x, a)\n",
    "\n",
    "P_0"
   ]
  },
  {
   "cell_type": "code",
   "execution_count": 3,
   "metadata": {},
   "outputs": [
    {
     "data": {
      "text/latex": [
       "$\\displaystyle 1 - 10 x$"
      ],
      "text/plain": [
       "1 - 10*x"
      ]
     },
     "execution_count": 3,
     "metadata": {},
     "output_type": "execute_result"
    }
   ],
   "source": [
    "# Define the variable and function\n",
    "x = smp.symbols('x')\n",
    "f = smp.exp(-10*x)\n",
    "a = 0\n",
    "\n",
    "# Calculate the derivative of f\n",
    "f_prime = smp.diff(f, x)\n",
    "\n",
    "# Calculate the Taylor polynomial of order 1\n",
    "P_1 = f.subs(x, a) + f_prime.subs(x, a)*(x - a)\n",
    "\n",
    "P_1"
   ]
  },
  {
   "cell_type": "code",
   "execution_count": 4,
   "metadata": {},
   "outputs": [
    {
     "data": {
      "text/latex": [
       "$\\displaystyle 50 x^{2} - 10 x + 1$"
      ],
      "text/plain": [
       "50*x**2 - 10*x + 1"
      ]
     },
     "execution_count": 4,
     "metadata": {},
     "output_type": "execute_result"
    }
   ],
   "source": [
    "# Define the variable and function\n",
    "x = smp.symbols('x')\n",
    "f = smp.exp(-10*x)\n",
    "a = 0\n",
    "\n",
    "# Calculate the derivative of f\n",
    "f_prime = smp.diff(f, x)\n",
    "\n",
    "# Calculate the second derivative of f\n",
    "f_double_prime = smp.diff(f_prime, x)\n",
    "\n",
    "# Calculate the Taylor polynomial of order 2\n",
    "P_2 = f.subs(x, a) + f_prime.subs(x, a)*(x - a) + f_double_prime.subs(x, a)/2*(x - a)**2\n",
    "\n",
    "P_2"
   ]
  },
  {
   "cell_type": "code",
   "execution_count": 5,
   "metadata": {},
   "outputs": [
    {
     "data": {
      "text/latex": [
       "$\\displaystyle - \\frac{500 x^{3}}{3} + 50 x^{2} - 10 x + 1$"
      ],
      "text/plain": [
       "-500*x**3/3 + 50*x**2 - 10*x + 1"
      ]
     },
     "execution_count": 5,
     "metadata": {},
     "output_type": "execute_result"
    }
   ],
   "source": [
    "# Define the variable and function\n",
    "x = smp.symbols('x')\n",
    "f = smp.exp(-10*x)\n",
    "a = 0\n",
    "\n",
    "# Calculate the derivative of f\n",
    "f_prime = smp.diff(f, x)\n",
    "\n",
    "# Calculate the second derivative of f\n",
    "f_double_prime = smp.diff(f_prime, x)\n",
    "\n",
    "# Calculate the third derivative of f\n",
    "f_triple_prime = smp.diff(f_double_prime, x)\n",
    "\n",
    "# Calculate the Taylor polynomial of order 3\n",
    "P_3 = f.subs(x, a) + f_prime.subs(x, a)*(x - a) + f_double_prime.subs(x, a)/2*(x - a)**2 + f_triple_prime.subs(x, a)/6*(x - a)**3\n",
    "\n",
    "P_3"
   ]
  },
  {
   "cell_type": "code",
   "execution_count": null,
   "metadata": {},
   "outputs": [],
   "source": []
  }
 ],
 "metadata": {
  "kernelspec": {
   "display_name": "Env1",
   "language": "python",
   "name": "python3"
  },
  "language_info": {
   "codemirror_mode": {
    "name": "ipython",
    "version": 3
   },
   "file_extension": ".py",
   "mimetype": "text/x-python",
   "name": "python",
   "nbconvert_exporter": "python",
   "pygments_lexer": "ipython3",
   "version": "3.10.10"
  },
  "orig_nbformat": 4
 },
 "nbformat": 4,
 "nbformat_minor": 2
}
