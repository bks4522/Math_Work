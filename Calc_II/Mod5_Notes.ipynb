{
 "cells": [
  {
   "cell_type": "code",
   "execution_count": 1,
   "metadata": {},
   "outputs": [],
   "source": [
    "import sympy as smp\n",
    "from sympy import *\n",
    "import numpy as np\n",
    "from numpy import *\n",
    "import scipy as sp\n",
    "from scipy.integrate import solve_ivp\n",
    "from scipy.interpolate import interp1d\n",
    "from scipy.integrate import odeint\n",
    "from fractions import Fraction\n",
    "import matplotlib.pyplot as plt\n",
    "import scienceplots\n",
    "plt.style.use(['science', 'notebook', 'grid'])\n",
    "\n",
    "x, y, t, n, a, b, C, c, r, u, s = smp.symbols('x y t n a b C c r u s')\n",
    "f, g, m = smp.symbols('f g m', cls=smp.Function)"
   ]
  },
  {
   "attachments": {},
   "cell_type": "markdown",
   "metadata": {},
   "source": [
    "# 1 - 1\n",
    "\n",
    "Use the Comparison Test to determine if the following series converges or diverges:\n",
    "\n",
    "Σ (n, 1, smp.oo) (1/(3n^2 + 25))"
   ]
  },
  {
   "attachments": {},
   "cell_type": "markdown",
   "metadata": {},
   "source": [
    "Comparison Test:\n",
    "\n",
    "Used to determine if series converges or diverges.\n",
    "\n",
    "Compare to a series that we already know converges or diverges. \n",
    "\n",
    "***Seres is said to converge if the sum of its terms approaches a finite value***"
   ]
  },
  {
   "attachments": {},
   "cell_type": "markdown",
   "metadata": {},
   "source": [
    "According to the Limit Test:\n",
    "\n",
    "For a series Σa_n, calculate the limit as n approaches infinity of a_n. \n",
    "\n",
    "If the limit is not zero, or does not exist, then the series diverges."
   ]
  },
  {
   "cell_type": "code",
   "execution_count": 3,
   "metadata": {},
   "outputs": [
    {
     "data": {
      "text/latex": [
       "$\\displaystyle \\sum_{n=1}^{\\infty} \\frac{1}{3 n^{2} + 25}$"
      ],
      "text/plain": [
       "Sum(1/(3*n**2 + 25), (n, 1, oo))"
      ]
     },
     "execution_count": 3,
     "metadata": {},
     "output_type": "execute_result"
    }
   ],
   "source": [
    "# 1\n",
    "\n",
    "smp.Sum((1/(3*n**2 + 25)), (n, 1, smp.oo)).doit().evalf() # Converges"
   ]
  },
  {
   "attachments": {},
   "cell_type": "markdown",
   "metadata": {},
   "source": [
    "# 1 - 2\n",
    "\n",
    "Use the limit comparison test to determine if the following series converges or diverges:\n",
    "\n",
    "Σ (n, 1, smp.oo) (5^n / sqrt(n)*4^n)"
   ]
  },
  {
   "cell_type": "code",
   "execution_count": 12,
   "metadata": {},
   "outputs": [
    {
     "data": {
      "text/latex": [
       "$\\displaystyle 6.0 \\cdot 10^{1733841880271840007930036702991581802852106111978367296041482860503581700436613877582723372254341109508046789507819307709372853752}$"
      ],
      "text/plain": [
       "0.e+1733841880271840007930036702991581802852106111978367296041482860503581700436613877582723372254341109508046789507819307709372853753"
      ]
     },
     "execution_count": 12,
     "metadata": {},
     "output_type": "execute_result"
    }
   ],
   "source": [
    "smp.Sum((5**n)/(smp.sqrt(n)*4**n), (n, 1, smp.oo)).evalf() # Diverges"
   ]
  },
  {
   "attachments": {},
   "cell_type": "markdown",
   "metadata": {},
   "source": [
    "# 1 - 3\n",
    "\n",
    "Determine if the series converges or diverges. \n",
    "\n",
    "Σ (n, 1, smp.oo) ((sin^2(n)/2^n))"
   ]
  },
  {
   "cell_type": "code",
   "execution_count": 15,
   "metadata": {},
   "outputs": [
    {
     "data": {
      "text/latex": [
       "$\\displaystyle 0.637464900519472$"
      ],
      "text/plain": [
       "0.637464900519472"
      ]
     },
     "execution_count": 15,
     "metadata": {},
     "output_type": "execute_result"
    }
   ],
   "source": [
    "smp.Sum((smp.sin(n)**2)/(2**n), (n, 1, smp.oo)).evalf() # Converges"
   ]
  },
  {
   "attachments": {},
   "cell_type": "markdown",
   "metadata": {},
   "source": [
    "# 1 - 4\n",
    "\n",
    "Use an appropriate test to determine whether the series converges or diverges:\n",
    "\n",
    "Σ (n, 1, smp.oo) (2n / 5n - 4)"
   ]
  },
  {
   "attachments": {},
   "cell_type": "markdown",
   "metadata": {},
   "source": [
    "N-th Term Test\n",
    "\n",
    "If the limit of the nth term of a series as n approaches infinity is not zero, then the series is divergent."
   ]
  },
  {
   "cell_type": "code",
   "execution_count": 19,
   "metadata": {},
   "outputs": [
    {
     "data": {
      "text/latex": [
       "$\\displaystyle \\infty$"
      ],
      "text/plain": [
       "oo"
      ]
     },
     "execution_count": 19,
     "metadata": {},
     "output_type": "execute_result"
    }
   ],
   "source": [
    "smp.Sum((2*n)/(5*n-4), (n, 1, smp.oo)).doit()"
   ]
  },
  {
   "cell_type": "code",
   "execution_count": 21,
   "metadata": {},
   "outputs": [
    {
     "data": {
      "text/latex": [
       "$\\displaystyle \\frac{2}{5}$"
      ],
      "text/plain": [
       "2/5"
      ]
     },
     "execution_count": 21,
     "metadata": {},
     "output_type": "execute_result"
    }
   ],
   "source": [
    "# N-th Term Test\n",
    "\n",
    "nth = 2*n / (5*n - 4)\n",
    "\n",
    "smp.limit(nth, n, smp.oo) # Divergent "
   ]
  },
  {
   "attachments": {},
   "cell_type": "markdown",
   "metadata": {},
   "source": [
    "# 1 - 5\n",
    "\n",
    "Σ (n, 1, smp.oo) ((10n + 2) / n(n+1)(n+2))"
   ]
  },
  {
   "cell_type": "code",
   "execution_count": 23,
   "metadata": {},
   "outputs": [
    {
     "data": {
      "text/latex": [
       "$\\displaystyle \\frac{11}{2}$"
      ],
      "text/plain": [
       "11/2"
      ]
     },
     "execution_count": 23,
     "metadata": {},
     "output_type": "execute_result"
    }
   ],
   "source": [
    "smp.Sum((10*n+2) / (n*(n+1)*(n+2)), (n, 1, smp.oo)).doit() # Converges"
   ]
  },
  {
   "cell_type": "code",
   "execution_count": 25,
   "metadata": {},
   "outputs": [
    {
     "data": {
      "text/latex": [
       "$\\displaystyle 0$"
      ],
      "text/plain": [
       "0"
      ]
     },
     "execution_count": 25,
     "metadata": {},
     "output_type": "execute_result"
    }
   ],
   "source": [
    "nth = (10*n+2) / (n*(n+1)*(n+2))\n",
    "\n",
    "smp.limit(nth, n, smp.oo) # Converges"
   ]
  },
  {
   "attachments": {},
   "cell_type": "markdown",
   "metadata": {},
   "source": [
    "# 1 - 6\n",
    "\n",
    "Σ (n, 1, smp.oo) (ln(n))^2 / (n^7)"
   ]
  },
  {
   "cell_type": "code",
   "execution_count": 30,
   "metadata": {},
   "outputs": [
    {
     "data": {
      "text/latex": [
       "$\\displaystyle 0.00447631748444388$"
      ],
      "text/plain": [
       "0.00447631748444388"
      ]
     },
     "execution_count": 30,
     "metadata": {},
     "output_type": "execute_result"
    }
   ],
   "source": [
    "smp.Sum(((smp.ln(n))**2) / n**7, (n, 1, smp.oo)).evalf() # Converges"
   ]
  },
  {
   "cell_type": "code",
   "execution_count": 31,
   "metadata": {},
   "outputs": [
    {
     "data": {
      "text/latex": [
       "$\\displaystyle 0$"
      ],
      "text/plain": [
       "0"
      ]
     },
     "execution_count": 31,
     "metadata": {},
     "output_type": "execute_result"
    }
   ],
   "source": [
    "nth = (smp.ln(n))**2 / n**7\n",
    "\n",
    "smp.limit(nth, n, smp.oo) # Converges"
   ]
  },
  {
   "attachments": {},
   "cell_type": "markdown",
   "metadata": {},
   "source": [
    "# 1 - 7\n",
    "\n",
    "Σ (n, 3, smp.oo) (1 / n*sprt(n^2 - 2))"
   ]
  },
  {
   "cell_type": "code",
   "execution_count": 39,
   "metadata": {},
   "outputs": [
    {
     "data": {
      "text/latex": [
       "$\\displaystyle 2.0 \\cdot 10^{130}$"
      ],
      "text/plain": [
       "0.e+130"
      ]
     },
     "execution_count": 39,
     "metadata": {},
     "output_type": "execute_result"
    }
   ],
   "source": [
    "# 7 - 1\n",
    "\n",
    "smp.Sum(((1)/n*smp.sqrt(n**2 - 2)), (n, 3, smp.oo)).evalf() # Converges"
   ]
  },
  {
   "attachments": {},
   "cell_type": "markdown",
   "metadata": {},
   "source": [
    "Σ (n, 4, smp.oo) (1 / n*sprt(n^2 - 9))"
   ]
  },
  {
   "cell_type": "code",
   "execution_count": 41,
   "metadata": {},
   "outputs": [
    {
     "data": {
      "text/latex": [
       "$\\displaystyle 2.0 \\cdot 10^{130}$"
      ],
      "text/plain": [
       "0.e+130"
      ]
     },
     "execution_count": 41,
     "metadata": {},
     "output_type": "execute_result"
    }
   ],
   "source": [
    "# 7 - 2\n",
    "\n",
    "smp.Sum(((1)/n*smp.sqrt(n**2 - 9)), (n, 4, smp.oo)).evalf() # Converges"
   ]
  },
  {
   "attachments": {},
   "cell_type": "markdown",
   "metadata": {},
   "source": [
    "# 1 - 8\n",
    "\n",
    "Σ (n, 1, smp.oo) (sqrt(n) / n^2 + 7)"
   ]
  },
  {
   "cell_type": "code",
   "execution_count": 45,
   "metadata": {},
   "outputs": [
    {
     "data": {
      "text/latex": [
       "$\\displaystyle 1.33583352914393$"
      ],
      "text/plain": [
       "1.33583352914393"
      ]
     },
     "execution_count": 45,
     "metadata": {},
     "output_type": "execute_result"
    }
   ],
   "source": [
    "smp.Sum(smp.sqrt(n) / (n**2 + 7), (n, 1, smp.oo)).evalf() # Converges"
   ]
  },
  {
   "attachments": {},
   "cell_type": "markdown",
   "metadata": {},
   "source": [
    "# 1 - 9\n",
    "\n",
    "Σ (n, 1, smp.oo) (1 / 2^(n-1) + 3)"
   ]
  },
  {
   "cell_type": "code",
   "execution_count": 48,
   "metadata": {},
   "outputs": [
    {
     "data": {
      "text/latex": [
       "$\\displaystyle 0.795280273495371$"
      ],
      "text/plain": [
       "0.795280273495371"
      ]
     },
     "execution_count": 48,
     "metadata": {},
     "output_type": "execute_result"
    }
   ],
   "source": [
    "smp.Sum(1 / (2**(n - 1) + 3), (n, 1, smp.oo)).evalf() # Converges"
   ]
  },
  {
   "cell_type": "code",
   "execution_count": 49,
   "metadata": {},
   "outputs": [
    {
     "data": {
      "text/latex": [
       "$\\displaystyle 0$"
      ],
      "text/plain": [
       "0"
      ]
     },
     "execution_count": 49,
     "metadata": {},
     "output_type": "execute_result"
    }
   ],
   "source": [
    "nth = 1 / (2**(n - 1) + 3)\n",
    "\n",
    "smp.limit(nth, n, smp.oo) # Converges"
   ]
  },
  {
   "attachments": {},
   "cell_type": "markdown",
   "metadata": {},
   "source": [
    "# 2 - 1\n",
    "\n",
    "Use the Ratio Test to determine if the following series converges absolutely or diverges:\n",
    "\n",
    "Σ (n, 1, smp.oo) (11^n / n!)"
   ]
  },
  {
   "attachments": {},
   "cell_type": "markdown",
   "metadata": {},
   "source": [
    "Ratio Test:\n",
    "\n",
    "For a series Σ a_n, if the limit as n approaches infinity of |a_(n+1) / a_n| = L\n",
    "\n",
    "If L < 1, then the series absolutely converges.\n",
    "\n",
    "If L > 1, then the series diverges.\n",
    "\n",
    "If L = 1, then the test is inconclusive."
   ]
  },
  {
   "cell_type": "code",
   "execution_count": 53,
   "metadata": {},
   "outputs": [
    {
     "data": {
      "text/latex": [
       "$\\displaystyle 0$"
      ],
      "text/plain": [
       "0"
      ]
     },
     "execution_count": 53,
     "metadata": {},
     "output_type": "execute_result"
    }
   ],
   "source": [
    "# Define nth term of series\n",
    "series_nth = 11**n / smp.factorial(n)\n",
    "\n",
    "# Define (n+1)th term of series\n",
    "series_nth_plus1 = series_nth.subs(n, n+1)\n",
    "\n",
    "# Compute ratio of (n+1)th term of nth term\n",
    "ratio = series_nth_plus1 / series_nth\n",
    "\n",
    "# Compute limit as n approaches infinity\n",
    "smp.limit(ratio, n, smp.oo)\n",
    "\n",
    "# 0 means that the series absolutely converges according to Ratio Test"
   ]
  },
  {
   "attachments": {},
   "cell_type": "markdown",
   "metadata": {},
   "source": [
    "# 2 - 2\n",
    "\n",
    "Use Ratio Test:\n",
    "\n",
    "Σ (n, 1, smp.oo) ((-1)^n) ((n^2)(n+7)!) / n! * 5^3n"
   ]
  },
  {
   "cell_type": "code",
   "execution_count": 80,
   "metadata": {},
   "outputs": [
    {
     "data": {
      "text/latex": [
       "$\\displaystyle \\frac{1}{125}$"
      ],
      "text/plain": [
       "1/125"
      ]
     },
     "execution_count": 80,
     "metadata": {},
     "output_type": "execute_result"
    }
   ],
   "source": [
    "# 2 - 1\n",
    "\n",
    "# Define the nth term of the series\n",
    "series_nth_term = ((-1)**n * n**2 * smp.factorial(n+7)) / (smp.factorial(n) * 5**(3*n))\n",
    "\n",
    "# Define the (n+1)th term of the series\n",
    "series_n_plus_1_term = series_nth_term.subs(n, n+1)\n",
    "\n",
    "# Compute the ratio of the (n+1)th term to the nth term\n",
    "ratio = smp.Abs(series_n_plus_1_term / series_nth_term)\n",
    "\n",
    "# Compute the limit of the ratio as n approaches infinity\n",
    "smp.limit(ratio, n, smp.oo)\n",
    "\n",
    "# (1/125) converges absolutely"
   ]
  },
  {
   "attachments": {},
   "cell_type": "markdown",
   "metadata": {},
   "source": [
    "Σ (n, 1, smp.oo) ((-1)^n) ((n^2)(n+7)!) / n! * 6^2n"
   ]
  },
  {
   "cell_type": "code",
   "execution_count": 83,
   "metadata": {},
   "outputs": [
    {
     "data": {
      "text/latex": [
       "$\\displaystyle \\frac{1}{36}$"
      ],
      "text/plain": [
       "1/36"
      ]
     },
     "execution_count": 83,
     "metadata": {},
     "output_type": "execute_result"
    }
   ],
   "source": [
    "# 2 - 2\n",
    "\n",
    "# Define the nth term of the series\n",
    "series_nth_term = ((-1)**n * n**2 * smp.factorial(n+7)) / (smp.factorial(n) * 6**(2*n))\n",
    "\n",
    "# Define the (n+1)th term of the series\n",
    "series_n_plus_1_term = series_nth_term.subs(n, n+1)\n",
    "\n",
    "# Compute the ratio of the (n+1)th term to the nth term\n",
    "ratio = smp.Abs(series_n_plus_1_term / series_nth_term)\n",
    "\n",
    "# Compute the limit of the ratio as n approaches infinity\n",
    "smp.limit(ratio, n, smp.oo)\n",
    "\n",
    "# (1/36) converges absolutely"
   ]
  },
  {
   "attachments": {},
   "cell_type": "markdown",
   "metadata": {},
   "source": [
    "# 2 - 3\n",
    "\n",
    "Use the Root Test:\n",
    "\n",
    "Σ (n, 1, smp.oo) ((-1)**n) * (1 + (4/n)^(n^2))"
   ]
  },
  {
   "attachments": {},
   "cell_type": "markdown",
   "metadata": {},
   "source": [
    "\n",
    "The Root Test is a method used to determine if a series converges or diverges. The test states that:\n",
    "\n",
    "For a series Σa_n, compute the limit as n approaches infinity of the nth root of the absolute value of a_n (|a_n|^(1/n)), and let this limit be L.\n",
    "\n",
    "If L < 1, then the series converges absolutely.\n",
    "\n",
    "If L > 1, then the series diverges.\n",
    "\n",
    "If L = 1, then the test is inconclusive."
   ]
  },
  {
   "cell_type": "code",
   "execution_count": 93,
   "metadata": {},
   "outputs": [
    {
     "data": {
      "text/latex": [
       "$\\displaystyle 54.5981500331442$"
      ],
      "text/plain": [
       "54.5981500331442"
      ]
     },
     "execution_count": 93,
     "metadata": {},
     "output_type": "execute_result"
    }
   ],
   "source": [
    "# Define nth term of series\n",
    "series_nth = ((-1)**n) * ((1 + (4/n))**(n**2))\n",
    "\n",
    "# Define nth root of abs val of nth term\n",
    "root_term = smp.Abs(series_nth)**(1/n)\n",
    "\n",
    "# Compute limit of root\n",
    "smp.limit(root_term, n, smp.oo).evalf()\n",
    "\n",
    "# e^4 is greater than 1; series diverges"
   ]
  },
  {
   "attachments": {},
   "cell_type": "markdown",
   "metadata": {},
   "source": [
    "# 2 - 4\n",
    "\n",
    "Use any method to determine if series converges or diverges:\n",
    "\n",
    "Σ (n, 1, smp.oo) ((-1)^n)(n^2)(e^(-8n))"
   ]
  },
  {
   "cell_type": "code",
   "execution_count": 96,
   "metadata": {},
   "outputs": [
    {
     "data": {
      "text/latex": [
       "$\\displaystyle -0.000335012826763223$"
      ],
      "text/plain": [
       "-0.000335012826763223"
      ]
     },
     "execution_count": 96,
     "metadata": {},
     "output_type": "execute_result"
    }
   ],
   "source": [
    "smp.Sum((((-1)**n)*n**2)*smp.exp(-8*n), (n, 1, smp.oo)).evalf()"
   ]
  },
  {
   "cell_type": "code",
   "execution_count": 103,
   "metadata": {},
   "outputs": [
    {
     "data": {
      "text/latex": [
       "$\\displaystyle 0.000335462627902512$"
      ],
      "text/plain": [
       "0.000335462627902512"
      ]
     },
     "execution_count": 103,
     "metadata": {},
     "output_type": "execute_result"
    }
   ],
   "source": [
    "# Root Test\n",
    "\n",
    "# *** ROOT TEST *** ABS VAL ***\n",
    "\n",
    "# Define nth term of series\n",
    "series_nth = (((-1)**n)*n**2)*smp.exp(-8*n)\n",
    "\n",
    "# Define nth root of abs val of nth term\n",
    "root_term = smp.Abs(series_nth)**(1/n)\n",
    "\n",
    "# Compute limit of root\n",
    "smp.limit(root_term, n, smp.oo).evalf()\n",
    "\n",
    "# Less than 1; converges"
   ]
  },
  {
   "cell_type": "code",
   "execution_count": 102,
   "metadata": {},
   "outputs": [
    {
     "data": {
      "text/latex": [
       "$\\displaystyle -0.000335462627902512$"
      ],
      "text/plain": [
       "-0.000335462627902512"
      ]
     },
     "execution_count": 102,
     "metadata": {},
     "output_type": "execute_result"
    }
   ],
   "source": [
    "# Ratio Test\n",
    "\n",
    "# Define nth term of series\n",
    "series_nth = (((-1)**n)*n**2)*smp.exp(-8*n)\n",
    "\n",
    "# Define (n+1)th term of series\n",
    "series_nth_plus1 = series_nth.subs(n, n+1)\n",
    "\n",
    "# Compute ratio of (n+1)th term of nth term\n",
    "ratio = series_nth_plus1 / series_nth\n",
    "\n",
    "# Compute limit as n approaches infinity\n",
    "smp.limit(ratio, n, smp.oo).evalf()\n",
    "\n",
    "# Less than 1; converges"
   ]
  },
  {
   "attachments": {},
   "cell_type": "markdown",
   "metadata": {},
   "source": [
    "Σ (n, 1, smp.oo) ((-1)^n)(n^2)(e^(-13n))"
   ]
  },
  {
   "cell_type": "code",
   "execution_count": 108,
   "metadata": {},
   "outputs": [
    {
     "data": {
      "text/latex": [
       "$\\displaystyle - \\frac{1}{e^{13}}$"
      ],
      "text/plain": [
       "-exp(-13)"
      ]
     },
     "execution_count": 108,
     "metadata": {},
     "output_type": "execute_result"
    }
   ],
   "source": [
    "# Ratio Test\n",
    "\n",
    "# *** RATIO TEST *** ABS VAL ***\n",
    "\n",
    "# Define nth term of series\n",
    "series_nth = (((-1)**n)*n**2)*smp.exp(-13*n)\n",
    "\n",
    "# Define (n+1)th term of series\n",
    "series_nth_plus1 = series_nth.subs(n, n+1)\n",
    "\n",
    "# Compute ratio of (n+1)th term of nth term\n",
    "ratio = series_nth_plus1 / series_nth\n",
    "\n",
    "# Compute limit as n approaches infinity\n",
    "smp.limit(ratio, n, smp.oo)\n",
    "\n",
    "# Less than 1; converges\n",
    "# ANSWER IS IN ABS VAL"
   ]
  },
  {
   "attachments": {},
   "cell_type": "markdown",
   "metadata": {},
   "source": [
    "# 2 - 5\n",
    "\n",
    "Σ (n, 1, smp.oo) (n! / 9^n)"
   ]
  },
  {
   "cell_type": "code",
   "execution_count": 114,
   "metadata": {},
   "outputs": [
    {
     "data": {
      "text/latex": [
       "$\\displaystyle \\sum_{n=1}^{\\infty} 9^{- n} n!$"
      ],
      "text/plain": [
       "Sum(factorial(n)/9**n, (n, 1, oo))"
      ]
     },
     "execution_count": 114,
     "metadata": {},
     "output_type": "execute_result"
    }
   ],
   "source": [
    "smp.Sum((smp.factorial(n)) / 9**n, (n, 1, smp.oo))"
   ]
  },
  {
   "cell_type": "code",
   "execution_count": 116,
   "metadata": {},
   "outputs": [
    {
     "data": {
      "text/latex": [
       "$\\displaystyle \\infty$"
      ],
      "text/plain": [
       "oo"
      ]
     },
     "execution_count": 116,
     "metadata": {},
     "output_type": "execute_result"
    }
   ],
   "source": [
    "# Limit Test\n",
    "\n",
    "nth = (smp.factorial(n)) / 9**n\n",
    "\n",
    "smp.limit(nth, n, smp.oo) # Diverges"
   ]
  },
  {
   "attachments": {},
   "cell_type": "markdown",
   "metadata": {},
   "source": [
    "Σ (n, 1, smp.oo) (n! / 24^n)"
   ]
  },
  {
   "cell_type": "code",
   "execution_count": 117,
   "metadata": {},
   "outputs": [
    {
     "data": {
      "text/latex": [
       "$\\displaystyle \\infty$"
      ],
      "text/plain": [
       "oo"
      ]
     },
     "execution_count": 117,
     "metadata": {},
     "output_type": "execute_result"
    }
   ],
   "source": [
    "nth = (smp.factorial(n)) / 24**n\n",
    "\n",
    "smp.limit(nth, n, smp.oo) # Diverges"
   ]
  },
  {
   "attachments": {},
   "cell_type": "markdown",
   "metadata": {},
   "source": [
    "# 2 - 6\n",
    "\n",
    "Σ (n, 1, smp.oo) (e^n / n^e)"
   ]
  },
  {
   "cell_type": "code",
   "execution_count": 127,
   "metadata": {},
   "outputs": [
    {
     "data": {
      "text/latex": [
       "$\\displaystyle \\infty$"
      ],
      "text/plain": [
       "oo"
      ]
     },
     "execution_count": 127,
     "metadata": {},
     "output_type": "execute_result"
    }
   ],
   "source": [
    "# Limit Test\n",
    "\n",
    "nth = (smp.exp(n) / n**smp.exp(1))\n",
    "\n",
    "smp.limit(nth, n, smp.oo)"
   ]
  },
  {
   "attachments": {},
   "cell_type": "markdown",
   "metadata": {},
   "source": [
    "# 2 - 7\n",
    "\n",
    "Σ (n, 1, smp.oo) (n! / (2n + 7)!)"
   ]
  },
  {
   "cell_type": "code",
   "execution_count": 128,
   "metadata": {},
   "outputs": [
    {
     "data": {
      "text/latex": [
       "$\\displaystyle 0$"
      ],
      "text/plain": [
       "0"
      ]
     },
     "execution_count": 128,
     "metadata": {},
     "output_type": "execute_result"
    }
   ],
   "source": [
    "# Ratio Test\n",
    "\n",
    "# *** RATIO TEST *** ABS VAL ***\n",
    "\n",
    "# Define nth term of series\n",
    "series_nth = smp.factorial(n) / smp.factorial(2*n + 7)\n",
    "\n",
    "# Define (n+1)th term of series\n",
    "series_nth_plus1 = series_nth.subs(n, n+1)\n",
    "\n",
    "# Compute ratio of (n+1)th term of nth term\n",
    "ratio = series_nth_plus1 / series_nth\n",
    "\n",
    "# Compute limit as n approaches infinity\n",
    "smp.limit(ratio, n, smp.oo)\n",
    "\n",
    "# Less than 1; converges\n",
    "# ANSWER IS IN ABS VAL"
   ]
  },
  {
   "attachments": {},
   "cell_type": "markdown",
   "metadata": {},
   "source": [
    "# 2 - 8\n",
    "\n",
    "Σ (n, 1, smp.oo) ((n!)^8) / (8n)!"
   ]
  },
  {
   "cell_type": "code",
   "execution_count": 129,
   "metadata": {},
   "outputs": [
    {
     "data": {
      "text/latex": [
       "$\\displaystyle \\frac{1}{16777216}$"
      ],
      "text/plain": [
       "1/16777216"
      ]
     },
     "execution_count": 129,
     "metadata": {},
     "output_type": "execute_result"
    }
   ],
   "source": [
    "# Ratio Test\n",
    "\n",
    "# *** RATIO TEST *** ABS VAL ***\n",
    "\n",
    "# Define nth term of series\n",
    "series_nth = (smp.factorial(n)**8) / smp.factorial(8*n)\n",
    "\n",
    "# Define (n+1)th term of series\n",
    "series_nth_plus1 = series_nth.subs(n, n+1)\n",
    "\n",
    "# Compute ratio of (n+1)th term of nth term\n",
    "ratio = series_nth_plus1 / series_nth\n",
    "\n",
    "# Compute limit as n approaches infinity\n",
    "smp.limit(ratio, n, smp.oo)\n",
    "\n",
    "# Less than 1; converges\n",
    "# ANSWER IS IN ABS VAL"
   ]
  },
  {
   "attachments": {},
   "cell_type": "markdown",
   "metadata": {},
   "source": [
    "# 3 - 1\n",
    "\n",
    "Determine whether the alternating series converges or diverges:\n",
    "\n",
    "Σ (n, 2, smp.oo) ((-1)^(n+1)) (3/(7ln(n)))"
   ]
  },
  {
   "attachments": {},
   "cell_type": "markdown",
   "metadata": {},
   "source": [
    "Alternating Series Test states that an alternating series converges if:\n",
    "\n",
    "The terms are decreasing: a_(n+1) <= a_n for all n\n",
    "\n",
    "The limit of the absolute value of the terms as n approaches infinity is zero: lim (n->∞) \n",
    "\n",
    "|a_n| = 0"
   ]
  },
  {
   "cell_type": "code",
   "execution_count": 135,
   "metadata": {},
   "outputs": [
    {
     "data": {
      "text/latex": [
       "$\\displaystyle \\sum_{n=2}^{\\infty} \\frac{3 \\left(-1\\right)^{n + 1}}{7 \\log{\\left(n \\right)}}$"
      ],
      "text/plain": [
       "Sum(3*(-1)**(n + 1)/(7*log(n)), (n, 2, oo))"
      ]
     },
     "execution_count": 135,
     "metadata": {},
     "output_type": "execute_result"
    }
   ],
   "source": [
    "smp.Sum(((-1)**(n+1)) * ((3 / (7*smp.log(n)))), (n, 2, smp.oo))"
   ]
  },
  {
   "cell_type": "code",
   "execution_count": 137,
   "metadata": {},
   "outputs": [
    {
     "data": {
      "text/latex": [
       "$\\displaystyle 0$"
      ],
      "text/plain": [
       "0"
      ]
     },
     "execution_count": 137,
     "metadata": {},
     "output_type": "execute_result"
    }
   ],
   "source": [
    "nth = ((-1)**(n+1)) * ((3 / (7*smp.log(n))))\n",
    "\n",
    "smp.limit(smp.Abs(nth), n, smp.oo)"
   ]
  },
  {
   "cell_type": "code",
   "execution_count": 141,
   "metadata": {},
   "outputs": [
    {
     "data": {
      "text/latex": [
       "$\\displaystyle \\frac{3 \\left(-1\\right)^{n} \\left(- \\log{\\left(n \\right)} - \\log{\\left(n + 1 \\right)}\\right)}{7 \\log{\\left(n \\right)} \\log{\\left(n + 1 \\right)}} \\geq 0$"
      ],
      "text/plain": [
       "3*(-1)**n*(-log(n) - log(n + 1))/(7*log(n)*log(n + 1)) >= 0"
      ]
     },
     "execution_count": 141,
     "metadata": {},
     "output_type": "execute_result"
    }
   ],
   "source": [
    "nth_plus1 = nth.subs(n, n+1)\n",
    "\n",
    "decreasing = smp.simplify(nth - nth_plus1) >= 0\n",
    "\n",
    "decreasing"
   ]
  },
  {
   "attachments": {},
   "cell_type": "markdown",
   "metadata": {},
   "source": [
    "# 3 - 2\n",
    "\n",
    "Converge absolutely, converge conditionally, or diverge?\n",
    "\n",
    "Σ (n, 1, smp.oo) ((-1)^(n+1)) * (n^3 / n^7 + 2)"
   ]
  },
  {
   "cell_type": "code",
   "execution_count": 148,
   "metadata": {},
   "outputs": [
    {
     "data": {
      "text/latex": [
       "$\\displaystyle -0.414683224249251$"
      ],
      "text/plain": [
       "-0.414683224249251"
      ]
     },
     "execution_count": 148,
     "metadata": {},
     "output_type": "execute_result"
    }
   ],
   "source": [
    "smp.Sum((-1**(n+1)) * ((n**3 / (n**7 + 2))), (n, 1, smp.oo)).evalf()\n",
    "# Converges absolutely per Comparison test 1/n^4"
   ]
  },
  {
   "attachments": {},
   "cell_type": "markdown",
   "metadata": {},
   "source": [
    "# 3 - 3\n",
    "\n",
    "Converge absolutely, converge conditionally, or diverge?\n",
    "\n",
    "Σ (n, 1, smp.oo) (-1**(n+1)) * ((5+n)/(9+n))"
   ]
  },
  {
   "cell_type": "code",
   "execution_count": 152,
   "metadata": {},
   "outputs": [
    {
     "data": {
      "text/latex": [
       "$\\displaystyle -\\infty$"
      ],
      "text/plain": [
       "-oo"
      ]
     },
     "execution_count": 152,
     "metadata": {},
     "output_type": "execute_result"
    }
   ],
   "source": [
    "smp.Sum((-1**(n+1)) * ((5+n)/(9+n)), (n, 1, smp.oo)).doit()\n",
    "# Diverges because limit used in the nth-Term Test is not zero"
   ]
  },
  {
   "attachments": {},
   "cell_type": "markdown",
   "metadata": {},
   "source": [
    "# 3 - 4\n",
    "\n",
    "Converge absolutely, converge conditionally, or diverge?\n",
    "\n",
    "Σ (n, 1, smp.oo) (-1**(n+1)) * ((1+n)/(n^2))"
   ]
  },
  {
   "cell_type": "code",
   "execution_count": 156,
   "metadata": {},
   "outputs": [
    {
     "data": {
      "text/latex": [
       "$\\displaystyle -\\infty$"
      ],
      "text/plain": [
       "-oo"
      ]
     },
     "execution_count": 156,
     "metadata": {},
     "output_type": "execute_result"
    }
   ],
   "source": [
    "smp.Sum((-1**(n+1)) * ((1+n)/(n**2)), (n, 1, smp.oo)).doit()\n",
    "# Converges conditionally per Alternating Series Test and Comparison Test with smp.Sum((1/n), (n, 1, smp.oo))"
   ]
  },
  {
   "attachments": {},
   "cell_type": "markdown",
   "metadata": {},
   "source": [
    "# 3 - 5\n",
    "\n",
    "Converge absolutely, converge conditionally, or diverge?\n",
    "\n",
    "Σ (n, 1, smp.oo) (-1**(n)) * (n**2) * ((2/5)^n)"
   ]
  },
  {
   "cell_type": "code",
   "execution_count": 162,
   "metadata": {},
   "outputs": [
    {
     "data": {
      "text/latex": [
       "$\\displaystyle \\sum_{n=1}^{\\infty} - 0.4^{n} n^{2}$"
      ],
      "text/plain": [
       "Sum(-0.4**n*n**2, (n, 1, oo))"
      ]
     },
     "execution_count": 162,
     "metadata": {},
     "output_type": "execute_result"
    }
   ],
   "source": [
    "smp.Sum((-1**(n))*(n**2) * (2/5)**n, (n, 1, smp.oo))"
   ]
  },
  {
   "cell_type": "code",
   "execution_count": 161,
   "metadata": {},
   "outputs": [
    {
     "data": {
      "text/latex": [
       "$\\displaystyle \\frac{2}{5}$"
      ],
      "text/plain": [
       "2/5"
      ]
     },
     "execution_count": 161,
     "metadata": {},
     "output_type": "execute_result"
    }
   ],
   "source": [
    "# Ratio Test\n",
    "\n",
    "# *** RATIO TEST *** ABS VAL ***\n",
    "\n",
    "# Define nth term of series\n",
    "series_nth = (-1**(n))*(n**2) * (2/5)**n\n",
    "\n",
    "# Define (n+1)th term of series\n",
    "series_nth_plus1 = series_nth.subs(n, n+1)\n",
    "\n",
    "# Compute ratio of (n+1)th term of nth term\n",
    "ratio = series_nth_plus1 / series_nth\n",
    "\n",
    "# Compute limit as n approaches infinity\n",
    "smp.limit(ratio, n, smp.oo)\n",
    "\n",
    "# Less than 1; converges\n",
    "# ANSWER IS IN ABS VAL"
   ]
  },
  {
   "attachments": {},
   "cell_type": "markdown",
   "metadata": {},
   "source": [
    "# 3 - 6\n",
    "\n",
    "Converge absolutely, converge conditionally, or diverge?\n",
    "\n",
    "Σ (n, 1, smp.oo) (-1**(n)) * (n/(n+8))"
   ]
  },
  {
   "cell_type": "code",
   "execution_count": 165,
   "metadata": {},
   "outputs": [
    {
     "data": {
      "text/latex": [
       "$\\displaystyle -\\infty$"
      ],
      "text/plain": [
       "-oo"
      ]
     },
     "execution_count": 165,
     "metadata": {},
     "output_type": "execute_result"
    }
   ],
   "source": [
    "smp.Sum((-1**(n)) * (n/(n+8)), (n, 1, smp.oo)).doit()\n",
    "# Diverges because limit used in nth-Term Test is different from 0"
   ]
  },
  {
   "attachments": {},
   "cell_type": "markdown",
   "metadata": {},
   "source": [
    "# 3 - 7\n",
    "\n",
    "Converge absolutely, converge conditionally, or diverge?\n",
    "\n",
    "Σ (n, 1, smp.oo) [((-1)**n) / (n^2 + 6n + 7)]"
   ]
  },
  {
   "cell_type": "code",
   "execution_count": 169,
   "metadata": {},
   "outputs": [
    {
     "data": {
      "text/latex": [
       "$\\displaystyle -0.300332449442237$"
      ],
      "text/plain": [
       "-0.300332449442237"
      ]
     },
     "execution_count": 169,
     "metadata": {},
     "output_type": "execute_result"
    }
   ],
   "source": [
    "smp.Sum(((-1**n)/(n**2 + 6*n + 7)), (n, 1, smp.oo)).doit().evalf()\n",
    "# Converges absolutely per Comparison Test with smp.Sum(1/n**2)"
   ]
  },
  {
   "attachments": {},
   "cell_type": "markdown",
   "metadata": {},
   "source": [
    "# 3 - 8\n",
    "\n",
    "Converge absolutely, converge conditionally, or diverge?\n",
    "\n",
    "Σ (n, 1, smp.oo) (((-1)^n)*(n+2)^2) / (4n)^n"
   ]
  },
  {
   "cell_type": "code",
   "execution_count": 183,
   "metadata": {},
   "outputs": [
    {
     "data": {
      "text/latex": [
       "$\\displaystyle \\sum_{n=1}^{\\infty} - \\left(4 n\\right)^{- n} \\left(n + 2\\right)^{n}$"
      ],
      "text/plain": [
       "Sum(-(n + 2)**n/(4*n)**n, (n, 1, oo))"
      ]
     },
     "execution_count": 183,
     "metadata": {},
     "output_type": "execute_result"
    }
   ],
   "source": [
    "smp.Sum(((-1**n)*(n+2)**n) / ((4*n)**n), (n, 1, smp.oo))"
   ]
  },
  {
   "cell_type": "code",
   "execution_count": 182,
   "metadata": {},
   "outputs": [
    {
     "data": {
      "text/latex": [
       "$\\displaystyle 0.25$"
      ],
      "text/plain": [
       "0.250000000000000"
      ]
     },
     "execution_count": 182,
     "metadata": {},
     "output_type": "execute_result"
    }
   ],
   "source": [
    "# Ratio Test\n",
    "\n",
    "# Define nth term of series\n",
    "series_nth = ((-1**n)*(n+2)**n) / ((4*n)**n)\n",
    "\n",
    "# Define (n+1)th term of series\n",
    "series_nth_plus1 = series_nth.subs(n, n+1)\n",
    "\n",
    "# Compute ratio of (n+1)th term of nth term\n",
    "ratio = series_nth_plus1 / series_nth\n",
    "\n",
    "# Compute limit as n approaches infinity\n",
    "smp.limit(ratio, n, smp.oo).evalf()\n",
    "\n",
    "# Less than 1; absolutely converges"
   ]
  },
  {
   "attachments": {},
   "cell_type": "markdown",
   "metadata": {},
   "source": [
    "Σ (n, 1, smp.oo) (((-1)^n)*(n+1)^2) / (4n)^n"
   ]
  },
  {
   "cell_type": "code",
   "execution_count": 191,
   "metadata": {},
   "outputs": [
    {
     "data": {
      "text/latex": [
       "$\\displaystyle \\sum_{n=1}^{\\infty} - \\left(4 n\\right)^{- n} \\left(n + 1\\right)^{n}$"
      ],
      "text/plain": [
       "Sum(-(n + 1)**n/(4*n)**n, (n, 1, oo))"
      ]
     },
     "execution_count": 191,
     "metadata": {},
     "output_type": "execute_result"
    }
   ],
   "source": [
    "smp.Sum(((-1**n)*(n+1)**n) / ((4*n)**n), (n, 1, smp.oo))"
   ]
  },
  {
   "cell_type": "code",
   "execution_count": 192,
   "metadata": {},
   "outputs": [
    {
     "data": {
      "text/latex": [
       "$\\displaystyle 0.25$"
      ],
      "text/plain": [
       "0.250000000000000"
      ]
     },
     "execution_count": 192,
     "metadata": {},
     "output_type": "execute_result"
    }
   ],
   "source": [
    "# Root Test\n",
    "\n",
    "# *** ROOT TEST *** ABS VAL ***\n",
    "\n",
    "# Define nth term of series\n",
    "series_nth = ((-1**n)*(n+1)**n) / ((4*n)**n)\n",
    "\n",
    "# Define nth root of abs val of nth term\n",
    "root_term = smp.Abs(series_nth)**(1/n)\n",
    "\n",
    "# Compute limit of root\n",
    "smp.limit(root_term, n, smp.oo).evalf()\n",
    "\n",
    "# Series converges absolutely because limit used in Root Test is (1/4)"
   ]
  },
  {
   "cell_type": "code",
   "execution_count": null,
   "metadata": {},
   "outputs": [],
   "source": []
  }
 ],
 "metadata": {
  "kernelspec": {
   "display_name": "Env1",
   "language": "python",
   "name": "python3"
  },
  "language_info": {
   "codemirror_mode": {
    "name": "ipython",
    "version": 3
   },
   "file_extension": ".py",
   "mimetype": "text/x-python",
   "name": "python",
   "nbconvert_exporter": "python",
   "pygments_lexer": "ipython3",
   "version": "3.10.10"
  },
  "orig_nbformat": 4
 },
 "nbformat": 4,
 "nbformat_minor": 2
}
