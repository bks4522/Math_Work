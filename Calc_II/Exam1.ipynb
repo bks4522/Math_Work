{
 "cells": [
  {
   "cell_type": "code",
   "execution_count": 1,
   "metadata": {},
   "outputs": [],
   "source": [
    "import sympy as smp\n",
    "from sympy import *\n",
    "\n",
    "x, y, t, n, a, b, c, r, u, s = smp.symbols('x y t n a b c r u s')\n",
    "f, g, m = smp.symbols('f g m', cls=smp.Function)"
   ]
  },
  {
   "cell_type": "code",
   "execution_count": 2,
   "metadata": {},
   "outputs": [
    {
     "data": {
      "text/latex": [
       "$\\displaystyle \\frac{6 \\cdot \\sqrt[4]{2} \\left(2 x^{3} + 3\\right)^{\\frac{5}{4}}}{5}$"
      ],
      "text/plain": [
       "6*2**(1/4)*(2*x**3 + 3)**(5/4)/5"
      ]
     },
     "execution_count": 2,
     "metadata": {},
     "output_type": "execute_result"
    }
   ],
   "source": [
    "# 1\n",
    "ans = smp.integrate((9*x**2)*smp.root(6+4*x**3, 4), x).simplify() # + C\n",
    "ans\n",
    "# This is mathematically equivalent to:\n",
    "# (3/5)(6+4x^3)^(5/4)\n",
    "# To prove this, I set the variable 'ans' to the take the derivative of the integral, yielding the original problem. "
   ]
  },
  {
   "cell_type": "code",
   "execution_count": 140,
   "metadata": {},
   "outputs": [
    {
     "data": {
      "text/latex": [
       "$\\displaystyle 9 x^{2} \\sqrt[4]{4 x^{3} + 6}$"
      ],
      "text/plain": [
       "9*x**2*(4*x**3 + 6)**(1/4)"
      ]
     },
     "execution_count": 140,
     "metadata": {},
     "output_type": "execute_result"
    }
   ],
   "source": [
    "# 1\n",
    "smp.diff(ans).simplify()"
   ]
  },
  {
   "cell_type": "code",
   "execution_count": 46,
   "metadata": {},
   "outputs": [
    {
     "data": {
      "text/latex": [
       "$\\displaystyle \\frac{1}{5 \\left(\\cos{\\left(t \\right)} + 10\\right)^{5}}$"
      ],
      "text/plain": [
       "1/(5*(cos(t) + 10)**5)"
      ]
     },
     "execution_count": 46,
     "metadata": {},
     "output_type": "execute_result"
    }
   ],
   "source": [
    "# 2\n",
    "smp.integrate((smp.sin(t))/(10+smp.cos(t))**6, t).simplify() # + C"
   ]
  },
  {
   "cell_type": "code",
   "execution_count": 49,
   "metadata": {},
   "outputs": [
    {
     "data": {
      "text/latex": [
       "$\\displaystyle -8 + 2 \\sqrt{19}$"
      ],
      "text/plain": [
       "-8 + 2*sqrt(19)"
      ]
     },
     "execution_count": 49,
     "metadata": {},
     "output_type": "execute_result"
    }
   ],
   "source": [
    "# 3\n",
    "smp.integrate((6*x)/sqrt(16+3*x**2), (x, 0, 1))"
   ]
  },
  {
   "cell_type": "code",
   "execution_count": 13,
   "metadata": {},
   "outputs": [
    {
     "data": {
      "text/latex": [
       "$\\displaystyle \\frac{32}{3}$"
      ],
      "text/plain": [
       "32/3"
      ]
     },
     "execution_count": 13,
     "metadata": {},
     "output_type": "execute_result"
    }
   ],
   "source": [
    "# 4\n",
    "y1 = 2*x - x**2\n",
    "y2 = 2*x - 4\n",
    "\n",
    "# Points of intersection\n",
    "inter_points = smp.solve(y1 - y2, x)\n",
    "# 0, 3\n",
    "\n",
    "a = inter_points[0]\n",
    "b = inter_points[1]\n",
    "\n",
    "# Area\n",
    "smp.integrate(y1 - y2, (x, a, b))"
   ]
  },
  {
   "cell_type": "code",
   "execution_count": 19,
   "metadata": {},
   "outputs": [
    {
     "data": {
      "text/latex": [
       "$\\displaystyle 0.135155036036055$"
      ],
      "text/plain": [
       "0.135155036036055"
      ]
     },
     "execution_count": 19,
     "metadata": {},
     "output_type": "execute_result"
    }
   ],
   "source": [
    "# 5\n",
    "smp.integrate((smp.sec(3*x)**2)/(2+smp.tan(3*x)), (x, 0, (smp.pi/12))).evalf()"
   ]
  },
  {
   "cell_type": "code",
   "execution_count": 66,
   "metadata": {},
   "outputs": [
    {
     "data": {
      "text/latex": [
       "$\\displaystyle 0.135155036036055$"
      ],
      "text/plain": [
       "0.135155036036055"
      ]
     },
     "execution_count": 66,
     "metadata": {},
     "output_type": "execute_result"
    }
   ],
   "source": [
    "# 5\n",
    "(1/3)*ln(3/2)"
   ]
  },
  {
   "cell_type": "code",
   "execution_count": 71,
   "metadata": {},
   "outputs": [
    {
     "data": {
      "text/latex": [
       "$\\displaystyle 2 \\sqrt{3} e^{\\sqrt{3} \\sqrt{x}}$"
      ],
      "text/plain": [
       "2*sqrt(3)*exp(sqrt(3)*sqrt(x))"
      ]
     },
     "execution_count": 71,
     "metadata": {},
     "output_type": "execute_result"
    }
   ],
   "source": [
    "# 6\n",
    "smp.integrate((6*smp.exp(sqrt(3*x)))/(2*sqrt(x)), x) # + C"
   ]
  },
  {
   "cell_type": "code",
   "execution_count": 75,
   "metadata": {},
   "outputs": [
    {
     "data": {
      "text/latex": [
       "$\\displaystyle \\begin{cases} 6 \\sqrt{x - 4} \\left(x + 8\\right) & \\text{for}\\: x > 4 \\vee x < -4 \\\\6 i \\sqrt{4 - x} \\left(x + 8\\right) & \\text{otherwise} \\end{cases}$"
      ],
      "text/plain": [
       "Piecewise((6*sqrt(x - 4)*(x + 8), (x > 4) | (x < -4)), (6*I*sqrt(4 - x)*(x + 8), True))"
      ]
     },
     "execution_count": 75,
     "metadata": {},
     "output_type": "execute_result"
    }
   ],
   "source": [
    "# 7\n",
    "smp.integrate((9*x)/sqrt(x-4), x).simplify() # + C"
   ]
  },
  {
   "cell_type": "code",
   "execution_count": 78,
   "metadata": {},
   "outputs": [
    {
     "data": {
      "text/latex": [
       "$\\displaystyle - \\sqrt{49 - x^{2}} + 7 \\operatorname{asin}{\\left(\\frac{x}{7} \\right)}$"
      ],
      "text/plain": [
       "-sqrt(49 - x**2) + 7*asin(x/7)"
      ]
     },
     "execution_count": 78,
     "metadata": {},
     "output_type": "execute_result"
    }
   ],
   "source": [
    "# 8\n",
    "smp.integrate((7+x)/sqrt(49-x**2), x) # + C"
   ]
  },
  {
   "cell_type": "code",
   "execution_count": 20,
   "metadata": {},
   "outputs": [
    {
     "data": {
      "text/latex": [
       "$\\displaystyle \\frac{1}{17}$"
      ],
      "text/plain": [
       "1/17"
      ]
     },
     "execution_count": 20,
     "metadata": {},
     "output_type": "execute_result"
    }
   ],
   "source": [
    "# 9\n",
    "smp.integrate((smp.exp(-x))*smp.cos(4*x), (x, 0, smp.oo))"
   ]
  },
  {
   "cell_type": "code",
   "execution_count": 21,
   "metadata": {},
   "outputs": [
    {
     "data": {
      "text/latex": [
       "$\\displaystyle \\frac{\\left(2 x^{2} - 2 x + 1\\right) e^{2 x}}{4}$"
      ],
      "text/plain": [
       "(2*x**2 - 2*x + 1)*exp(2*x)/4"
      ]
     },
     "execution_count": 21,
     "metadata": {},
     "output_type": "execute_result"
    }
   ],
   "source": [
    "# 10\n",
    "smp.integrate((smp.exp(2*x))*(x**2), x) # + C"
   ]
  },
  {
   "cell_type": "code",
   "execution_count": 88,
   "metadata": {},
   "outputs": [
    {
     "data": {
      "text/latex": [
       "$\\displaystyle 2$"
      ],
      "text/plain": [
       "2"
      ]
     },
     "execution_count": 88,
     "metadata": {},
     "output_type": "execute_result"
    }
   ],
   "source": [
    "# 11\n",
    "smp.integrate((15*smp.sin(x)**2)*smp.cos(x)**3, (x, 0, smp.pi/2))"
   ]
  },
  {
   "cell_type": "code",
   "execution_count": 92,
   "metadata": {},
   "outputs": [
    {
     "data": {
      "text/latex": [
       "$\\displaystyle \\frac{\\tan^{7}{\\left(3 x \\right)}}{21}$"
      ],
      "text/plain": [
       "tan(3*x)**7/21"
      ]
     },
     "execution_count": 92,
     "metadata": {},
     "output_type": "execute_result"
    }
   ],
   "source": [
    "# 12\n",
    "smp.integrate((smp.sec(3*x)**2)*(smp.tan(3*x)**6), x).simplify() # + C"
   ]
  },
  {
   "cell_type": "code",
   "execution_count": 104,
   "metadata": {},
   "outputs": [
    {
     "data": {
      "text/latex": [
       "$\\displaystyle \\begin{cases} \\frac{i \\sqrt{-1 + \\frac{4}{x^{2}}}}{4} & \\text{for}\\: \\left(x > -2 \\vee x > 0\\right) \\wedge \\left(x > -2 \\vee x < 2\\right) \\wedge \\left(x > 0 \\vee x < 0\\right) \\wedge \\left(x < 0 \\vee x < 2\\right) \\\\\\frac{\\sqrt{1 - \\frac{4}{x^{2}}}}{4} & \\text{otherwise} \\end{cases}$"
      ],
      "text/plain": [
       "Piecewise((I*sqrt(-1 + 4/x**2)/4, ((x > -2) | (x > 0)) & ((x > -2) | (x < 2)) & ((x > 0) | (x < 0)) & ((x < 0) | (x < 2))), (sqrt(1 - 4/x**2)/4, True))"
      ]
     },
     "execution_count": 104,
     "metadata": {},
     "output_type": "execute_result"
    }
   ],
   "source": [
    "# 13\n",
    "smp.integrate(1/((x**2)*(sqrt(x**2 - 4))), x).simplify() # + C\n",
    "\n",
    "# The otherwise portion is equivalent to:\n",
    "# (sqrt(x^2 - 4))/(4x) + C"
   ]
  },
  {
   "cell_type": "code",
   "execution_count": 2,
   "metadata": {},
   "outputs": [
    {
     "data": {
      "text/latex": [
       "$\\displaystyle \\frac{- y^{2} \\operatorname{asin}{\\left(\\frac{y}{5} \\right)} - y \\sqrt{25 - y^{2}} + 25 \\operatorname{asin}{\\left(\\frac{y}{5} \\right)}}{y^{2} - 25}$"
      ],
      "text/plain": [
       "(-y**2*asin(y/5) - y*sqrt(25 - y**2) + 25*asin(y/5))/(y**2 - 25)"
      ]
     },
     "execution_count": 2,
     "metadata": {},
     "output_type": "execute_result"
    }
   ],
   "source": [
    "# 14\n",
    "ans = smp.integrate((y**2)/((25-y**2)**smp.Rational(3, 2)), y).simplify() # + C\n",
    "ans\n",
    "\n",
    "# This is equivalent to:\n",
    "# (y/(sqrt(25-y^2))-sin^-1(y/5) + C\n",
    "\n",
    "# To prove this, I set the variable 'ans' to the take the derivative of the integral, yielding the original problem. "
   ]
  },
  {
   "cell_type": "code",
   "execution_count": 143,
   "metadata": {},
   "outputs": [
    {
     "data": {
      "text/latex": [
       "$\\displaystyle \\frac{y^{2}}{\\left(25 - y^{2}\\right)^{\\frac{3}{2}}}$"
      ],
      "text/plain": [
       "y**2/(25 - y**2)**(3/2)"
      ]
     },
     "execution_count": 143,
     "metadata": {},
     "output_type": "execute_result"
    }
   ],
   "source": [
    "# 14\n",
    "smp.diff(ans).simplify()"
   ]
  },
  {
   "cell_type": "code",
   "execution_count": 3,
   "metadata": {},
   "outputs": [
    {
     "data": {
      "text/latex": [
       "$\\displaystyle - 10 \\log{\\left(x \\right)} + 5 \\log{\\left(x^{2} - 9 \\right)}$"
      ],
      "text/plain": [
       "-10*log(x) + 5*log(x**2 - 9)"
      ]
     },
     "execution_count": 3,
     "metadata": {},
     "output_type": "execute_result"
    }
   ],
   "source": [
    "# 15\n",
    "smp.integrate(90/(x**3 - 9*x), x)\n",
    "\n",
    "# In Python, log == ln unless otherwise specified"
   ]
  },
  {
   "cell_type": "code",
   "execution_count": 152,
   "metadata": {},
   "outputs": [
    {
     "data": {
      "text/latex": [
       "$\\displaystyle \\frac{x^{2}}{2} - 4 x + 12 \\log{\\left(x + 2 \\right)} + \\frac{8}{x + 2}$"
      ],
      "text/plain": [
       "x**2/2 - 4*x + 12*log(x + 2) + 8/(x + 2)"
      ]
     },
     "execution_count": 152,
     "metadata": {},
     "output_type": "execute_result"
    }
   ],
   "source": [
    "# 16\n",
    "smp.integrate((x**3)/(x**2+4*x+4), x) # + C"
   ]
  },
  {
   "cell_type": "code",
   "execution_count": 5,
   "metadata": {},
   "outputs": [
    {
     "data": {
      "text/latex": [
       "$\\displaystyle 3 \\log{\\left(x \\right)} + \\frac{\\log{\\left(x^{2} + 36 \\right)}}{2} + \\frac{\\operatorname{atan}{\\left(\\frac{x}{6} \\right)}}{6}$"
      ],
      "text/plain": [
       "3*log(x) + log(x**2 + 36)/2 + atan(x/6)/6"
      ]
     },
     "execution_count": 5,
     "metadata": {},
     "output_type": "execute_result"
    }
   ],
   "source": [
    "# 17\n",
    "smp.integrate(((4*x**2 + x + 108)/(x**3+36*x)), x) # + C"
   ]
  },
  {
   "cell_type": "code",
   "execution_count": 156,
   "metadata": {},
   "outputs": [
    {
     "data": {
      "text/latex": [
       "$\\displaystyle -24$"
      ],
      "text/plain": [
       "-24"
      ]
     },
     "execution_count": 156,
     "metadata": {},
     "output_type": "execute_result"
    }
   ],
   "source": [
    "# 18\n",
    "smp.integrate((24/(x-1)**2), (x, 0, -smp.oo))"
   ]
  },
  {
   "cell_type": "code",
   "execution_count": 9,
   "metadata": {},
   "outputs": [
    {
     "data": {
      "text/latex": [
       "$\\displaystyle \\infty$"
      ],
      "text/plain": [
       "oo"
      ]
     },
     "execution_count": 9,
     "metadata": {},
     "output_type": "execute_result"
    }
   ],
   "source": [
    "# 19\n",
    "smp.integrate(9*smp.exp(-x), (x, -smp.oo, smp.exp(1)))\n",
    "\n",
    "# Integral is divergent"
   ]
  },
  {
   "cell_type": "code",
   "execution_count": 163,
   "metadata": {},
   "outputs": [
    {
     "data": {
      "text/latex": [
       "$\\displaystyle 8$"
      ],
      "text/plain": [
       "8"
      ]
     },
     "execution_count": 163,
     "metadata": {},
     "output_type": "execute_result"
    }
   ],
   "source": [
    "# 20\n",
    "smp.integrate((x)/(sqrt(64-x**2)), (x, 0, 8))"
   ]
  }
 ],
 "metadata": {
  "kernelspec": {
   "display_name": "Env1",
   "language": "python",
   "name": "python3"
  },
  "language_info": {
   "codemirror_mode": {
    "name": "ipython",
    "version": 3
   },
   "file_extension": ".py",
   "mimetype": "text/x-python",
   "name": "python",
   "nbconvert_exporter": "python",
   "pygments_lexer": "ipython3",
   "version": "3.10.10"
  },
  "orig_nbformat": 4
 },
 "nbformat": 4,
 "nbformat_minor": 2
}
