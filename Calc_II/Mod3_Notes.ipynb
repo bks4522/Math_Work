{
 "cells": [
  {
   "cell_type": "code",
   "execution_count": 96,
   "metadata": {},
   "outputs": [],
   "source": [
    "import sympy as smp\n",
    "from sympy import *\n",
    "\n",
    "import scipy as sp\n",
    "from scipy.integrate import quad\n",
    "\n",
    "x, y, t, n, a, b, c, r, u, s = smp.symbols('x y t n a b c r u s', real=True)\n",
    "f, g, m = smp.symbols('f g m', cls=smp.Function)"
   ]
  },
  {
   "cell_type": "code",
   "execution_count": 15,
   "metadata": {},
   "outputs": [
    {
     "data": {
      "text/latex": [
       "$\\displaystyle \\frac{\\pi}{26}$"
      ],
      "text/plain": [
       "pi/26"
      ]
     },
     "execution_count": 15,
     "metadata": {},
     "output_type": "execute_result"
    }
   ],
   "source": [
    "smp.integrate((1/(169+x**2)), (x, -13, 13))"
   ]
  },
  {
   "cell_type": "code",
   "execution_count": 17,
   "metadata": {},
   "outputs": [
    {
     "data": {
      "text/latex": [
       "$\\displaystyle \\frac{\\pi}{3}$"
      ],
      "text/plain": [
       "pi/3"
      ]
     },
     "execution_count": 17,
     "metadata": {},
     "output_type": "execute_result"
    }
   ],
   "source": [
    "smp.integrate(1/(smp.sqrt(9-x**2)), (x, 0, (3*smp.sqrt(3))/2))"
   ]
  },
  {
   "cell_type": "code",
   "execution_count": 98,
   "metadata": {},
   "outputs": [
    {
     "data": {
      "text/latex": [
       "$\\displaystyle \\frac{\\operatorname{asinh}{\\left(\\frac{x^{4}}{7} \\right)}}{4}$"
      ],
      "text/plain": [
       "asinh(x**4/7)/4"
      ]
     },
     "execution_count": 98,
     "metadata": {},
     "output_type": "execute_result"
    }
   ],
   "source": [
    "smp.integrate(x**3/sqrt(49+x**8), x) # + C"
   ]
  },
  {
   "cell_type": "code",
   "execution_count": 3,
   "metadata": {},
   "outputs": [
    {
     "data": {
      "text/latex": [
       "$\\displaystyle \\frac{\\sqrt{x^{4} + 9}}{2}$"
      ],
      "text/plain": [
       "sqrt(x**4 + 9)/2"
      ]
     },
     "execution_count": 3,
     "metadata": {},
     "output_type": "execute_result"
    }
   ],
   "source": [
    "smp.integrate((x**3)/smp.sqrt(x**4 + 9), x) # + C"
   ]
  },
  {
   "cell_type": "code",
   "execution_count": 68,
   "metadata": {},
   "outputs": [
    {
     "data": {
      "text/latex": [
       "$\\displaystyle 1 - \\frac{10}{x - 4} + \\frac{20}{x - 6}$"
      ],
      "text/plain": [
       "1 - 10/(x - 4) + 20/(x - 6)"
      ]
     },
     "execution_count": 68,
     "metadata": {},
     "output_type": "execute_result"
    }
   ],
   "source": [
    "smp.apart((x**2+4)/(x**2-10*x+24))"
   ]
  },
  {
   "cell_type": "code",
   "execution_count": 96,
   "metadata": {},
   "outputs": [
    {
     "data": {
      "text/latex": [
       "$\\displaystyle \\frac{8}{11 \\left(x + 10\\right)} + \\frac{3}{11 \\left(x - 1\\right)}$"
      ],
      "text/plain": [
       "8/(11*(x + 10)) + 3/(11*(x - 1))"
      ]
     },
     "execution_count": 96,
     "metadata": {},
     "output_type": "execute_result"
    }
   ],
   "source": [
    "# 2\n",
    "smp.apart((x+2)/(x**2+9*x-10))"
   ]
  },
  {
   "cell_type": "code",
   "execution_count": 97,
   "metadata": {},
   "outputs": [
    {
     "data": {
      "text/latex": [
       "$\\displaystyle 0.272727272727273 \\log{\\left(1.0 x - 1.0 \\right)} + 0.727272727272727 \\log{\\left(1.0 x + 10.0 \\right)}$"
      ],
      "text/plain": [
       "0.272727272727273*log(1.0*x - 1.0) + 0.727272727272727*log(1.0*x + 10.0)"
      ]
     },
     "execution_count": 97,
     "metadata": {},
     "output_type": "execute_result"
    }
   ],
   "source": [
    "# 2\n",
    "(smp.integrate((8/11)/(x+10), x) + smp.integrate((3/11)/(x-1), x)) # + C\n",
    "\n",
    "# Ans = (8/11)ln|x+10| + (3/11)ln|x-1| + C"
   ]
  },
  {
   "cell_type": "code",
   "execution_count": 109,
   "metadata": {},
   "outputs": [
    {
     "data": {
      "text/latex": [
       "$\\displaystyle \\frac{1}{4 \\left(y + 1\\right)} + \\frac{3}{4 \\left(y - 3\\right)}$"
      ],
      "text/plain": [
       "1/(4*(y + 1)) + 3/(4*(y - 3))"
      ]
     },
     "execution_count": 109,
     "metadata": {},
     "output_type": "execute_result"
    }
   ],
   "source": [
    "# 3\n",
    "smp.apart(y/(y**2 - 2*y - 3))\n",
    "\n",
    "# Ans = ((1/4)/(y+1)) + ((3/4)/(y-3))"
   ]
  },
  {
   "cell_type": "code",
   "execution_count": 106,
   "metadata": {},
   "outputs": [
    {
     "data": {
      "text/latex": [
       "$\\displaystyle 0.978719018602638$"
      ],
      "text/plain": [
       "0.978719018602638"
      ]
     },
     "execution_count": 106,
     "metadata": {},
     "output_type": "execute_result"
    }
   ],
   "source": [
    "# 3\n",
    "smp.integrate(((3/4)/(y-3)), (y, 6, 12)) + smp.integrate(((1/4)/(y+1)), (y, 6, 12))"
   ]
  },
  {
   "cell_type": "code",
   "execution_count": 110,
   "metadata": {},
   "outputs": [
    {
     "data": {
      "text/latex": [
       "$\\displaystyle \\frac{1}{5 \\left(y + 1\\right)} + \\frac{4}{5 \\left(y - 4\\right)}$"
      ],
      "text/plain": [
       "1/(5*(y + 1)) + 4/(5*(y - 4))"
      ]
     },
     "execution_count": 110,
     "metadata": {},
     "output_type": "execute_result"
    }
   ],
   "source": [
    "# 3 - 2\n",
    "smp.apart(y/(y**2 - 3*y - 4))\n",
    "\n",
    "# Ans = ((1/5)/(y+1)) + ((4/5)/(y-4))"
   ]
  },
  {
   "cell_type": "code",
   "execution_count": 116,
   "metadata": {},
   "outputs": [
    {
     "data": {
      "text/latex": [
       "$\\displaystyle 0.618208490671663$"
      ],
      "text/plain": [
       "0.618208490671663"
      ]
     },
     "execution_count": 116,
     "metadata": {},
     "output_type": "execute_result"
    }
   ],
   "source": [
    "# 3 - 2\n",
    "smp.integrate(((1/5)/(y+1)), (y, 7, 10)) + smp.integrate(((4/5)/(y-4)), (y, 7, 10))"
   ]
  },
  {
   "cell_type": "code",
   "execution_count": 143,
   "metadata": {},
   "outputs": [
    {
     "data": {
      "text/latex": [
       "$\\displaystyle 3.87120101090789 - \\log{\\left(2 \\right)}$"
      ],
      "text/plain": [
       "3.87120101090789 - log(2)"
      ]
     },
     "execution_count": 143,
     "metadata": {},
     "output_type": "execute_result"
    }
   ],
   "source": [
    "smp.apart((4*y + 5)/(y**2 + y))\n",
    "\n",
    "smp.integrate((-1/(y+1)), (y, .5, 1)) + smp.integrate(5/y, (y, .5, 1))"
   ]
  },
  {
   "cell_type": "code",
   "execution_count": 11,
   "metadata": {},
   "outputs": [
    {
     "data": {
      "text/latex": [
       "$\\displaystyle \\frac{3}{2 \\left(x + 1\\right)} + \\frac{3}{2 \\left(x + 1\\right)^{2}} - \\frac{3}{2 \\left(x - 1\\right)} + \\frac{3}{2 \\left(x - 1\\right)^{2}}$"
      ],
      "text/plain": [
       "3/(2*(x + 1)) + 3/(2*(x + 1)**2) - 3/(2*(x - 1)) + 3/(2*(x - 1)**2)"
      ]
     },
     "execution_count": 11,
     "metadata": {},
     "output_type": "execute_result"
    }
   ],
   "source": [
    "# 5 \n",
    "smp.apart(6/(x**2-1)**2)"
   ]
  },
  {
   "cell_type": "code",
   "execution_count": 17,
   "metadata": {},
   "outputs": [
    {
     "data": {
      "text/latex": [
       "$\\displaystyle - \\frac{6 x}{2 x^{2} - 2} - \\frac{3 \\log{\\left(x - 1 \\right)}}{2} + \\frac{3 \\log{\\left(x + 1 \\right)}}{2}$"
      ],
      "text/plain": [
       "-6*x/(2*x**2 - 2) - 3*log(x - 1)/2 + 3*log(x + 1)/2"
      ]
     },
     "execution_count": 17,
     "metadata": {},
     "output_type": "execute_result"
    }
   ],
   "source": [
    "# 5\n",
    "smp.integrate(6/(x**2-1)**2, x) # + C\n",
    "\n",
    "# Ans = (3/2) ln|(x+1)/(x-1)| - 6x/(2x**2 - 2) + C"
   ]
  },
  {
   "cell_type": "code",
   "execution_count": 19,
   "metadata": {},
   "outputs": [
    {
     "data": {
      "text/latex": [
       "$\\displaystyle \\frac{x - 2}{x^{2} + x + 1} + \\frac{5}{x - 1}$"
      ],
      "text/plain": [
       "(x - 2)/(x**2 + x + 1) + 5/(x - 1)"
      ]
     },
     "execution_count": 19,
     "metadata": {},
     "output_type": "execute_result"
    }
   ],
   "source": [
    "# 6\n",
    "smp.apart((6*x**2+2*x+7)/(x**3-1))"
   ]
  },
  {
   "cell_type": "code",
   "execution_count": 24,
   "metadata": {},
   "outputs": [
    {
     "data": {
      "text/latex": [
       "$\\displaystyle 5 \\log{\\left(x - 1 \\right)} + \\frac{\\log{\\left(x^{2} + x + 1 \\right)}}{2} - \\frac{5 \\sqrt{3} \\operatorname{atan}{\\left(\\frac{2 \\sqrt{3} x}{3} + \\frac{\\sqrt{3}}{3} \\right)}}{3}$"
      ],
      "text/plain": [
       "5*log(x - 1) + log(x**2 + x + 1)/2 - 5*sqrt(3)*atan(2*sqrt(3)*x/3 + sqrt(3)/3)/3"
      ]
     },
     "execution_count": 24,
     "metadata": {},
     "output_type": "execute_result"
    }
   ],
   "source": [
    "# 6\n",
    "smp.integrate((6*x**2+2*x+7)/(x**3-1), x) # + C\n",
    "\n",
    "# Ans = 5 ln|x-1| + (1/2)ln(x**2 + x + 1) - (5/sqrt(3)) (tan**-1)((2x+1)/sqrt(3)) + C"
   ]
  },
  {
   "cell_type": "code",
   "execution_count": 25,
   "metadata": {},
   "outputs": [
    {
     "data": {
      "text/latex": [
       "$\\displaystyle \\frac{x - 1}{x^{2} + x + 1} + \\frac{5}{x - 1}$"
      ],
      "text/plain": [
       "(x - 1)/(x**2 + x + 1) + 5/(x - 1)"
      ]
     },
     "execution_count": 25,
     "metadata": {},
     "output_type": "execute_result"
    }
   ],
   "source": [
    "# 6 - 2\n",
    "smp.apart((6*x**2 + 3*x + 6)/(x**3 - 1))"
   ]
  },
  {
   "cell_type": "code",
   "execution_count": 28,
   "metadata": {},
   "outputs": [
    {
     "data": {
      "text/latex": [
       "$\\displaystyle 5 \\log{\\left(x - 1 \\right)} + \\frac{\\log{\\left(x^{2} + x + 1 \\right)}}{2} - \\sqrt{3} \\operatorname{atan}{\\left(\\frac{2 \\sqrt{3} x}{3} + \\frac{\\sqrt{3}}{3} \\right)}$"
      ],
      "text/plain": [
       "5*log(x - 1) + log(x**2 + x + 1)/2 - sqrt(3)*atan(2*sqrt(3)*x/3 + sqrt(3)/3)"
      ]
     },
     "execution_count": 28,
     "metadata": {},
     "output_type": "execute_result"
    }
   ],
   "source": [
    "# 6 - 2\n",
    "smp.integrate((6*x**2 + 3*x + 6)/(x**3 - 1), x) # + C\n",
    "\n",
    "# Ans = 5 ln|x-1| + (1/2)ln(x**2 + x + 1) - sqrt(3) (tan**-1)((2x+1)/sqrt(3)) + C"
   ]
  },
  {
   "cell_type": "code",
   "execution_count": 52,
   "metadata": {},
   "outputs": [
    {
     "data": {
      "text/latex": [
       "$\\displaystyle 2 x^{2} - \\frac{5 \\log{\\left(x \\right)}}{2} + \\frac{5 \\log{\\left(x - 2 \\right)}}{2}$"
      ],
      "text/plain": [
       "2*x**2 - 5*log(x)/2 + 5*log(x - 2)/2"
      ]
     },
     "execution_count": 52,
     "metadata": {},
     "output_type": "execute_result"
    }
   ],
   "source": [
    "smp.integrate(((4*x**3 - 8*x**2 + 5)/(x**2-2*x)), x) # + C\n",
    "\n",
    "# Ans = 2*x**2 + (5/2)ln|(x-2)/x| + C"
   ]
  },
  {
   "cell_type": "code",
   "execution_count": 55,
   "metadata": {},
   "outputs": [
    {
     "data": {
      "text/latex": [
       "$\\displaystyle 12 x^{2} - \\frac{5 \\log{\\left(x \\right)}}{2} + \\frac{5 \\log{\\left(x - 2 \\right)}}{2}$"
      ],
      "text/plain": [
       "12*x**2 - 5*log(x)/2 + 5*log(x - 2)/2"
      ]
     },
     "execution_count": 55,
     "metadata": {},
     "output_type": "execute_result"
    }
   ],
   "source": [
    "smp.integrate(((24*x**3 - 48*x**2 + 5)/(x**2 - 2*x)), x) # + C\n",
    "\n",
    "# Ans = 12*x**2 + (5/2)ln|(x-2)/x| + C"
   ]
  },
  {
   "cell_type": "code",
   "execution_count": 67,
   "metadata": {},
   "outputs": [],
   "source": [
    "# 8\n",
    "smp.apart((2*y**4 + 8*y**2 - 1)/(y**3 + 4*y))"
   ]
  },
  {
   "cell_type": "code",
   "execution_count": 74,
   "metadata": {},
   "outputs": [
    {
     "data": {
      "text/latex": [
       "$\\displaystyle y^{2} - \\frac{\\log{\\left(y \\right)}}{4} + \\frac{\\log{\\left(y^{2} + 4 \\right)}}{8}$"
      ],
      "text/plain": [
       "y**2 - log(y)/4 + log(y**2 + 4)/8"
      ]
     },
     "execution_count": 74,
     "metadata": {},
     "output_type": "execute_result"
    }
   ],
   "source": [
    "# 8\n",
    "smp.integrate((2*y**4 + 8*y**2 - 1)/(y**3 + 4*y), y) # + C\n",
    "\n",
    "# Ans = y**2 - (1/4)ln|y| + (1/8) ln(y**2 + 4) + C"
   ]
  },
  {
   "cell_type": "code",
   "execution_count": 72,
   "metadata": {},
   "outputs": [
    {
     "data": {
      "text/latex": [
       "$\\displaystyle 2 y + \\frac{y}{4 \\left(y^{2} + 4\\right)} - \\frac{1}{4 y}$"
      ],
      "text/plain": [
       "2*y + y/(4*(y**2 + 4)) - 1/(4*y)"
      ]
     },
     "execution_count": 72,
     "metadata": {},
     "output_type": "execute_result"
    }
   ],
   "source": [
    "# 8 - 2\n",
    "smp.apart((2*y**4 + 8*y**2 - 1)/(y**3+4*y))"
   ]
  },
  {
   "cell_type": "code",
   "execution_count": 75,
   "metadata": {},
   "outputs": [
    {
     "data": {
      "text/latex": [
       "$\\displaystyle y^{2} - \\frac{\\log{\\left(y \\right)}}{4} + \\frac{\\log{\\left(y^{2} + 4 \\right)}}{8}$"
      ],
      "text/plain": [
       "y**2 - log(y)/4 + log(y**2 + 4)/8"
      ]
     },
     "execution_count": 75,
     "metadata": {},
     "output_type": "execute_result"
    }
   ],
   "source": [
    "smp.integrate((2*y**4 + 8*y**2 - 1)/(y**3+4*y), y) # + C\n",
    "\n",
    "# Ans = y**2 - (1/4) ln|y| + (1/8) ln(y**2 + 4) + C"
   ]
  },
  {
   "cell_type": "code",
   "execution_count": 82,
   "metadata": {},
   "outputs": [
    {
     "data": {
      "text/latex": [
       "$\\displaystyle - \\operatorname{asinh}{\\left(\\frac{1}{8} \\right)} + \\operatorname{asinh}{\\left(\\frac{5}{8} \\right)}$"
      ],
      "text/plain": [
       "-asinh(1/8) + asinh(5/8)"
      ]
     },
     "execution_count": 82,
     "metadata": {},
     "output_type": "execute_result"
    }
   ],
   "source": [
    "smp.integrate((smp.exp(t) / smp.sqrt(smp.exp(2*t)+64)), (t, 0, smp.ln(5)))\n",
    "\n",
    "# ln(5+sqrt(89)) - ln(1+sqrt(65))"
   ]
  },
  {
   "cell_type": "code",
   "execution_count": 85,
   "metadata": {},
   "outputs": [
    {
     "data": {
      "text/latex": [
       "$\\displaystyle \\frac{2 x \\sqrt{x + 1}}{3} - \\frac{4 \\sqrt{x + 1}}{3}$"
      ],
      "text/plain": [
       "2*x*sqrt(x + 1)/3 - 4*sqrt(x + 1)/3"
      ]
     },
     "execution_count": 85,
     "metadata": {},
     "output_type": "execute_result"
    }
   ],
   "source": [
    "smp.integrate((x/(sqrt(1+x))), x) # + C"
   ]
  },
  {
   "cell_type": "code",
   "execution_count": 91,
   "metadata": {},
   "outputs": [
    {
     "data": {
      "text/latex": [
       "$\\displaystyle \\begin{cases} \\sqrt{x^{2} - 9} - 3 i \\log{\\left(x \\right)} + \\frac{3 i \\log{\\left(x^{2} \\right)}}{2} + 3 \\operatorname{asin}{\\left(\\frac{3}{x} \\right)} & \\text{for}\\: \\left|{x^{2}}\\right| > 9 \\\\i \\sqrt{9 - x^{2}} + \\frac{3 i \\log{\\left(x^{2} \\right)}}{2} - 3 i \\log{\\left(\\sqrt{1 - \\frac{x^{2}}{9}} + 1 \\right)} & \\text{otherwise} \\end{cases}$"
      ],
      "text/plain": [
       "Piecewise((sqrt(x**2 - 9) - 3*I*log(x) + 3*I*log(x**2)/2 + 3*asin(3/x), Abs(x**2) > 9), (I*sqrt(9 - x**2) + 3*I*log(x**2)/2 - 3*I*log(sqrt(1 - x**2/9) + 1), True))"
      ]
     },
     "execution_count": 91,
     "metadata": {},
     "output_type": "execute_result"
    }
   ],
   "source": [
    "smp.integrate((sqrt(x**2 - 9)/x), x) # + C"
   ]
  },
  {
   "cell_type": "code",
   "execution_count": 93,
   "metadata": {},
   "outputs": [
    {
     "data": {
      "text/latex": [
       "$\\displaystyle \\frac{\\pi}{20}$"
      ],
      "text/plain": [
       "pi/20"
      ]
     },
     "execution_count": 93,
     "metadata": {},
     "output_type": "execute_result"
    }
   ],
   "source": [
    "smp.integrate((1/(x**2+25)), (x, 5, smp.oo))"
   ]
  },
  {
   "cell_type": "code",
   "execution_count": 108,
   "metadata": {},
   "outputs": [
    {
     "data": {
      "text/latex": [
       "$\\displaystyle 3 \\log{\\left(5 \\right)}$"
      ],
      "text/plain": [
       "3*log(5)"
      ]
     },
     "execution_count": 108,
     "metadata": {},
     "output_type": "execute_result"
    }
   ],
   "source": [
    "smp.integrate((12/(x**2-4)), (x, -smp.oo, -3))"
   ]
  },
  {
   "cell_type": "code",
   "execution_count": 110,
   "metadata": {},
   "outputs": [
    {
     "data": {
      "text/latex": [
       "$\\displaystyle 0$"
      ],
      "text/plain": [
       "0"
      ]
     },
     "execution_count": 110,
     "metadata": {},
     "output_type": "execute_result"
    }
   ],
   "source": [
    "smp.integrate(((2*x)/(x**2+1)**6), (x, -smp.oo, smp.oo))"
   ]
  },
  {
   "cell_type": "code",
   "execution_count": 112,
   "metadata": {},
   "outputs": [
    {
     "data": {
      "text/latex": [
       "$\\displaystyle 2 \\sqrt{14}$"
      ],
      "text/plain": [
       "2*sqrt(14)"
      ]
     },
     "execution_count": 112,
     "metadata": {},
     "output_type": "execute_result"
    }
   ],
   "source": [
    "smp.integrate(((2*x+5)/sqrt(x**2+5*x)), (x, 0, 2))"
   ]
  },
  {
   "cell_type": "code",
   "execution_count": 114,
   "metadata": {},
   "outputs": [
    {
     "data": {
      "text/latex": [
       "$\\displaystyle e^{- \\frac{4}{\\log{\\left(3 \\right)}}}$"
      ],
      "text/plain": [
       "exp(-4/log(3))"
      ]
     },
     "execution_count": 114,
     "metadata": {},
     "output_type": "execute_result"
    }
   ],
   "source": [
    "smp.integrate(((4*x**-2)*smp.exp(-4/x)), (x, 0, smp.ln(3)))"
   ]
  },
  {
   "cell_type": "code",
   "execution_count": 178,
   "metadata": {},
   "outputs": [],
   "source": [
    "#smp.integrate(1/(x**(1/3)), (x, -27, 64))\n",
    "#smp.integrate(x**(-1/3), (x, -27, 0)) + smp.integrate(x**(-1/3), (x, 0, 64))\n",
    "\n",
    "# Do it this way, man:\n",
    "\n",
    "# ((-27)**(2/3))/(2/3) + ((64)**(2/3))/(2/3)"
   ]
  }
 ],
 "metadata": {
  "kernelspec": {
   "display_name": "Env1",
   "language": "python",
   "name": "python3"
  },
  "language_info": {
   "codemirror_mode": {
    "name": "ipython",
    "version": 3
   },
   "file_extension": ".py",
   "mimetype": "text/x-python",
   "name": "python",
   "nbconvert_exporter": "python",
   "pygments_lexer": "ipython3",
   "version": "3.10.10"
  },
  "orig_nbformat": 4
 },
 "nbformat": 4,
 "nbformat_minor": 2
}
