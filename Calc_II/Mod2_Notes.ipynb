{
 "cells": [
  {
   "cell_type": "code",
   "execution_count": 1,
   "metadata": {},
   "outputs": [],
   "source": [
    "import sympy as smp\n",
    "from sympy import *\n",
    "\n",
    "import scipy as sp\n",
    "from scipy.integrate import quad\n",
    "\n",
    "x, y, t, n, a, b, c, r, u, s = smp.symbols('x y t n a b c r u s')\n",
    "f, g, m = smp.symbols('f g m', cls=smp.Function)"
   ]
  },
  {
   "attachments": {},
   "cell_type": "markdown",
   "metadata": {},
   "source": [
    "Evaluate the integral using any appropriate algebraic method or trigonometric identity.\n",
    "\n",
    "∫ (2 - 8x) / (sqrt(81-4x^2)) dx"
   ]
  },
  {
   "cell_type": "code",
   "execution_count": 2,
   "metadata": {},
   "outputs": [
    {
     "data": {
      "text/latex": [
       "$\\displaystyle 2 \\sqrt{81 - 4 x^{2}} + \\operatorname{asin}{\\left(\\frac{2 x}{9} \\right)}$"
      ],
      "text/plain": [
       "2*sqrt(81 - 4*x**2) + asin(2*x/9)"
      ]
     },
     "execution_count": 2,
     "metadata": {},
     "output_type": "execute_result"
    }
   ],
   "source": [
    "smp.integrate((2 - 8*x) / smp.sqrt(81 - 4*x**2), x) # + C\n",
    "\n",
    "# Ans = (sin^-1)(2x/9) + 2sqrt(81-4x^2) + C"
   ]
  },
  {
   "cell_type": "code",
   "execution_count": 3,
   "metadata": {},
   "outputs": [
    {
     "data": {
      "text/latex": [
       "$\\displaystyle 2 \\sqrt{49 - 25 x^{2}} + \\operatorname{asin}{\\left(\\frac{5 x}{7} \\right)}$"
      ],
      "text/plain": [
       "2*sqrt(49 - 25*x**2) + asin(5*x/7)"
      ]
     },
     "execution_count": 3,
     "metadata": {},
     "output_type": "execute_result"
    }
   ],
   "source": [
    "smp.integrate((5 - 50*x) / smp.sqrt(49 - 25*x**2), x) # + C"
   ]
  },
  {
   "cell_type": "code",
   "execution_count": 15,
   "metadata": {},
   "outputs": [
    {
     "data": {
      "text/latex": [
       "$\\displaystyle \\frac{17 \\pi}{3}$"
      ],
      "text/plain": [
       "17*pi/3"
      ]
     },
     "execution_count": 15,
     "metadata": {},
     "output_type": "execute_result"
    }
   ],
   "source": [
    "smp.integrate(17 / (37 + x**2 - 12*x), (x, 6, (6+smp.sqrt(3))))"
   ]
  },
  {
   "cell_type": "code",
   "execution_count": 17,
   "metadata": {},
   "outputs": [
    {
     "data": {
      "text/latex": [
       "$\\displaystyle \\frac{10 \\pi}{3}$"
      ],
      "text/plain": [
       "10*pi/3"
      ]
     },
     "execution_count": 17,
     "metadata": {},
     "output_type": "execute_result"
    }
   ],
   "source": [
    "smp.integrate(20 / (1 + (4*x + 1)**2), (x, (-(smp.sqrt(3)+1)/4), (smp.sqrt(3)-1)/4))"
   ]
  },
  {
   "cell_type": "code",
   "execution_count": 21,
   "metadata": {},
   "outputs": [
    {
     "data": {
      "text/latex": [
       "$\\displaystyle \\sqrt{2} + 8$"
      ],
      "text/plain": [
       "sqrt(2) + 8"
      ]
     },
     "execution_count": 21,
     "metadata": {},
     "output_type": "execute_result"
    }
   ],
   "source": [
    "smp.integrate((9 + smp.sin(x)) / smp.cos(x)**2, (x, 0, smp.pi/4)).simplify()"
   ]
  },
  {
   "cell_type": "code",
   "execution_count": 31,
   "metadata": {},
   "outputs": [
    {
     "data": {
      "text/latex": [
       "$\\displaystyle -1 + \\frac{8 \\sqrt{3}}{3}$"
      ],
      "text/plain": [
       "-1 + 8*sqrt(3)/3"
      ]
     },
     "execution_count": 31,
     "metadata": {},
     "output_type": "execute_result"
    }
   ],
   "source": [
    "smp.integrate((6+smp.sin(x))/(smp.cos(x)**2), (x, 0, smp.pi/6)).simplify()"
   ]
  },
  {
   "cell_type": "code",
   "execution_count": 39,
   "metadata": {},
   "outputs": [
    {
     "data": {
      "text/latex": [
       "$\\displaystyle 4$"
      ],
      "text/plain": [
       "4"
      ]
     },
     "execution_count": 39,
     "metadata": {},
     "output_type": "execute_result"
    }
   ],
   "source": [
    "# Rewrite the integrand using the trigonometric identity\n",
    "# cos(2x) = 2(cos^2)(x)\n",
    "# Solving for (cos^2)(x) = (cos(2x)+1)\n",
    "\n",
    "integrand = 2 * smp.sqrt(1 + smp.cos(x))\n",
    "integrand = integrand.subs(1 + smp.cos(x), 2 * smp.cos(x/2)**2)\n",
    "\n",
    "# Integrate\n",
    "smp.integrate(integrand, (x, 0, smp.pi/2))"
   ]
  },
  {
   "cell_type": "code",
   "execution_count": 46,
   "metadata": {},
   "outputs": [
    {
     "data": {
      "text/latex": [
       "$\\displaystyle 185.849325906017$"
      ],
      "text/plain": [
       "185.849325906017"
      ]
     },
     "execution_count": 46,
     "metadata": {},
     "output_type": "execute_result"
    }
   ],
   "source": [
    "smp.integrate((2*x**7)/(x**4 - 3), (x, 4, 5)).evalf()"
   ]
  },
  {
   "cell_type": "code",
   "execution_count": 49,
   "metadata": {},
   "outputs": [
    {
     "data": {
      "text/latex": [
       "$\\displaystyle 338.02585092994$"
      ],
      "text/plain": [
       "338.025850929940"
      ]
     },
     "execution_count": 49,
     "metadata": {},
     "output_type": "execute_result"
    }
   ],
   "source": [
    "smp.integrate((5*x**5)/(x**3 - 6), (x, 3, 6)).evalf()"
   ]
  },
  {
   "cell_type": "code",
   "execution_count": 52,
   "metadata": {},
   "outputs": [
    {
     "data": {
      "text/latex": [
       "$\\displaystyle -8 + 4 \\pi$"
      ],
      "text/plain": [
       "-8 + 4*pi"
      ]
     },
     "execution_count": 52,
     "metadata": {},
     "output_type": "execute_result"
    }
   ],
   "source": [
    "smp.integrate(smp.sqrt((8+y)/(8-y)), (y, -8, 0))"
   ]
  },
  {
   "cell_type": "code",
   "execution_count": 64,
   "metadata": {},
   "outputs": [
    {
     "data": {
      "text/latex": [
       "$\\displaystyle \\frac{2 x^{3}}{3} - \\frac{x^{2}}{2} + 3 x + \\frac{9 \\log{\\left(4 x - 3 \\right)}}{4}$"
      ],
      "text/plain": [
       "2*x**3/3 - x**2/2 + 3*x + 9*log(4*x - 3)/4"
      ]
     },
     "execution_count": 64,
     "metadata": {},
     "output_type": "execute_result"
    }
   ],
   "source": [
    "smp.integrate((8*x**3 - 10*x**2 + 15*x)/(4*x-3), x) # + C\n",
    "\n",
    "# Ans = (2/3)x^2 - (x^2)/2 + 3x + (9/4)ln |4x-3| + C"
   ]
  },
  {
   "cell_type": "code",
   "execution_count": 70,
   "metadata": {},
   "outputs": [
    {
     "data": {
      "text/latex": [
       "$\\displaystyle \\frac{x^{3}}{3} - 2 x^{2} + x + \\frac{5 \\log{\\left(4 x - 5 \\right)}}{4}$"
      ],
      "text/plain": [
       "x**3/3 - 2*x**2 + x + 5*log(4*x - 5)/4"
      ]
     },
     "execution_count": 70,
     "metadata": {},
     "output_type": "execute_result"
    }
   ],
   "source": [
    "smp.integrate((4*x**3 - 21*x**2 + 24*x) / (4*x - 5), x) # + C\n",
    "\n",
    "# Ans = (x^3)/3 - 2x^2 + x + (5/4) ln |4x-5| + C"
   ]
  },
  {
   "cell_type": "code",
   "execution_count": 77,
   "metadata": {},
   "outputs": [
    {
     "data": {
      "text/latex": [
       "$\\displaystyle \\frac{x^{2} \\sin{\\left(7 x \\right)}}{7} + \\frac{2 x \\cos{\\left(7 x \\right)}}{49} - \\frac{2 \\sin{\\left(7 x \\right)}}{343}$"
      ],
      "text/plain": [
       "x**2*sin(7*x)/7 + 2*x*cos(7*x)/49 - 2*sin(7*x)/343"
      ]
     },
     "execution_count": 77,
     "metadata": {},
     "output_type": "execute_result"
    }
   ],
   "source": [
    "smp.integrate(x**2*smp.cos(7*x), x) # + C"
   ]
  },
  {
   "cell_type": "code",
   "execution_count": 80,
   "metadata": {},
   "outputs": [
    {
     "data": {
      "text/latex": [
       "$\\displaystyle \\frac{1}{25} + \\frac{24 e^{25}}{25}$"
      ],
      "text/plain": [
       "1/25 + 24*exp(25)/25"
      ]
     },
     "execution_count": 80,
     "metadata": {},
     "output_type": "execute_result"
    }
   ],
   "source": [
    "smp.integrate(x**4*smp.ln(x), (x, 1, smp.exp(5)))"
   ]
  },
  {
   "cell_type": "code",
   "execution_count": 82,
   "metadata": {},
   "outputs": [
    {
     "data": {
      "text/latex": [
       "$\\displaystyle \\frac{\\left(42 x - 7\\right) e^{6 x}}{36}$"
      ],
      "text/plain": [
       "(42*x - 7)*exp(6*x)/36"
      ]
     },
     "execution_count": 82,
     "metadata": {},
     "output_type": "execute_result"
    }
   ],
   "source": [
    "smp.integrate(7*x*smp.exp(6*x), x) # + C"
   ]
  },
  {
   "cell_type": "code",
   "execution_count": 85,
   "metadata": {},
   "outputs": [
    {
     "data": {
      "text/latex": [
       "$\\displaystyle 2 x \\tan{\\left(x \\right)} + 2 \\log{\\left(\\cos{\\left(x \\right)} \\right)}$"
      ],
      "text/plain": [
       "2*x*tan(x) + 2*log(cos(x))"
      ]
     },
     "execution_count": 85,
     "metadata": {},
     "output_type": "execute_result"
    }
   ],
   "source": [
    "smp.integrate(2*x*smp.sec(x)**2, x) # + C\n",
    "\n",
    "# Ans = (2x)tan(x) + 2 (ln|cosx|) + C"
   ]
  },
  {
   "cell_type": "code",
   "execution_count": 88,
   "metadata": {},
   "outputs": [
    {
     "data": {
      "text/latex": [
       "$\\displaystyle 6 x \\tan{\\left(x \\right)} + 6 \\log{\\left(\\cos{\\left(x \\right)} \\right)}$"
      ],
      "text/plain": [
       "6*x*tan(x) + 6*log(cos(x))"
      ]
     },
     "execution_count": 88,
     "metadata": {},
     "output_type": "execute_result"
    }
   ],
   "source": [
    "smp.integrate(6*x*smp.sec(x)**2, x) # + C\n",
    "# Ans = (6x)tan(x) + 6 (ln|cos(x)| + C"
   ]
  },
  {
   "cell_type": "code",
   "execution_count": 91,
   "metadata": {},
   "outputs": [
    {
     "data": {
      "text/latex": [
       "$\\displaystyle \\frac{\\left(- 2 x^{4} - 4 x^{3} - 6 x^{2} - 6 x - 3\\right) e^{- 2 x}}{4}$"
      ],
      "text/plain": [
       "(-2*x**4 - 4*x**3 - 6*x**2 - 6*x - 3)*exp(-2*x)/4"
      ]
     },
     "execution_count": 91,
     "metadata": {},
     "output_type": "execute_result"
    }
   ],
   "source": [
    "smp.integrate((x**4)*smp.exp(-2*x), x) # + C"
   ]
  },
  {
   "cell_type": "code",
   "execution_count": 94,
   "metadata": {},
   "outputs": [
    {
     "data": {
      "text/latex": [
       "$\\displaystyle \\frac{\\left(14 x^{2} - 22 x + 11\\right) e^{2 x}}{4}$"
      ],
      "text/plain": [
       "(14*x**2 - 22*x + 11)*exp(2*x)/4"
      ]
     },
     "execution_count": 94,
     "metadata": {},
     "output_type": "execute_result"
    }
   ],
   "source": [
    "smp.integrate((7*x**2 - 4*x)*smp.exp(2*x), x) # + C"
   ]
  },
  {
   "cell_type": "code",
   "execution_count": 97,
   "metadata": {},
   "outputs": [
    {
     "data": {
      "text/latex": [
       "$\\displaystyle 2 e^{2 x} \\sin{\\left(2 x \\right)} - 2 e^{2 x} \\cos{\\left(2 x \\right)}$"
      ],
      "text/plain": [
       "2*exp(2*x)*sin(2*x) - 2*exp(2*x)*cos(2*x)"
      ]
     },
     "execution_count": 97,
     "metadata": {},
     "output_type": "execute_result"
    }
   ],
   "source": [
    "smp.integrate(8*(smp.exp(2*x))*smp.sin(2*x), x) # + C"
   ]
  },
  {
   "cell_type": "code",
   "execution_count": 100,
   "metadata": {},
   "outputs": [
    {
     "data": {
      "text/latex": [
       "$\\displaystyle 8 e^{- 4 x} \\sin{\\left(4 x \\right)} - 8 e^{- 4 x} \\cos{\\left(4 x \\right)}$"
      ],
      "text/plain": [
       "8*exp(-4*x)*sin(4*x) - 8*exp(-4*x)*cos(4*x)"
      ]
     },
     "execution_count": 100,
     "metadata": {},
     "output_type": "execute_result"
    }
   ],
   "source": [
    "smp.integrate(64*(smp.exp(-4*x))*smp.cos(4*x), x) # + C"
   ]
  },
  {
   "cell_type": "code",
   "execution_count": 102,
   "metadata": {},
   "outputs": [
    {
     "data": {
      "text/latex": [
       "$\\displaystyle \\frac{2}{15}$"
      ],
      "text/plain": [
       "2/15"
      ]
     },
     "execution_count": 102,
     "metadata": {},
     "output_type": "execute_result"
    }
   ],
   "source": [
    "smp.integrate(smp.sin(4*x)**5, (x, 0, smp.pi/8))"
   ]
  },
  {
   "cell_type": "code",
   "execution_count": 105,
   "metadata": {},
   "outputs": [
    {
     "data": {
      "text/latex": [
       "$\\displaystyle - \\frac{2 \\sin^{6}{\\left(5 x \\right)}}{15} + \\frac{\\sin^{4}{\\left(5 x \\right)}}{5}$"
      ],
      "text/plain": [
       "-2*sin(5*x)**6/15 + sin(5*x)**4/5"
      ]
     },
     "execution_count": 105,
     "metadata": {},
     "output_type": "execute_result"
    }
   ],
   "source": [
    "smp.integrate(4*(smp.sin(5*x)**3)*smp.cos(5*x)**3, x) # + C"
   ]
  },
  {
   "cell_type": "code",
   "execution_count": 107,
   "metadata": {},
   "outputs": [
    {
     "data": {
      "text/latex": [
       "$\\displaystyle \\frac{3 \\pi}{4}$"
      ],
      "text/plain": [
       "3*pi/4"
      ]
     },
     "execution_count": 107,
     "metadata": {},
     "output_type": "execute_result"
    }
   ],
   "source": [
    "smp.integrate(2*smp.sin(x)**4, (x, 0, smp.pi))"
   ]
  },
  {
   "cell_type": "code",
   "execution_count": 110,
   "metadata": {},
   "outputs": [
    {
     "data": {
      "text/latex": [
       "$\\displaystyle \\frac{9 x}{4} - \\frac{9 \\sin{\\left(2 x \\right)} \\cos{\\left(2 x \\right)}}{8}$"
      ],
      "text/plain": [
       "9*x/4 - 9*sin(2*x)*cos(2*x)/8"
      ]
     },
     "execution_count": 110,
     "metadata": {},
     "output_type": "execute_result"
    }
   ],
   "source": [
    "smp.integrate(18*(smp.sin(x)**2)*smp.cos(x)**2, x) # + C"
   ]
  },
  {
   "cell_type": "code",
   "execution_count": 4,
   "metadata": {},
   "outputs": [
    {
     "data": {
      "text/latex": [
       "$\\displaystyle 6$"
      ],
      "text/plain": [
       "6"
      ]
     },
     "execution_count": 4,
     "metadata": {},
     "output_type": "execute_result"
    }
   ],
   "source": [
    "smp.integrate(45*(smp.sin(x)**2)*smp.cos(x)**3, (x, 0, smp.pi/2))"
   ]
  },
  {
   "cell_type": "code",
   "execution_count": 115,
   "metadata": {},
   "outputs": [
    {
     "data": {
      "text/latex": [
       "$\\displaystyle \\frac{1}{25 \\cos^{5}{\\left(5 x \\right)}}$"
      ],
      "text/plain": [
       "1/(25*cos(5*x)**5)"
      ]
     },
     "execution_count": 115,
     "metadata": {},
     "output_type": "execute_result"
    }
   ],
   "source": [
    "smp.integrate((smp.sec(5*x)**5)*smp.tan(5*x), x) # + C"
   ]
  },
  {
   "cell_type": "code",
   "execution_count": 118,
   "metadata": {},
   "outputs": [
    {
     "data": {
      "text/latex": [
       "$\\displaystyle - \\frac{16 \\sin^{5}{\\left(3 x \\right)} \\cos^{5}{\\left(3 x \\right)}}{15 \\left(2 \\sin^{2}{\\left(3 x \\right)} - 1\\right)^{5}}$"
      ],
      "text/plain": [
       "-16*sin(3*x)**5*cos(3*x)**5/(15*(2*sin(3*x)**2 - 1)**5)"
      ]
     },
     "execution_count": 118,
     "metadata": {},
     "output_type": "execute_result"
    }
   ],
   "source": [
    "smp.integrate((smp.sec(6*x)**2)*smp.tan(6*x)**4, x).simplify() # + C"
   ]
  },
  {
   "cell_type": "code",
   "execution_count": 121,
   "metadata": {},
   "outputs": [
    {
     "data": {
      "text/latex": [
       "$\\displaystyle 16 \\log{\\left(\\cos{\\left(x \\right)} \\right)} + \\frac{8}{\\cos^{2}{\\left(x \\right)}}$"
      ],
      "text/plain": [
       "16*log(cos(x)) + 8/cos(x)**2"
      ]
     },
     "execution_count": 121,
     "metadata": {},
     "output_type": "execute_result"
    }
   ],
   "source": [
    "smp.integrate(16*smp.tan(x)**3, x) # + C\n",
    "\n",
    "# Ans = 16 (ln|cos(x)|) + (8 / cos^2(x)) + C"
   ]
  }
 ],
 "metadata": {
  "kernelspec": {
   "display_name": "Jupyter_Notebooks",
   "language": "python",
   "name": "python3"
  },
  "language_info": {
   "codemirror_mode": {
    "name": "ipython",
    "version": 3
   },
   "file_extension": ".py",
   "mimetype": "text/x-python",
   "name": "python",
   "nbconvert_exporter": "python",
   "pygments_lexer": "ipython3",
   "version": "3.10.10"
  },
  "orig_nbformat": 4
 },
 "nbformat": 4,
 "nbformat_minor": 2
}
