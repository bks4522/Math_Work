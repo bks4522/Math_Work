{
 "cells": [
  {
   "cell_type": "code",
   "execution_count": 2,
   "metadata": {},
   "outputs": [],
   "source": [
    "import sympy as smp\n",
    "from sympy import *\n",
    "import numpy as np\n",
    "from numpy import *\n",
    "import scipy as sp\n",
    "from scipy.integrate import solve_ivp\n",
    "from scipy.interpolate import interp1d\n",
    "from scipy.integrate import odeint\n",
    "from fractions import Fraction\n",
    "import matplotlib.pyplot as plt\n",
    "import scienceplots\n",
    "plt.style.use(['science', 'notebook', 'grid'])\n",
    "\n",
    "x, y, t, n, a, b, C, c, r, u, s = smp.symbols('x y t n a b C c r u s')\n",
    "f, g, m = smp.symbols('f g m', cls=smp.Function)"
   ]
  },
  {
   "attachments": {},
   "cell_type": "markdown",
   "metadata": {},
   "source": [
    "# 1 - 1\n",
    "\n",
    "Consider: smp.Sum(((-1)^n)*(4*x+7)^n, (n, 0, smp.oo))\n",
    "\n",
    "A - Find the series' radius and interval of convergence. \n",
    "\n",
    "B - For what values of x does the series converge absolutely?\n",
    "\n",
    "C - For what values of x does the series converge conditionally?"
   ]
  },
  {
   "cell_type": "code",
   "execution_count": 8,
   "metadata": {},
   "outputs": [
    {
     "name": "stdout",
     "output_type": "stream",
     "text": [
      "Radius of convergence:  [-2] [-3/2]\n",
      "Interval of convergence: between  -2  and  -3/2\n"
     ]
    }
   ],
   "source": [
    "# A part 1\n",
    "\n",
    "# Define the series\n",
    "series = smp.Sum(((-1)**n)*(4*x+7)**n, (n, 0, smp.oo))\n",
    "\n",
    "# Solve for the two cases separately\n",
    "R1 = smp.solve(((-1)*(4*x+7)) - 1, x)\n",
    "R2 = smp.solve(((-1)*(4*x+7)) + 1, x)\n",
    "\n",
    "# Print the radius of convergence\n",
    "print(\"Radius of convergence: \", R1, R2)\n",
    "\n",
    "# The interval of convergence is then given by the values of x for which the series converges\n",
    "print(\"Interval of convergence: between \", min(R1+R2), \" and \", max(R1+R2))"
   ]
  },
  {
   "cell_type": "code",
   "execution_count": 9,
   "metadata": {},
   "outputs": [
    {
     "data": {
      "text/plain": [
       "0.25"
      ]
     },
     "execution_count": 9,
     "metadata": {},
     "output_type": "execute_result"
    }
   ],
   "source": [
    "# A part 2\n",
    "\n",
    "# Endpoints of the interval of convergence\n",
    "x1 = -2\n",
    "x2 = -3/2\n",
    "\n",
    "# Calculate the center of the series\n",
    "center = (x1 + x2) / 2\n",
    "\n",
    "# Calculate the radius of convergence\n",
    "abs(x1 - center) # Radius"
   ]
  },
  {
   "attachments": {},
   "cell_type": "markdown",
   "metadata": {},
   "source": [
    "B: \n",
    "\n",
    "For what values of x does the series converge absolutely?\n",
    "\n",
    "The absolute convergence of a series is determined by the convergence of the series formed by taking the absolute value of each term. \n",
    "\n",
    "If this new series converges, then the original series is said to converge absolutely."
   ]
  },
  {
   "attachments": {},
   "cell_type": "markdown",
   "metadata": {},
   "source": [
    "C: \n",
    "\n",
    "A series is said to converge conditionally if it converges, but it does not converge absolutely.\n",
    "\n"
   ]
  },
  {
   "attachments": {},
   "cell_type": "markdown",
   "metadata": {},
   "source": [
    "# 1 - 2\n",
    "\n",
    "A - Find the series' radius and interval of convergence. \n",
    "\n",
    "Find the values of x for which the series converges\n",
    "\n",
    "B - Find where it converges absolutely\n",
    "\n",
    "C - Find where it converges conditionally"
   ]
  },
  {
   "cell_type": "code",
   "execution_count": 10,
   "metadata": {},
   "outputs": [
    {
     "data": {
      "text/latex": [
       "$\\displaystyle \\sum_{n=0}^{\\infty} 6^{- n} \\left(x - 4\\right)^{n}$"
      ],
      "text/plain": [
       "Sum((x - 4)**n/6**n, (n, 0, oo))"
      ]
     },
     "execution_count": 10,
     "metadata": {},
     "output_type": "execute_result"
    }
   ],
   "source": [
    "smp.Sum(((x-4)**n)/6**n, (n, 0, smp.oo))"
   ]
  },
  {
   "cell_type": "code",
   "execution_count": 19,
   "metadata": {},
   "outputs": [
    {
     "name": "stdout",
     "output_type": "stream",
     "text": [
      "Radius of convergence:  [10] [-2]\n",
      "Interval of convergence: between  -2  and  10\n"
     ]
    }
   ],
   "source": [
    "# Define the series\n",
    "series = smp.Sum(((x-4)**n)/6**n, (n, 0, smp.oo))\n",
    "\n",
    "# Solve for the two cases separately\n",
    "R1 = smp.solve(((x-4)/6) - 1, x)\n",
    "R2 = smp.solve(((x-4)/6) + 1, x)\n",
    "\n",
    "# Print the radius of convergence\n",
    "print(\"Radius of convergence: \", R1, R2)\n",
    "\n",
    "# The interval of convergence is then given by the values of x for which the series converges\n",
    "print(\"Interval of convergence: between \", min(R1+R2), \" and \", max(R1+R2))"
   ]
  },
  {
   "cell_type": "code",
   "execution_count": 22,
   "metadata": {},
   "outputs": [
    {
     "name": "stdout",
     "output_type": "stream",
     "text": [
      "Radius of convergence:  6.0\n"
     ]
    }
   ],
   "source": [
    "# Endpoints of the interval of convergence\n",
    "x1 = -2\n",
    "x2 = 10\n",
    "\n",
    "# Calculate the center of the series\n",
    "center = (x1 + x2) / 2\n",
    "\n",
    "# Calculate the radius of convergence\n",
    "radius = abs(x1 - center)\n",
    "\n",
    "print(\"Radius of convergence: \", radius)"
   ]
  },
  {
   "attachments": {},
   "cell_type": "markdown",
   "metadata": {},
   "source": [
    "The interval of convergence = -2 < x < 10\n",
    "\n",
    "Interval where the series converges absolutely: -2 < x < 10\n",
    "\n",
    "There are no values of x for which the series converges conditionally"
   ]
  },
  {
   "attachments": {},
   "cell_type": "markdown",
   "metadata": {},
   "source": [
    "Question 2 - Attempt 2"
   ]
  },
  {
   "cell_type": "code",
   "execution_count": 23,
   "metadata": {},
   "outputs": [
    {
     "data": {
      "text/latex": [
       "$\\displaystyle \\sum_{n=0}^{\\infty} 10^{- n} \\left(x - 3\\right)^{n}$"
      ],
      "text/plain": [
       "Sum((x - 3)**n/10**n, (n, 0, oo))"
      ]
     },
     "execution_count": 23,
     "metadata": {},
     "output_type": "execute_result"
    }
   ],
   "source": [
    "smp.Sum(((x-3)**n)/10**n, (n, 0, smp.oo))"
   ]
  },
  {
   "cell_type": "code",
   "execution_count": 25,
   "metadata": {},
   "outputs": [
    {
     "name": "stdout",
     "output_type": "stream",
     "text": [
      "Radius of convergence:  [13] [-7]\n",
      "Interval of convergence: between  -7  and  13\n"
     ]
    }
   ],
   "source": [
    "# Define the series\n",
    "series = smp.Sum(((x-3)**n)/10**n, (n, 0, smp.oo))\n",
    "\n",
    "# Solve for the two cases separately\n",
    "R1 = smp.solve(((x-3)/10) - 1, x)\n",
    "R2 = smp.solve(((x-3)/10) + 1, x)\n",
    "\n",
    "# Print the radius of convergence\n",
    "print(\"Radius of convergence: \", R1, R2)\n",
    "\n",
    "# The interval of convergence is then given by the values of x for which the series converges\n",
    "print(\"Interval of convergence: between \", min(R1+R2), \" and \", max(R1+R2))"
   ]
  },
  {
   "cell_type": "code",
   "execution_count": 27,
   "metadata": {},
   "outputs": [
    {
     "name": "stdout",
     "output_type": "stream",
     "text": [
      "Radius of convergence:  10.0\n"
     ]
    }
   ],
   "source": [
    "# Endpoints of the interval of convergence\n",
    "x1 = -7\n",
    "x2 = 13\n",
    "\n",
    "# Calculate the center of the series\n",
    "center = (x1 + x2) / 2\n",
    "\n",
    "# Calculate the radius of convergence\n",
    "radius = abs(x1 - center)\n",
    "\n",
    "print(\"Radius of convergence: \", radius)"
   ]
  },
  {
   "attachments": {},
   "cell_type": "markdown",
   "metadata": {},
   "source": [
    "The interval of convergence = -7 < x < 13\n",
    "\n",
    "Interval where the series converges absolutely: -7 < x < 13\n",
    "\n",
    "There are no values of x for which the series converges conditionally"
   ]
  },
  {
   "attachments": {},
   "cell_type": "markdown",
   "metadata": {},
   "source": [
    "# 1 - 3 \n",
    "\n",
    "A - Find the series' radius and interval of convergence. \n",
    "\n",
    "Find the values of x for which the series converges\n",
    "\n",
    "B - Find where it converges absolutely\n",
    "\n",
    "C - Find where it converges conditionally"
   ]
  },
  {
   "cell_type": "code",
   "execution_count": 28,
   "metadata": {},
   "outputs": [
    {
     "data": {
      "text/latex": [
       "$\\displaystyle \\sum_{n=0}^{\\infty} \\left(22 x\\right)^{n}$"
      ],
      "text/plain": [
       "Sum((22*x)**n, (n, 0, oo))"
      ]
     },
     "execution_count": 28,
     "metadata": {},
     "output_type": "execute_result"
    }
   ],
   "source": [
    "smp.Sum((22*x)**n, (n, 0, smp.oo))"
   ]
  },
  {
   "cell_type": "code",
   "execution_count": 29,
   "metadata": {},
   "outputs": [
    {
     "name": "stdout",
     "output_type": "stream",
     "text": [
      "Radius of convergence:  [1/22] [-1/22]\n",
      "Interval of convergence: between  -1/22  and  1/22\n"
     ]
    }
   ],
   "source": [
    "# Define the series\n",
    "series = smp.Sum((22*x)**n, (n, 0, smp.oo))\n",
    "\n",
    "# Solve for the two cases separately\n",
    "R1 = smp.solve((22*x) - 1, x)\n",
    "R2 = smp.solve((22*x) + 1, x)\n",
    "\n",
    "# Print the radius of convergence\n",
    "print(\"Radius of convergence: \", R1, R2)\n",
    "\n",
    "# The interval of convergence is then given by the values of x for which the series converges\n",
    "print(\"Interval of convergence: between \", min(R1+R2), \" and \", max(R1+R2))"
   ]
  },
  {
   "cell_type": "code",
   "execution_count": 31,
   "metadata": {},
   "outputs": [
    {
     "name": "stdout",
     "output_type": "stream",
     "text": [
      "Radius of convergence:  0.045454545454545456\n"
     ]
    }
   ],
   "source": [
    "# Endpoints of the interval of convergence\n",
    "x1 = -1/22\n",
    "x2 = 1/22\n",
    "\n",
    "# Calculate the center of the series\n",
    "center = (x1 + x2) / 2\n",
    "\n",
    "# Calculate the radius of convergence\n",
    "radius = abs(x1 - center)\n",
    "\n",
    "print(\"Radius of convergence: \", radius)"
   ]
  },
  {
   "attachments": {},
   "cell_type": "markdown",
   "metadata": {},
   "source": [
    "The interval of convergence = -(1/22) < x < (1/22)\n",
    "\n",
    "Interval where the series converges absolutely: -(1/22) < x < (1/22)\n",
    "\n",
    "There are no values of x for which the series converges conditionally"
   ]
  },
  {
   "attachments": {},
   "cell_type": "markdown",
   "metadata": {},
   "source": [
    "# 1 - 4 \n",
    "\n",
    "A - Find the series' radius and interval of convergence. \n",
    "\n",
    "Find the values of x for which the series converges\n",
    "\n",
    "B - Find where it converges absolutely\n",
    "\n",
    "C - Find where it converges conditionally"
   ]
  },
  {
   "cell_type": "code",
   "execution_count": 34,
   "metadata": {},
   "outputs": [
    {
     "data": {
      "text/latex": [
       "$\\displaystyle \\sum_{n=1}^{\\infty} \\frac{4^{- n} x^{n}}{n^{\\frac{3}{2}}}$"
      ],
      "text/plain": [
       "Sum(x**n/(4**n*n**(3/2)), (n, 1, oo))"
      ]
     },
     "execution_count": 34,
     "metadata": {},
     "output_type": "execute_result"
    }
   ],
   "source": [
    "smp.Sum((x**n)/((n)*smp.sqrt(n)*(4**n)), (n, 1, smp.oo))"
   ]
  },
  {
   "cell_type": "code",
   "execution_count": 37,
   "metadata": {},
   "outputs": [
    {
     "name": "stdout",
     "output_type": "stream",
     "text": [
      "Radius of convergence:  4.0\n",
      "Interval of convergence: between  -4  and  4\n"
     ]
    }
   ],
   "source": [
    "# Endpoints of the interval of convergence\n",
    "x1 = -4\n",
    "x2 = 4\n",
    "\n",
    "# Calculate the center of the series\n",
    "center = (x1 + x2) / 2\n",
    "\n",
    "# Calculate the radius of convergence\n",
    "radius = abs(x1 - center)\n",
    "\n",
    "print(\"Radius of convergence: \", radius)\n",
    "print(\"Interval of convergence: between \", x1, \" and \", x2)"
   ]
  },
  {
   "attachments": {},
   "cell_type": "markdown",
   "metadata": {},
   "source": [
    "The interval of convergence = -4 <= x <= 4\n",
    "\n",
    "Interval where the series converges absolutely: -4 <= x <= 4\n",
    "\n",
    "There are no values of x for which the series converges conditionally"
   ]
  },
  {
   "attachments": {},
   "cell_type": "markdown",
   "metadata": {},
   "source": [
    "# 1 - 5\n",
    "\n",
    "A - Find the series' radius and interval of convergence. \n",
    "\n",
    "Find the values of x for which the series converges\n",
    "\n",
    "B - Find where it converges absolutely\n",
    "\n",
    "C - Find where it converges conditionally"
   ]
  },
  {
   "cell_type": "code",
   "execution_count": 50,
   "metadata": {},
   "outputs": [
    {
     "data": {
      "text/latex": [
       "$\\displaystyle \\sum_{n=0}^{\\infty} \\frac{\\left(-1\\right)^{n} x^{n}}{\\left(n + 1\\right)!}$"
      ],
      "text/plain": [
       "Sum((-1)**n*x**n/factorial(n + 1), (n, 0, oo))"
      ]
     },
     "execution_count": 50,
     "metadata": {},
     "output_type": "execute_result"
    }
   ],
   "source": [
    "smp.Sum((((-1)**n)*(x**n))/smp.factorial(n+1), (n, 0, smp.oo))"
   ]
  },
  {
   "cell_type": "code",
   "execution_count": 52,
   "metadata": {},
   "outputs": [
    {
     "name": "stdout",
     "output_type": "stream",
     "text": [
      "Radius of convergence: Infinite\n",
      "Interval of convergence: All real numbers\n",
      "The series converges absolutely for all real numbers\n"
     ]
    }
   ],
   "source": [
    "# Define the series\n",
    "series = smp.Sum((((-1)**n)*(x**n))/smp.factorial(n+1), (n, 0, smp.oo))\n",
    "\n",
    "# The radius of convergence is infinite\n",
    "print(\"Radius of convergence: Infinite\")\n",
    "\n",
    "# The interval of convergence is all real numbers\n",
    "print(\"Interval of convergence: All real numbers\")\n",
    "\n",
    "# The series converges absolutely for all real numbers\n",
    "print(\"The series converges absolutely for all real numbers\")"
   ]
  },
  {
   "attachments": {},
   "cell_type": "markdown",
   "metadata": {},
   "source": [
    "# 1 - 6\n",
    "\n",
    "A - Find the series' radius and interval of convergence. \n",
    "\n",
    "Find the values of x for which the series converges\n",
    "\n",
    "B - Find where it converges absolutely\n",
    "\n",
    "C - Find where it converges conditionally"
   ]
  },
  {
   "cell_type": "code",
   "execution_count": 55,
   "metadata": {},
   "outputs": [
    {
     "data": {
      "text/latex": [
       "$\\displaystyle \\sum_{n=1}^{\\infty} 36^{n} x^{2}$"
      ],
      "text/plain": [
       "Sum(36**n*x**2, (n, 1, oo))"
      ]
     },
     "execution_count": 55,
     "metadata": {},
     "output_type": "execute_result"
    }
   ],
   "source": [
    "smp.Sum(((36**n)*(x**2*n))/(n), (n, 1, smp.oo))"
   ]
  },
  {
   "cell_type": "code",
   "execution_count": 56,
   "metadata": {},
   "outputs": [
    {
     "name": "stdout",
     "output_type": "stream",
     "text": [
      "Radius of convergence: 1/6\n",
      "Interval of convergence: between -1/6 and 1/6\n",
      "The series converges absolutely for all x in the interval of convergence\n"
     ]
    }
   ],
   "source": [
    "import sympy as smp\n",
    "\n",
    "# Define the variables\n",
    "n, x = smp.symbols('n x')\n",
    "\n",
    "# Define the series\n",
    "series = smp.Sum(((36**n)*(x**2*n))/n, (n, 1, smp.oo))\n",
    "\n",
    "# The radius of convergence is 1/6\n",
    "print(\"Radius of convergence: 1/6\")\n",
    "\n",
    "# The interval of convergence is -1/6 <= x <= 1/6\n",
    "print(\"Interval of convergence: between -1/6 and 1/6\")\n",
    "\n",
    "# The series converges absolutely for all x in the interval of convergence\n",
    "print(\"The series converges absolutely for all x in the interval of convergence\")"
   ]
  },
  {
   "attachments": {},
   "cell_type": "markdown",
   "metadata": {},
   "source": [
    "# 1 - 7\n",
    "\n",
    "A - Find the series' radius and interval of convergence. \n",
    "\n",
    "Find the values of x for which the series converges\n",
    "\n",
    "B - Find where it converges absolutely\n",
    "\n",
    "C - Find where it converges conditionally"
   ]
  },
  {
   "cell_type": "code",
   "execution_count": 58,
   "metadata": {},
   "outputs": [
    {
     "data": {
      "text/latex": [
       "$\\displaystyle \\sum_{n=0}^{\\infty} \\frac{x^{n}}{\\sqrt{n^{2} + 5}}$"
      ],
      "text/plain": [
       "Sum(x**n/sqrt(n**2 + 5), (n, 0, oo))"
      ]
     },
     "execution_count": 58,
     "metadata": {},
     "output_type": "execute_result"
    }
   ],
   "source": [
    "smp.Sum((x**n)/smp.sqrt(n**2 + 5), (n, 0, smp.oo))"
   ]
  },
  {
   "attachments": {},
   "cell_type": "markdown",
   "metadata": {},
   "source": [
    "# 1 - 8\n",
    "\n",
    "A - Find the series' radius and interval of convergence. \n",
    "\n",
    "Find the values of x for which the series converges\n",
    "\n",
    "B - Find where it converges absolutely\n",
    "\n",
    "C - Find where it converges conditionally"
   ]
  },
  {
   "cell_type": "code",
   "execution_count": 60,
   "metadata": {},
   "outputs": [
    {
     "data": {
      "text/latex": [
       "$\\displaystyle \\sum_{n=1}^{\\infty} \\frac{\\left(6 x - 5\\right)^{2 n + 1}}{n^{1.5}}$"
      ],
      "text/plain": [
       "Sum((6*x - 5)**(2*n + 1)/n**1.5, (n, 1, oo))"
      ]
     },
     "execution_count": 60,
     "metadata": {},
     "output_type": "execute_result"
    }
   ],
   "source": [
    "smp.Sum((((6*x-5)**(2*n + 1))/(n**(3/2))), (n, 1, smp.oo))"
   ]
  },
  {
   "attachments": {},
   "cell_type": "markdown",
   "metadata": {},
   "source": [
    "# 2 - 1"
   ]
  },
  {
   "cell_type": "code",
   "execution_count": 11,
   "metadata": {},
   "outputs": [
    {
     "data": {
      "text/latex": [
       "$\\displaystyle 1$"
      ],
      "text/plain": [
       "1"
      ]
     },
     "execution_count": 11,
     "metadata": {},
     "output_type": "execute_result"
    }
   ],
   "source": [
    "# Define the variable and function\n",
    "x = smp.symbols('x')\n",
    "f = smp.exp(3*x)\n",
    "a = 0\n",
    "\n",
    "# Calculate the Taylor polynomial of order 0\n",
    "P_0 = f.subs(x, a)\n",
    "\n",
    "P_0"
   ]
  },
  {
   "cell_type": "code",
   "execution_count": 29,
   "metadata": {},
   "outputs": [
    {
     "data": {
      "text/latex": [
       "$\\displaystyle 3 x + 1$"
      ],
      "text/plain": [
       "3*x + 1"
      ]
     },
     "execution_count": 29,
     "metadata": {},
     "output_type": "execute_result"
    }
   ],
   "source": [
    "# Define the variable and function\n",
    "x = smp.symbols('x')\n",
    "f = smp.exp(3*x)\n",
    "a = 0\n",
    "\n",
    "# Calculate the derivative of f\n",
    "f_prime = smp.diff(f, x)\n",
    "\n",
    "# Calculate the Taylor polynomial of order 1\n",
    "P_1 = f.subs(x, a) + f_prime.subs(x, a)*(x - a)\n",
    "\n",
    "P_1"
   ]
  },
  {
   "cell_type": "code",
   "execution_count": 30,
   "metadata": {},
   "outputs": [
    {
     "data": {
      "text/latex": [
       "$\\displaystyle \\frac{9 x^{2}}{2} + 3 x + 1$"
      ],
      "text/plain": [
       "9*x**2/2 + 3*x + 1"
      ]
     },
     "execution_count": 30,
     "metadata": {},
     "output_type": "execute_result"
    }
   ],
   "source": [
    "# Define the variable and function\n",
    "x = smp.symbols('x')\n",
    "f = smp.exp(3*x)\n",
    "a = 0\n",
    "\n",
    "# Calculate the derivative of f\n",
    "f_prime = smp.diff(f, x)\n",
    "\n",
    "# Calculate the second derivative of f\n",
    "f_double_prime = smp.diff(f_prime, x)\n",
    "\n",
    "# Calculate the Taylor polynomial of order 2\n",
    "P_2 = f.subs(x, a) + f_prime.subs(x, a)*(x - a) + f_double_prime.subs(x, a)/2*(x - a)**2\n",
    "\n",
    "P_2"
   ]
  },
  {
   "cell_type": "code",
   "execution_count": 31,
   "metadata": {},
   "outputs": [
    {
     "data": {
      "text/latex": [
       "$\\displaystyle \\frac{9 x^{3}}{2} + \\frac{9 x^{2}}{2} + 3 x + 1$"
      ],
      "text/plain": [
       "9*x**3/2 + 9*x**2/2 + 3*x + 1"
      ]
     },
     "execution_count": 31,
     "metadata": {},
     "output_type": "execute_result"
    }
   ],
   "source": [
    "# Define the variable and function\n",
    "x = smp.symbols('x')\n",
    "f = smp.exp(3*x)\n",
    "a = 0\n",
    "\n",
    "# Calculate the derivative of f\n",
    "f_prime = smp.diff(f, x)\n",
    "\n",
    "# Calculate the second derivative of f\n",
    "f_double_prime = smp.diff(f_prime, x)\n",
    "\n",
    "# Calculate the third derivative of f\n",
    "f_triple_prime = smp.diff(f_double_prime, x)\n",
    "\n",
    "# Calculate the Taylor polynomial of order 3\n",
    "P_3 = f.subs(x, a) + f_prime.subs(x, a)*(x - a) + f_double_prime.subs(x, a)/2*(x - a)**2 + f_triple_prime.subs(x, a)/6*(x - a)**3\n",
    "\n",
    "P_3"
   ]
  },
  {
   "attachments": {},
   "cell_type": "markdown",
   "metadata": {},
   "source": [
    "# 2 - 2"
   ]
  },
  {
   "cell_type": "code",
   "execution_count": 32,
   "metadata": {},
   "outputs": [
    {
     "data": {
      "text/latex": [
       "$\\displaystyle 0$"
      ],
      "text/plain": [
       "0"
      ]
     },
     "execution_count": 32,
     "metadata": {},
     "output_type": "execute_result"
    }
   ],
   "source": [
    "# Define the variable and function\n",
    "x = smp.symbols('x')\n",
    "f = smp.ln(1+8*x)\n",
    "a = 0\n",
    "\n",
    "# Calculate the Taylor polynomial of order 0\n",
    "P_0 = f.subs(x, a)\n",
    "\n",
    "P_0"
   ]
  },
  {
   "cell_type": "code",
   "execution_count": 33,
   "metadata": {},
   "outputs": [
    {
     "data": {
      "text/latex": [
       "$\\displaystyle 8 x$"
      ],
      "text/plain": [
       "8*x"
      ]
     },
     "execution_count": 33,
     "metadata": {},
     "output_type": "execute_result"
    }
   ],
   "source": [
    "# Define the variable and function\n",
    "x = smp.symbols('x')\n",
    "f = smp.ln(1+8*x)\n",
    "a = 0\n",
    "\n",
    "# Calculate the derivative of f\n",
    "f_prime = smp.diff(f, x)\n",
    "\n",
    "# Calculate the Taylor polynomial of order 1\n",
    "P_1 = f.subs(x, a) + f_prime.subs(x, a)*(x - a)\n",
    "\n",
    "P_1"
   ]
  },
  {
   "cell_type": "code",
   "execution_count": 34,
   "metadata": {},
   "outputs": [
    {
     "data": {
      "text/latex": [
       "$\\displaystyle - 32 x^{2} + 8 x$"
      ],
      "text/plain": [
       "-32*x**2 + 8*x"
      ]
     },
     "execution_count": 34,
     "metadata": {},
     "output_type": "execute_result"
    }
   ],
   "source": [
    "# Define the variable and function\n",
    "x = smp.symbols('x')\n",
    "f = smp.ln(1+8*x)\n",
    "a = 0\n",
    "\n",
    "# Calculate the derivative of f\n",
    "f_prime = smp.diff(f, x)\n",
    "\n",
    "# Calculate the second derivative of f\n",
    "f_double_prime = smp.diff(f_prime, x)\n",
    "\n",
    "# Calculate the Taylor polynomial of order 2\n",
    "P_2 = f.subs(x, a) + f_prime.subs(x, a)*(x - a) + f_double_prime.subs(x, a)/2*(x - a)**2\n",
    "\n",
    "P_2"
   ]
  },
  {
   "cell_type": "code",
   "execution_count": 35,
   "metadata": {},
   "outputs": [
    {
     "data": {
      "text/latex": [
       "$\\displaystyle \\frac{512 x^{3}}{3} - 32 x^{2} + 8 x$"
      ],
      "text/plain": [
       "512*x**3/3 - 32*x**2 + 8*x"
      ]
     },
     "execution_count": 35,
     "metadata": {},
     "output_type": "execute_result"
    }
   ],
   "source": [
    "# Define the variable and function\n",
    "x = smp.symbols('x')\n",
    "f = smp.ln(1+8*x)\n",
    "a = 0\n",
    "\n",
    "# Calculate the derivative of f\n",
    "f_prime = smp.diff(f, x)\n",
    "\n",
    "# Calculate the second derivative of f\n",
    "f_double_prime = smp.diff(f_prime, x)\n",
    "\n",
    "# Calculate the third derivative of f\n",
    "f_triple_prime = smp.diff(f_double_prime, x)\n",
    "\n",
    "# Calculate the Taylor polynomial of order 3\n",
    "P_3 = f.subs(x, a) + f_prime.subs(x, a)*(x - a) + f_double_prime.subs(x, a)/2*(x - a)**2 + f_triple_prime.subs(x, a)/6*(x - a)**3\n",
    "\n",
    "P_3"
   ]
  },
  {
   "attachments": {},
   "cell_type": "markdown",
   "metadata": {},
   "source": [
    "# 2 - 3"
   ]
  },
  {
   "cell_type": "code",
   "execution_count": 36,
   "metadata": {},
   "outputs": [
    {
     "data": {
      "text/latex": [
       "$\\displaystyle \\frac{2}{3}$"
      ],
      "text/plain": [
       "2/3"
      ]
     },
     "execution_count": 36,
     "metadata": {},
     "output_type": "execute_result"
    }
   ],
   "source": [
    "# Define the variable and function\n",
    "x = smp.symbols('x')\n",
    "f = 2/x\n",
    "a = 3\n",
    "\n",
    "# Calculate the Taylor polynomial of order 3\n",
    "P_0 = f.subs(x, a)\n",
    "\n",
    "P_0"
   ]
  },
  {
   "cell_type": "code",
   "execution_count": 37,
   "metadata": {},
   "outputs": [
    {
     "data": {
      "text/latex": [
       "$\\displaystyle \\frac{4}{3} - \\frac{2 x}{9}$"
      ],
      "text/plain": [
       "4/3 - 2*x/9"
      ]
     },
     "execution_count": 37,
     "metadata": {},
     "output_type": "execute_result"
    }
   ],
   "source": [
    "# Define the variable and function\n",
    "x = smp.symbols('x')\n",
    "f = 2/x\n",
    "a = 3\n",
    "\n",
    "# Calculate the derivative of f\n",
    "f_prime = smp.diff(f, x)\n",
    "\n",
    "# Calculate the Taylor polynomial of order 1\n",
    "P_1 = f.subs(x, a) + f_prime.subs(x, a)*(x - a)\n",
    "\n",
    "P_1"
   ]
  },
  {
   "cell_type": "code",
   "execution_count": 38,
   "metadata": {},
   "outputs": [
    {
     "data": {
      "text/latex": [
       "$\\displaystyle - \\frac{2 x}{9} + \\frac{2 \\left(x - 3\\right)^{2}}{27} + \\frac{4}{3}$"
      ],
      "text/plain": [
       "-2*x/9 + 2*(x - 3)**2/27 + 4/3"
      ]
     },
     "execution_count": 38,
     "metadata": {},
     "output_type": "execute_result"
    }
   ],
   "source": [
    "# Define the variable and function\n",
    "x = smp.symbols('x')\n",
    "f = 2/x\n",
    "a = 3\n",
    "\n",
    "# Calculate the derivative of f\n",
    "f_prime = smp.diff(f, x)\n",
    "\n",
    "# Calculate the second derivative of f\n",
    "f_double_prime = smp.diff(f_prime, x)\n",
    "\n",
    "# Calculate the Taylor polynomial of order 2\n",
    "P_2 = f.subs(x, a) + f_prime.subs(x, a)*(x - a) + f_double_prime.subs(x, a)/2*(x - a)**2\n",
    "\n",
    "P_2"
   ]
  },
  {
   "cell_type": "code",
   "execution_count": 39,
   "metadata": {},
   "outputs": [
    {
     "data": {
      "text/latex": [
       "$\\displaystyle - \\frac{2 x}{9} - \\frac{2 \\left(x - 3\\right)^{3}}{81} + \\frac{2 \\left(x - 3\\right)^{2}}{27} + \\frac{4}{3}$"
      ],
      "text/plain": [
       "-2*x/9 - 2*(x - 3)**3/81 + 2*(x - 3)**2/27 + 4/3"
      ]
     },
     "execution_count": 39,
     "metadata": {},
     "output_type": "execute_result"
    }
   ],
   "source": [
    "# Define the variable and function\n",
    "x = smp.symbols('x')\n",
    "f = 2/x\n",
    "a = 3\n",
    "\n",
    "# Calculate the derivative of f\n",
    "f_prime = smp.diff(f, x)\n",
    "\n",
    "# Calculate the second derivative of f\n",
    "f_double_prime = smp.diff(f_prime, x)\n",
    "\n",
    "# Calculate the third derivative of f\n",
    "f_triple_prime = smp.diff(f_double_prime, x)\n",
    "\n",
    "# Calculate the Taylor polynomial of order 3\n",
    "P_3 = f.subs(x, a) + f_prime.subs(x, a)*(x - a) + f_double_prime.subs(x, a)/2*(x - a)**2 + f_triple_prime.subs(x, a)/6*(x - a)**3\n",
    "\n",
    "P_3"
   ]
  },
  {
   "attachments": {},
   "cell_type": "markdown",
   "metadata": {},
   "source": [
    "# 2 - 4"
   ]
  },
  {
   "cell_type": "code",
   "execution_count": 26,
   "metadata": {},
   "outputs": [
    {
     "data": {
      "text/latex": [
       "$\\displaystyle \\frac{\\sqrt{2}}{2}$"
      ],
      "text/plain": [
       "sqrt(2)/2"
      ]
     },
     "execution_count": 26,
     "metadata": {},
     "output_type": "execute_result"
    }
   ],
   "source": [
    "# Define the variable and function\n",
    "x = smp.symbols('x')\n",
    "f = smp.sin(x)\n",
    "a = (3*smp.pi)/4\n",
    "\n",
    "# Calculate the Taylor polynomial of order 3\n",
    "P_0 = f.subs(x, a)\n",
    "\n",
    "P_0"
   ]
  },
  {
   "cell_type": "code",
   "execution_count": 40,
   "metadata": {},
   "outputs": [
    {
     "data": {
      "text/latex": [
       "$\\displaystyle - \\frac{\\sqrt{2} \\left(x - \\frac{3 \\pi}{4}\\right)}{2} + \\frac{\\sqrt{2}}{2}$"
      ],
      "text/plain": [
       "-sqrt(2)*(x - 3*pi/4)/2 + sqrt(2)/2"
      ]
     },
     "execution_count": 40,
     "metadata": {},
     "output_type": "execute_result"
    }
   ],
   "source": [
    "# Define the variable and function\n",
    "x = smp.symbols('x')\n",
    "f = smp.sin(x)\n",
    "a = (3*smp.pi)/4\n",
    "\n",
    "# Calculate the derivative of f\n",
    "f_prime = smp.diff(f, x)\n",
    "\n",
    "# Calculate the Taylor polynomial of order 1\n",
    "P_1 = f.subs(x, a) + f_prime.subs(x, a)*(x - a)\n",
    "\n",
    "P_1"
   ]
  },
  {
   "cell_type": "code",
   "execution_count": 41,
   "metadata": {},
   "outputs": [
    {
     "data": {
      "text/latex": [
       "$\\displaystyle - \\frac{\\sqrt{2} \\left(x - \\frac{3 \\pi}{4}\\right)^{2}}{4} - \\frac{\\sqrt{2} \\left(x - \\frac{3 \\pi}{4}\\right)}{2} + \\frac{\\sqrt{2}}{2}$"
      ],
      "text/plain": [
       "-sqrt(2)*(x - 3*pi/4)**2/4 - sqrt(2)*(x - 3*pi/4)/2 + sqrt(2)/2"
      ]
     },
     "execution_count": 41,
     "metadata": {},
     "output_type": "execute_result"
    }
   ],
   "source": [
    "# Define the variable and function\n",
    "x = smp.symbols('x')\n",
    "f = smp.sin(x)\n",
    "a = (3*smp.pi)/4\n",
    "\n",
    "# Calculate the derivative of f\n",
    "f_prime = smp.diff(f, x)\n",
    "\n",
    "# Calculate the second derivative of f\n",
    "f_double_prime = smp.diff(f_prime, x)\n",
    "\n",
    "# Calculate the Taylor polynomial of order 2\n",
    "P_2 = f.subs(x, a) + f_prime.subs(x, a)*(x - a) + f_double_prime.subs(x, a)/2*(x - a)**2\n",
    "\n",
    "P_2"
   ]
  },
  {
   "cell_type": "code",
   "execution_count": 42,
   "metadata": {},
   "outputs": [
    {
     "data": {
      "text/latex": [
       "$\\displaystyle \\frac{\\sqrt{2} \\left(x - \\frac{3 \\pi}{4}\\right)^{3}}{12} - \\frac{\\sqrt{2} \\left(x - \\frac{3 \\pi}{4}\\right)^{2}}{4} - \\frac{\\sqrt{2} \\left(x - \\frac{3 \\pi}{4}\\right)}{2} + \\frac{\\sqrt{2}}{2}$"
      ],
      "text/plain": [
       "sqrt(2)*(x - 3*pi/4)**3/12 - sqrt(2)*(x - 3*pi/4)**2/4 - sqrt(2)*(x - 3*pi/4)/2 + sqrt(2)/2"
      ]
     },
     "execution_count": 42,
     "metadata": {},
     "output_type": "execute_result"
    }
   ],
   "source": [
    "# Define the variable and function\n",
    "x = smp.symbols('x')\n",
    "f = smp.sin(x)\n",
    "a = (3*smp.pi)/4\n",
    "\n",
    "# Calculate the derivative of f\n",
    "f_prime = smp.diff(f, x)\n",
    "\n",
    "# Calculate the second derivative of f\n",
    "f_double_prime = smp.diff(f_prime, x)\n",
    "\n",
    "# Calculate the third derivative of f\n",
    "f_triple_prime = smp.diff(f_double_prime, x)\n",
    "\n",
    "# Calculate the Taylor polynomial of order 3\n",
    "P_3 = f.subs(x, a) + f_prime.subs(x, a)*(x - a) + f_double_prime.subs(x, a)/2*(x - a)**2 + f_triple_prime.subs(x, a)/6*(x - a)**3\n",
    "\n",
    "P_3"
   ]
  },
  {
   "attachments": {},
   "cell_type": "markdown",
   "metadata": {},
   "source": [
    "# 2 - 8"
   ]
  },
  {
   "cell_type": "code",
   "execution_count": 56,
   "metadata": {},
   "outputs": [
    {
     "data": {
      "text/latex": [
       "$\\displaystyle 6 - 4 x$"
      ],
      "text/plain": [
       "6 - 4*x"
      ]
     },
     "execution_count": 56,
     "metadata": {},
     "output_type": "execute_result"
    }
   ],
   "source": [
    "# Define the variable and function\n",
    "x = smp.symbols('x')\n",
    "f = (2/x**2)\n",
    "a = 1\n",
    "\n",
    "# Calculate the derivative of f\n",
    "f_prime = smp.diff(f, x)\n",
    "\n",
    "# Calculate the Taylor polynomial of order 1\n",
    "P_1 = f.subs(x, a) + f_prime.subs(x, a)*(x - a)\n",
    "\n",
    "P_1"
   ]
  },
  {
   "attachments": {},
   "cell_type": "markdown",
   "metadata": {},
   "source": [
    "# 2 - 9"
   ]
  },
  {
   "cell_type": "code",
   "execution_count": 57,
   "metadata": {},
   "outputs": [
    {
     "data": {
      "text/latex": [
       "$\\displaystyle \\pi - 2 x$"
      ],
      "text/plain": [
       "pi - 2*x"
      ]
     },
     "execution_count": 57,
     "metadata": {},
     "output_type": "execute_result"
    }
   ],
   "source": [
    "# Define the variable and function\n",
    "x = smp.symbols('x')\n",
    "f = smp.cos(2*x + (3*smp.pi)/2)\n",
    "a = smp.pi/2\n",
    "\n",
    "# Calculate the derivative of f\n",
    "f_prime = smp.diff(f, x)\n",
    "\n",
    "# Calculate the Taylor polynomial of order 1\n",
    "P_1 = f.subs(x, a) + f_prime.subs(x, a)*(x - a)\n",
    "\n",
    "P_1"
   ]
  },
  {
   "attachments": {},
   "cell_type": "markdown",
   "metadata": {},
   "source": [
    "# 3 - 1"
   ]
  },
  {
   "cell_type": "code",
   "execution_count": null,
   "metadata": {},
   "outputs": [],
   "source": []
  }
 ],
 "metadata": {
  "kernelspec": {
   "display_name": "Env1",
   "language": "python",
   "name": "python3"
  },
  "language_info": {
   "codemirror_mode": {
    "name": "ipython",
    "version": 3
   },
   "file_extension": ".py",
   "mimetype": "text/x-python",
   "name": "python",
   "nbconvert_exporter": "python",
   "pygments_lexer": "ipython3",
   "version": "3.10.10"
  },
  "orig_nbformat": 4
 },
 "nbformat": 4,
 "nbformat_minor": 2
}
