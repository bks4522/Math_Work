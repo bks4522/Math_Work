{
 "cells": [
  {
   "cell_type": "code",
   "execution_count": 45,
   "metadata": {},
   "outputs": [],
   "source": [
    "import sympy as smp\n",
    "from sympy import *\n",
    "import numpy as np\n",
    "from numpy import *\n",
    "import scipy as sp\n",
    "from scipy.integrate import solve_ivp\n",
    "from scipy.interpolate import interp1d\n",
    "from scipy.integrate import odeint\n",
    "from fractions import Fraction\n",
    "import matplotlib.pyplot as plt\n",
    "import scienceplots\n",
    "plt.style.use(['science', 'notebook', 'grid'])\n",
    "\n",
    "x, y, t, n, a, b, C, c, r, u, s = smp.symbols('x y t n a b C c r u s')\n",
    "f, g, m = smp.symbols('f g m', cls=smp.Function)"
   ]
  },
  {
   "attachments": {},
   "cell_type": "markdown",
   "metadata": {},
   "source": [
    "# 1 - 1\n",
    "\n",
    "A formula is given below for the nth term a sub n of a sequence {a sub n}\n",
    "\n",
    "Find the values a sub 1, a sub 2, a sub 3, and a sub 4\n",
    "\n",
    "a sub n = ((-1)**(n+1)) / (7n - 2)"
   ]
  },
  {
   "cell_type": "code",
   "execution_count": 11,
   "metadata": {},
   "outputs": [
    {
     "name": "stdout",
     "output_type": "stream",
     "text": [
      "[Fraction(1, 5), Fraction(-1, 12), Fraction(1, 19), Fraction(-1, 26)]\n"
     ]
    }
   ],
   "source": [
    "# 1\n",
    "a_n = [Fraction((-1)**(n+1), 7*n - 2) for n in range(1, 5)]\n",
    "print(a_n)"
   ]
  },
  {
   "cell_type": "code",
   "execution_count": 18,
   "metadata": {},
   "outputs": [
    {
     "data": {
      "text/plain": [
       "[0.2, -0.08333333333333333, 0.05263157894736842, -0.038461538461538464]"
      ]
     },
     "execution_count": 18,
     "metadata": {},
     "output_type": "execute_result"
    }
   ],
   "source": [
    "# 1\n",
    "a_n = [((-1)**(n+1))/(7*n - 2) for n in range(1, 5)]\n",
    "a_n"
   ]
  },
  {
   "attachments": {},
   "cell_type": "markdown",
   "metadata": {},
   "source": [
    "# 1 - 2\n",
    "\n",
    "Find a formula for the nth term of the sequence:\n",
    "\n",
    "-1, 16, -81, 256, -625, ...\n",
    "\n",
    "Answer = (-1)^n * n^4"
   ]
  },
  {
   "attachments": {},
   "cell_type": "markdown",
   "metadata": {},
   "source": [
    "# 1 - 3\n",
    "\n",
    "Does the sequence {a sub n} converge or diverge? \n",
    "\n",
    "Find the limit if the sequence is convergent.\n",
    "\n",
    "a sub n = (1 - 6n^4) / (n^4 + 6n^3)"
   ]
  },
  {
   "cell_type": "code",
   "execution_count": 21,
   "metadata": {},
   "outputs": [
    {
     "data": {
      "text/latex": [
       "$\\displaystyle -6$"
      ],
      "text/plain": [
       "-6"
      ]
     },
     "execution_count": 21,
     "metadata": {},
     "output_type": "execute_result"
    }
   ],
   "source": [
    "# 3\n",
    "\n",
    "sequence = (1 - 6*n**4) / (n**4 + 6*n**3)\n",
    "\n",
    "limit = smp.limit(sequence, n, smp.oo)\n",
    "\n",
    "limit"
   ]
  },
  {
   "attachments": {},
   "cell_type": "markdown",
   "metadata": {},
   "source": [
    "# 1 - 4\n",
    "\n",
    "Does the sequence {a sub n} converge or diverge? \n",
    "\n",
    "Find the limit if the sequence is convergent.\n",
    "\n",
    "a sub n = -1 + (-1)^n"
   ]
  },
  {
   "cell_type": "code",
   "execution_count": 26,
   "metadata": {},
   "outputs": [],
   "source": [
    "# 4\n",
    "\n",
    "sequence = -1 + (-1)**n\n",
    "\n",
    "#limit = smp.limit(sequence, n, smp.oo)\n",
    "\n",
    "#limit\n",
    "\n",
    "# If there is a NotImplementedError, then the sequence diverges"
   ]
  },
  {
   "attachments": {},
   "cell_type": "markdown",
   "metadata": {},
   "source": [
    "# 1 - 5\n",
    "\n",
    "Does the sequence {a sub n} converge or diverge? \n",
    "\n",
    "Find the limit if the sequence is convergent.\n",
    "\n",
    "a sub n = cos(pi - (9/n))"
   ]
  },
  {
   "cell_type": "code",
   "execution_count": 28,
   "metadata": {},
   "outputs": [
    {
     "data": {
      "text/latex": [
       "$\\displaystyle \\left\\langle -1, 1\\right\\rangle$"
      ],
      "text/plain": [
       "AccumBounds(-1, 1)"
      ]
     },
     "execution_count": 28,
     "metadata": {},
     "output_type": "execute_result"
    }
   ],
   "source": [
    "# 5 - 1\n",
    "\n",
    "sequence = smp.cos(smp.pi/(9/n))\n",
    "\n",
    "limit = smp.limit(sequence, n, smp.oo)\n",
    "\n",
    "limit # Ans = -1"
   ]
  },
  {
   "cell_type": "code",
   "execution_count": 30,
   "metadata": {},
   "outputs": [
    {
     "data": {
      "text/latex": [
       "$\\displaystyle -1$"
      ],
      "text/plain": [
       "-1"
      ]
     },
     "execution_count": 30,
     "metadata": {},
     "output_type": "execute_result"
    }
   ],
   "source": [
    "# 5 - 2\n",
    "\n",
    "sequence = smp.sin((3*smp.pi/2) - (9/n))\n",
    "\n",
    "limit = smp.limit(sequence, n, smp.oo)\n",
    "\n",
    "limit"
   ]
  },
  {
   "attachments": {},
   "cell_type": "markdown",
   "metadata": {},
   "source": [
    "# 1 - 6\n",
    "\n",
    "Does the sequence {a sub n} converge or diverge? \n",
    "\n",
    "Find the limit if the sequence is convergent.\n",
    "\n",
    "a sub n = sin(n) / 5*n"
   ]
  },
  {
   "cell_type": "code",
   "execution_count": 31,
   "metadata": {},
   "outputs": [
    {
     "data": {
      "text/latex": [
       "$\\displaystyle 0$"
      ],
      "text/plain": [
       "0"
      ]
     },
     "execution_count": 31,
     "metadata": {},
     "output_type": "execute_result"
    }
   ],
   "source": [
    "# 6\n",
    "\n",
    "sequence = smp.sin(n) / (5*n)\n",
    "\n",
    "limit = smp.limit(sequence, n, smp.oo)\n",
    "\n",
    "limit"
   ]
  },
  {
   "attachments": {},
   "cell_type": "markdown",
   "metadata": {},
   "source": [
    "# 1 - 7\n",
    "\n",
    "Does the sequence {a sub n} converge or diverge? \n",
    "\n",
    "Find the limit if the sequence is convergent.\n",
    "\n",
    "a sub n = ln(n+4) / cbrt(n)"
   ]
  },
  {
   "cell_type": "code",
   "execution_count": 32,
   "metadata": {},
   "outputs": [
    {
     "data": {
      "text/latex": [
       "$\\displaystyle 0$"
      ],
      "text/plain": [
       "0"
      ]
     },
     "execution_count": 32,
     "metadata": {},
     "output_type": "execute_result"
    }
   ],
   "source": [
    "# 7\n",
    "\n",
    "sequence = (smp.ln(n+4)) / smp.cbrt(n)\n",
    "\n",
    "limit = smp.limit(sequence, n, smp.oo)\n",
    "\n",
    "limit"
   ]
  },
  {
   "attachments": {},
   "cell_type": "markdown",
   "metadata": {},
   "source": [
    "# 1 - 8\n",
    "\n",
    "Does the sequence {a sub n} converge or diverge? \n",
    "\n",
    "Find the limit if the sequence is convergent.\n",
    "\n",
    "a sub n = (1 - (6/n))^n"
   ]
  },
  {
   "cell_type": "code",
   "execution_count": 33,
   "metadata": {},
   "outputs": [
    {
     "data": {
      "text/latex": [
       "$\\displaystyle e^{-6}$"
      ],
      "text/plain": [
       "exp(-6)"
      ]
     },
     "execution_count": 33,
     "metadata": {},
     "output_type": "execute_result"
    }
   ],
   "source": [
    "# 8\n",
    "\n",
    "sequence = (1 - (6/n))**n\n",
    "\n",
    "limit = smp.limit(sequence, n, smp.oo)\n",
    "\n",
    "limit"
   ]
  },
  {
   "attachments": {},
   "cell_type": "markdown",
   "metadata": {},
   "source": [
    "# 2 - 1\n",
    "\n",
    "Write out the first four terms of the series to show how the series starts.\n",
    "\n",
    "Then find the sum of the series or show that it diverges.\n",
    "\n",
    "Sigma(n, 0, smp.oo) ((8/7^n) + (3/4^n))"
   ]
  },
  {
   "cell_type": "code",
   "execution_count": 54,
   "metadata": {},
   "outputs": [
    {
     "data": {
      "text/latex": [
       "$\\displaystyle \\frac{40}{3}$"
      ],
      "text/plain": [
       "40/3"
      ]
     },
     "execution_count": 54,
     "metadata": {},
     "output_type": "execute_result"
    }
   ],
   "source": [
    "# Calculate first four terms of series\n",
    "#fft = [series.subs(n, i) for i in range(4)]\n",
    "\n",
    "smp.Sum(((8/7**n) + (3/4**n)), (n, 0, smp.oo)).doit()"
   ]
  },
  {
   "attachments": {},
   "cell_type": "markdown",
   "metadata": {},
   "source": [
    "# If the limit of the nth term of a series DOES NOT approach 0 as n approaches infinity, then the series must diverge"
   ]
  },
  {
   "attachments": {},
   "cell_type": "markdown",
   "metadata": {},
   "source": [
    "# 2 - 2\n",
    "\n",
    "Use the nth-term test for divergence to show that the series is divergent, or state that the test is inconclusive:\n",
    "\n",
    "Sigma(n, 0, smp.oo) (1/(n+14))"
   ]
  },
  {
   "cell_type": "code",
   "execution_count": 58,
   "metadata": {},
   "outputs": [
    {
     "data": {
      "text/latex": [
       "$\\displaystyle 0$"
      ],
      "text/plain": [
       "0"
      ]
     },
     "execution_count": 58,
     "metadata": {},
     "output_type": "execute_result"
    }
   ],
   "source": [
    "# 2 - 1\n",
    "\n",
    "nth_term = (1/(n+14))\n",
    "\n",
    "smp.limit(nth_term, n, smp.oo)\n",
    "\n",
    "# The test is inconclusive because it approaches 0"
   ]
  },
  {
   "cell_type": "code",
   "execution_count": 60,
   "metadata": {},
   "outputs": [
    {
     "data": {
      "text/latex": [
       "$\\displaystyle 0$"
      ],
      "text/plain": [
       "0"
      ]
     },
     "execution_count": 60,
     "metadata": {},
     "output_type": "execute_result"
    }
   ],
   "source": [
    "# 2 - 2\n",
    "\n",
    "nth_term = (1/(n+15))\n",
    "\n",
    "smp.limit(nth_term, n, smp.oo)\n",
    "\n",
    "# The test is inconclusive because it approaches 0"
   ]
  },
  {
   "attachments": {},
   "cell_type": "markdown",
   "metadata": {},
   "source": [
    "# 2 - 3\n",
    "\n",
    "Use the nth-term test for divergence to show that the series is divergent, or state that the test is inconclusive:\n",
    "\n",
    "Sigma(n, 0, smp.oo) cos(10/n)"
   ]
  },
  {
   "cell_type": "code",
   "execution_count": 62,
   "metadata": {},
   "outputs": [
    {
     "data": {
      "text/latex": [
       "$\\displaystyle 1$"
      ],
      "text/plain": [
       "1"
      ]
     },
     "execution_count": 62,
     "metadata": {},
     "output_type": "execute_result"
    }
   ],
   "source": [
    "# 3 - 1\n",
    "\n",
    "nth_term = smp.cos(10/n)\n",
    "\n",
    "smp.limit(nth_term, n, smp.oo)\n",
    "\n",
    "# The series is divergent because it exists and is equal to 1"
   ]
  },
  {
   "cell_type": "code",
   "execution_count": 63,
   "metadata": {},
   "outputs": [
    {
     "data": {
      "text/latex": [
       "$\\displaystyle 1$"
      ],
      "text/plain": [
       "1"
      ]
     },
     "execution_count": 63,
     "metadata": {},
     "output_type": "execute_result"
    }
   ],
   "source": [
    "# 3 - 2\n",
    "\n",
    "nth_term = smp.cos(20/n)\n",
    "\n",
    "smp.limit(nth_term, n, smp.oo)\n",
    "\n",
    "# The series is divergent because it exists and is equal to 1"
   ]
  },
  {
   "attachments": {},
   "cell_type": "markdown",
   "metadata": {},
   "source": [
    "# 2 - 4\n",
    "\n",
    "Find a formula for the nth partial sum of the series and use it to determine if the series converges or diverges.\n",
    "\n",
    "If the series converges, find its sum.\n",
    "\n",
    "Sigma(n, 1, smp.oo) ((5/n) - (5/(n+1)))"
   ]
  },
  {
   "cell_type": "code",
   "execution_count": 72,
   "metadata": {},
   "outputs": [
    {
     "data": {
      "text/latex": [
       "$\\displaystyle 5$"
      ],
      "text/plain": [
       "5"
      ]
     },
     "execution_count": 72,
     "metadata": {},
     "output_type": "execute_result"
    }
   ],
   "source": [
    "# 4 - 1\n",
    "\n",
    "# Define nth term of the series\n",
    "nth_term = ((5/n)-(5/(n+1)))\n",
    "\n",
    "# Calculate nth partial sum\n",
    "nth_part_sum = 5 - 5/(n+1)\n",
    "\n",
    "# Calculate the limit of the nth partial sum as n approaches infinity\n",
    "smp.limit(nth_part_sum, n, smp.oo)\n",
    "\n",
    "# Answer:\n",
    "# s sub n = nth_part_sum\n",
    "# Sum = 5"
   ]
  },
  {
   "cell_type": "code",
   "execution_count": 74,
   "metadata": {},
   "outputs": [
    {
     "data": {
      "text/latex": [
       "$\\displaystyle 9 - \\frac{9}{n + 1}$"
      ],
      "text/plain": [
       "9 - 9/(n + 1)"
      ]
     },
     "metadata": {},
     "output_type": "display_data"
    },
    {
     "data": {
      "text/latex": [
       "$\\displaystyle 9$"
      ],
      "text/plain": [
       "9"
      ]
     },
     "execution_count": 74,
     "metadata": {},
     "output_type": "execute_result"
    }
   ],
   "source": [
    "# 4 - 2\n",
    "\n",
    "# Define nth term of the series\n",
    "nth_term = ((9/n) - (9/(n+1)))\n",
    "\n",
    "# Calculate nth partial sum\n",
    "nth_part_sum = 9 - 9/(n+1)\n",
    "display(nth_part_sum)\n",
    "\n",
    "# Calculate the limit of the nth partial sum as n approaches infinity\n",
    "smp.limit(nth_part_sum, n, smp.oo)\n",
    "\n",
    "# Answer:\n",
    "# s sub n = nth_part_sum\n",
    "# Sum = 9"
   ]
  },
  {
   "cell_type": "code",
   "execution_count": 75,
   "metadata": {},
   "outputs": [
    {
     "data": {
      "text/latex": [
       "$\\displaystyle 7 - \\frac{7}{n + 1}$"
      ],
      "text/plain": [
       "7 - 7/(n + 1)"
      ]
     },
     "metadata": {},
     "output_type": "display_data"
    },
    {
     "data": {
      "text/latex": [
       "$\\displaystyle 7$"
      ],
      "text/plain": [
       "7"
      ]
     },
     "execution_count": 75,
     "metadata": {},
     "output_type": "execute_result"
    }
   ],
   "source": [
    "# 4 - 3\n",
    "\n",
    "# Define nth term of the series\n",
    "nth_term = ((7/n) - (7/(n+1)))\n",
    "\n",
    "# Calculate nth partial sum\n",
    "nth_part_sum = 7 - 7/(n+1)\n",
    "display(nth_part_sum)\n",
    "\n",
    "# Calculate the limit of the nth partial sum as n approaches infinity\n",
    "smp.limit(nth_part_sum, n, smp.oo)\n",
    "\n",
    "# Answer:\n",
    "# s sub n = nth_part_sum\n",
    "# Sum = 9"
   ]
  },
  {
   "attachments": {},
   "cell_type": "markdown",
   "metadata": {},
   "source": [
    "# 2 -5\n",
    "\n",
    "Find the sum of the series:\n",
    "\n",
    "Sigma(n, 1, smp.oo) [(2) / (2n-1)(2n+1)]"
   ]
  },
  {
   "cell_type": "code",
   "execution_count": 77,
   "metadata": {},
   "outputs": [
    {
     "data": {
      "text/latex": [
       "$\\displaystyle 1$"
      ],
      "text/plain": [
       "1"
      ]
     },
     "execution_count": 77,
     "metadata": {},
     "output_type": "execute_result"
    }
   ],
   "source": [
    "smp.Sum(2/((2*n-1)*(2*n+1)), (n, 1, smp.oo)).doit()"
   ]
  },
  {
   "attachments": {},
   "cell_type": "markdown",
   "metadata": {},
   "source": [
    "# 2 - 6 \n",
    "\n",
    "Determine whether the series converges or diverges. If it converges, find the sum.\n",
    "\n",
    "Sigma(n, 0, smp.oo) (4/sqrt(31))**n"
   ]
  },
  {
   "cell_type": "code",
   "execution_count": 83,
   "metadata": {},
   "outputs": [
    {
     "data": {
      "text/latex": [
       "$\\displaystyle \\frac{4 \\sqrt{31}}{15} + \\frac{31}{15}$"
      ],
      "text/plain": [
       "4*sqrt(31)/15 + 31/15"
      ]
     },
     "execution_count": 83,
     "metadata": {},
     "output_type": "execute_result"
    }
   ],
   "source": [
    "# 6 - 1\n",
    "\n",
    "smp.Sum(((4)/(smp.sqrt(31)))**n, (n, 0, smp.oo)).doit().simplify()\n",
    "# The series converges because it is a geometric series with |r| < 1 with sum:"
   ]
  },
  {
   "cell_type": "code",
   "execution_count": 89,
   "metadata": {},
   "outputs": [
    {
     "data": {
      "text/latex": [
       "$\\displaystyle \\frac{2 \\sqrt{11}}{7} + \\frac{11}{7}$"
      ],
      "text/plain": [
       "2*sqrt(11)/7 + 11/7"
      ]
     },
     "execution_count": 89,
     "metadata": {},
     "output_type": "execute_result"
    }
   ],
   "source": [
    "# 6 - 2\n",
    "\n",
    "smp.Sum((2/sqrt(11))**n, (n, 0, smp.oo)).doit().simplify()\n",
    "# The series converges because it is a geometric series with |r| < 1 with sum:"
   ]
  },
  {
   "cell_type": "code",
   "execution_count": 90,
   "metadata": {},
   "outputs": [
    {
     "data": {
      "text/latex": [
       "$\\displaystyle \\frac{5 \\sqrt{29}}{4} + \\frac{29}{4}$"
      ],
      "text/plain": [
       "5*sqrt(29)/4 + 29/4"
      ]
     },
     "execution_count": 90,
     "metadata": {},
     "output_type": "execute_result"
    }
   ],
   "source": [
    "# 6 - 3\n",
    "\n",
    "smp.Sum((5/sqrt(29))**n, (n, 0, smp.oo)).doit().simplify()\n",
    "# The series converges because it is a geometric series with |r| < 1 with sum:"
   ]
  },
  {
   "attachments": {},
   "cell_type": "markdown",
   "metadata": {},
   "source": [
    "# 2 - 7\n",
    "\n",
    "Determine whether the series converges or diverges. If it converges, find the sum.\n",
    "\n",
    "Sigma(n, 2, smp.oo) (3 / 2^n)"
   ]
  },
  {
   "cell_type": "code",
   "execution_count": 94,
   "metadata": {},
   "outputs": [
    {
     "data": {
      "text/latex": [
       "$\\displaystyle \\frac{3}{2}$"
      ],
      "text/plain": [
       "3/2"
      ]
     },
     "execution_count": 94,
     "metadata": {},
     "output_type": "execute_result"
    }
   ],
   "source": [
    "# 7 - 1\n",
    "\n",
    "smp.Sum((3/2**n), (n, 2, smp.oo)).doit()\n",
    "# The series converges because it is a geometric series with |r| >= 1"
   ]
  },
  {
   "cell_type": "code",
   "execution_count": 97,
   "metadata": {},
   "outputs": [
    {
     "data": {
      "text/latex": [
       "$\\displaystyle \\frac{2}{3}$"
      ],
      "text/plain": [
       "2/3"
      ]
     },
     "execution_count": 97,
     "metadata": {},
     "output_type": "execute_result"
    }
   ],
   "source": [
    "# 7 - 2\n",
    "\n",
    "smp.Sum((4/3**n), (n, 2, smp.oo)).doit()\n",
    "# The series converges because it is a geometric series with |r| >= 1"
   ]
  },
  {
   "attachments": {},
   "cell_type": "markdown",
   "metadata": {},
   "source": [
    "# 2 - 8\n",
    "\n",
    "Determine whether the series converges or diverges. If it converges, find the sum.\n",
    "\n",
    "Sigma(n, 1, smp.oo) (7^n + 4^n) / (8^n)"
   ]
  },
  {
   "cell_type": "code",
   "execution_count": 100,
   "metadata": {},
   "outputs": [
    {
     "data": {
      "text/latex": [
       "$\\displaystyle 8$"
      ],
      "text/plain": [
       "8"
      ]
     },
     "execution_count": 100,
     "metadata": {},
     "output_type": "execute_result"
    }
   ],
   "source": [
    "smp.Sum((7**n + 4**n)/(8**n), (n, 1, smp.oo)).doit()\n",
    "# The series converges because it is the sum of two geometric series, each with |r| < 1. Sum:"
   ]
  },
  {
   "attachments": {},
   "cell_type": "markdown",
   "metadata": {},
   "source": [
    "# Suppose f is a continuous, positive, decreasing function on [1, smp.oo), and let a sub n = f(n) for all n >= 1\n",
    "\n",
    "# The series Sigma(n, 1, smp.oo) (a sub n) and the improper integral ∫(1, smp.oo) f(x) dx either both converge or both diverge. "
   ]
  },
  {
   "attachments": {},
   "cell_type": "markdown",
   "metadata": {},
   "source": [
    "# 3 - 1\n",
    "\n",
    "Use the Integral Test to determine if the series shown below converges or diverges. \n",
    "\n",
    "Sigma(n, 8, smp.oo) ((9)/(7n+8))"
   ]
  },
  {
   "cell_type": "code",
   "execution_count": 115,
   "metadata": {},
   "outputs": [
    {
     "data": {
      "text/latex": [
       "$\\displaystyle \\infty$"
      ],
      "text/plain": [
       "oo"
      ]
     },
     "metadata": {},
     "output_type": "display_data"
    },
    {
     "data": {
      "text/latex": [
       "$\\displaystyle \\infty$"
      ],
      "text/plain": [
       "oo"
      ]
     },
     "metadata": {},
     "output_type": "display_data"
    }
   ],
   "source": [
    "# 1\n",
    "\n",
    "series = smp.Sum((9)/(7*n+8), (n, 8, smp.oo)).doit()\n",
    "display(series)\n",
    "\n",
    "integral = smp.integrate((9)/(7*x+8), (x, 8, smp.oo))\n",
    "display(integral)\n",
    "\n",
    "# The series diverges because they both == smp.oo"
   ]
  },
  {
   "attachments": {},
   "cell_type": "markdown",
   "metadata": {},
   "source": [
    "# 3 - 2\n",
    "\n",
    "Use the Integral Test to determine if the series shown below converges or diverges. \n",
    "\n",
    "Sigma(n, 5, smp.oo) [1 / (n * (smp.log(n))**2)]"
   ]
  },
  {
   "cell_type": "code",
   "execution_count": 122,
   "metadata": {},
   "outputs": [
    {
     "data": {
      "text/latex": [
       "$\\displaystyle \\frac{1}{\\log{\\left(2 \\right)}}$"
      ],
      "text/plain": [
       "1/log(2)"
      ]
     },
     "execution_count": 122,
     "metadata": {},
     "output_type": "execute_result"
    }
   ],
   "source": [
    "# 2 - 1\n",
    "\n",
    "# Function\n",
    "f = 1 / (n * (smp.log(n))**2)\n",
    "\n",
    "# Calculate integral\n",
    "smp.integrate(f, (n, 2, smp.oo))\n",
    "\n",
    "# The series converges"
   ]
  },
  {
   "cell_type": "code",
   "execution_count": 123,
   "metadata": {},
   "outputs": [
    {
     "data": {
      "text/latex": [
       "$\\displaystyle \\frac{4}{\\log{\\left(3 \\right)}}$"
      ],
      "text/plain": [
       "4/log(3)"
      ]
     },
     "execution_count": 123,
     "metadata": {},
     "output_type": "execute_result"
    }
   ],
   "source": [
    "# 2 - 2\n",
    "\n",
    "# Function\n",
    "f = 4 / (n * (smp.log(n))**2)\n",
    "\n",
    "# Calculate integral\n",
    "smp.integrate(f, (n, 3, smp.oo))\n",
    "\n",
    "# The series converges"
   ]
  },
  {
   "attachments": {},
   "cell_type": "markdown",
   "metadata": {},
   "source": [
    "# 3 - 3\n",
    "\n",
    "Does the series converge or diverge?"
   ]
  },
  {
   "cell_type": "code",
   "execution_count": 127,
   "metadata": {},
   "outputs": [
    {
     "data": {
      "text/latex": [
       "$\\displaystyle \\frac{1}{6}$"
      ],
      "text/plain": [
       "1/6"
      ]
     },
     "execution_count": 127,
     "metadata": {},
     "output_type": "execute_result"
    }
   ],
   "source": [
    "# 3 - 1\n",
    "\n",
    "smp.Sum((1)/(7**n), (n, 1, smp.oo)).doit()\n",
    "\n",
    "# The series converges because it is a geometric series with |r| < 1"
   ]
  },
  {
   "cell_type": "code",
   "execution_count": 130,
   "metadata": {},
   "outputs": [
    {
     "data": {
      "text/latex": [
       "$\\displaystyle \\frac{1}{8}$"
      ],
      "text/plain": [
       "1/8"
      ]
     },
     "execution_count": 130,
     "metadata": {},
     "output_type": "execute_result"
    }
   ],
   "source": [
    "# 3 - 2\n",
    "\n",
    "smp.Sum((1)/(9**n), (n, 1, smp.oo)).doit()\n",
    "\n",
    "# The series converges because it is a geometric series with |r| < 1"
   ]
  },
  {
   "attachments": {},
   "cell_type": "markdown",
   "metadata": {},
   "source": [
    "# 3 - 4\n",
    "\n",
    "Does the series converge or diverge? Give a reason."
   ]
  },
  {
   "cell_type": "code",
   "execution_count": 133,
   "metadata": {},
   "outputs": [
    {
     "data": {
      "text/latex": [
       "$\\displaystyle \\infty$"
      ],
      "text/plain": [
       "oo"
      ]
     },
     "execution_count": 133,
     "metadata": {},
     "output_type": "execute_result"
    }
   ],
   "source": [
    "# 4 - 1\n",
    "\n",
    "smp.Sum((10*n)/(10*n+1), (n, 1, smp.oo)).doit()\n",
    "\n",
    "# Diverges. Nth-term test"
   ]
  },
  {
   "cell_type": "code",
   "execution_count": 136,
   "metadata": {},
   "outputs": [
    {
     "data": {
      "text/latex": [
       "$\\displaystyle \\infty$"
      ],
      "text/plain": [
       "oo"
      ]
     },
     "execution_count": 136,
     "metadata": {},
     "output_type": "execute_result"
    }
   ],
   "source": [
    "# 4 - 2\n",
    "\n",
    "smp.Sum(((n)/(n+1)), (n, 1, smp.oo)).doit()\n",
    "\n",
    "# Diverges. Nth-term test"
   ]
  },
  {
   "attachments": {},
   "cell_type": "markdown",
   "metadata": {},
   "source": [
    "# 3 - 5\n",
    "\n",
    "Does the series converge or diverge?"
   ]
  },
  {
   "cell_type": "code",
   "execution_count": 140,
   "metadata": {},
   "outputs": [
    {
     "data": {
      "text/latex": [
       "$\\displaystyle 2.0 \\cdot 10^{66}$"
      ],
      "text/plain": [
       "0.e+66"
      ]
     },
     "execution_count": 140,
     "metadata": {},
     "output_type": "execute_result"
    }
   ],
   "source": [
    "smp.Sum(((5)/(smp.sqrt(n))), (n, 1, smp.oo)).n()\n",
    "\n",
    "# Diverges. P-Series with p <= 1"
   ]
  },
  {
   "cell_type": "code",
   "execution_count": 144,
   "metadata": {},
   "outputs": [
    {
     "data": {
      "text/latex": [
       "$\\displaystyle 8.0 \\cdot 10^{65}$"
      ],
      "text/plain": [
       "0.e+66"
      ]
     },
     "execution_count": 144,
     "metadata": {},
     "output_type": "execute_result"
    }
   ],
   "source": [
    "smp.Sum(((4)/smp.sqrt(n)), (n, 1, smp.oo)).n()\n",
    "\n",
    "# Diverges. P-Series with p <= 1"
   ]
  },
  {
   "attachments": {},
   "cell_type": "markdown",
   "metadata": {},
   "source": [
    "# 3 - 6\n",
    "\n",
    "Converge or diverge?"
   ]
  },
  {
   "cell_type": "code",
   "execution_count": 148,
   "metadata": {},
   "outputs": [
    {
     "data": {
      "text/latex": [
       "$\\displaystyle 3.0 \\cdot 10^{4}$"
      ],
      "text/plain": [
       "0.e+4"
      ]
     },
     "execution_count": 148,
     "metadata": {},
     "output_type": "execute_result"
    }
   ],
   "source": [
    "smp.Sum((smp.ln(n+7))/(n+7), (n, 2, smp.oo)).n()\n",
    "\n",
    "# The integral test shows that the series diverges"
   ]
  },
  {
   "attachments": {},
   "cell_type": "markdown",
   "metadata": {},
   "source": [
    "# 3 - 7\n",
    "\n",
    "Converge or diverge?"
   ]
  },
  {
   "cell_type": "code",
   "execution_count": 151,
   "metadata": {},
   "outputs": [
    {
     "data": {
      "text/latex": [
       "$\\displaystyle \\infty$"
      ],
      "text/plain": [
       "oo"
      ]
     },
     "execution_count": 151,
     "metadata": {},
     "output_type": "execute_result"
    }
   ],
   "source": [
    "smp.Sum(((1)/(10*n-1)), (n, 1, smp.oo)).doit()\n",
    "\n",
    "# Diverges because the integral diverges"
   ]
  },
  {
   "cell_type": "code",
   "execution_count": 153,
   "metadata": {},
   "outputs": [
    {
     "data": {
      "text/latex": [
       "$\\displaystyle \\infty$"
      ],
      "text/plain": [
       "oo"
      ]
     },
     "execution_count": 153,
     "metadata": {},
     "output_type": "execute_result"
    }
   ],
   "source": [
    "smp.Sum((1)/(8*n-1), (n, 1, smp.oo)).doit()\n",
    "\n",
    "# Diverges because the integral diverges"
   ]
  },
  {
   "attachments": {},
   "cell_type": "markdown",
   "metadata": {},
   "source": [
    "# 3 - 8\n",
    "\n",
    "Converge or diverge? Give a reason."
   ]
  },
  {
   "cell_type": "code",
   "execution_count": 157,
   "metadata": {},
   "outputs": [
    {
     "data": {
      "text/latex": [
       "$\\displaystyle 7.0 \\cdot 10^{193}$"
      ],
      "text/plain": [
       "0.e+194"
      ]
     },
     "execution_count": 157,
     "metadata": {},
     "output_type": "execute_result"
    }
   ],
   "source": [
    "smp.Sum(((9*smp.sqrt(n))/(smp.ln(7*n))), (n, 2, smp.oo)).n()\n",
    "\n",
    "# Diverges. Revealed by Nth-term test"
   ]
  },
  {
   "attachments": {},
   "cell_type": "markdown",
   "metadata": {},
   "source": [
    "# 3 - 9\n",
    "\n",
    "Converge or diverge?"
   ]
  },
  {
   "cell_type": "code",
   "execution_count": 161,
   "metadata": {},
   "outputs": [
    {
     "data": {
      "text/latex": [
       "$\\displaystyle 2.67780332491956$"
      ],
      "text/plain": [
       "2.67780332491956"
      ]
     },
     "execution_count": 161,
     "metadata": {},
     "output_type": "execute_result"
    }
   ],
   "source": [
    "smp.Sum((5*smp.exp(n))/(1+smp.exp(2*n)), (n, 1, smp.oo)).n()\n",
    "\n",
    "# Converges. Integral test. "
   ]
  },
  {
   "cell_type": "code",
   "execution_count": 165,
   "metadata": {},
   "outputs": [
    {
     "data": {
      "text/latex": [
       "$\\displaystyle 0.0932560908706578$"
      ],
      "text/plain": [
       "0.0932560908706578"
      ]
     },
     "execution_count": 165,
     "metadata": {},
     "output_type": "execute_result"
    }
   ],
   "source": [
    "smp.Sum((5*smp.exp(4*n))/(1+smp.exp(8*n)), (n, 1, smp.oo)).n()\n",
    "\n",
    "# Converges. Integral test. "
   ]
  },
  {
   "cell_type": "code",
   "execution_count": null,
   "metadata": {},
   "outputs": [],
   "source": []
  }
 ],
 "metadata": {
  "kernelspec": {
   "display_name": "Env1",
   "language": "python",
   "name": "python3"
  },
  "language_info": {
   "codemirror_mode": {
    "name": "ipython",
    "version": 3
   },
   "file_extension": ".py",
   "mimetype": "text/x-python",
   "name": "python",
   "nbconvert_exporter": "python",
   "pygments_lexer": "ipython3",
   "version": "3.10.10"
  },
  "orig_nbformat": 4
 },
 "nbformat": 4,
 "nbformat_minor": 2
}
