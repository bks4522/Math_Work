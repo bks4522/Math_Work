{
 "cells": [
  {
   "cell_type": "code",
   "execution_count": 1,
   "metadata": {},
   "outputs": [],
   "source": [
    "import sympy as smp\n",
    "from sympy import *\n",
    "\n",
    "x, y, t, n, a, b, c, r = smp.symbols('x y t n a b c r')\n",
    "f, g, m = smp.symbols('f g m', cls=smp.Function)"
   ]
  },
  {
   "cell_type": "code",
   "execution_count": 2,
   "metadata": {},
   "outputs": [
    {
     "name": "stdout",
     "output_type": "stream",
     "text": [
      "Absolute maximum: (129, -3)\n",
      "Absolute minimum: (-21, 2)\n"
     ]
    }
   ],
   "source": [
    "f_x = 6*x**2 - 24*x + 3\n",
    "fp = smp.diff(f_x, x)\n",
    "cp = smp.solve(fp, x)\n",
    "\n",
    "# Include the endpoints of the interval\n",
    "# Evaluates f_x at cps and endpoints of interval.\n",
    "# Uses list comprehension (creates list of tuples where 1st element is the function value and 2nd element is x-value)\n",
    "values = [(f_x.subs(x, point), point) for point in cp + [-3, 3]]\n",
    "\n",
    "# Takes the iterable list \"values\" and returns max/min element from it. \n",
    "# key arg = function that defines criterion for comparison\n",
    "# key takes a single arg and returns a value that is used to determine the max/min element\n",
    "# lambda takes tuple 'x' and returns its 1st element (function value). \n",
    "abs_max = max(values, key=lambda x: x[0])\n",
    "abs_min = min(values, key=lambda x: x[0])\n",
    "\n",
    "print(\"Absolute maximum:\", abs_max)\n",
    "print(\"Absolute minimum:\", abs_min)"
   ]
  },
  {
   "cell_type": "code",
   "execution_count": 3,
   "metadata": {},
   "outputs": [
    {
     "data": {
      "text/latex": [
       "$\\displaystyle 0.48$"
      ],
      "text/plain": [
       "0.480000000000000"
      ]
     },
     "execution_count": 3,
     "metadata": {},
     "output_type": "execute_result"
    }
   ],
   "source": [
    "P = 7*smp.exp(t/16)\n",
    "Pdiff = smp.diff(P, t)\n",
    "P_0 = P.subs(t, 0)\n",
    "Pdiff_0 = Pdiff.subs(t, 0)\n",
    "\n",
    "P_lin = P_0 + Pdiff_0 * t\n",
    "\n",
    "eq = smp.Eq(P_lin, 7.21)\n",
    "t_sol = smp.solve(eq, t)[0]\n",
    "t_sol"
   ]
  },
  {
   "cell_type": "code",
   "execution_count": 4,
   "metadata": {},
   "outputs": [
    {
     "data": {
      "text/latex": [
       "$\\displaystyle 77.0$"
      ],
      "text/plain": [
       "77.0000000000000"
      ]
     },
     "execution_count": 4,
     "metadata": {},
     "output_type": "execute_result"
    }
   ],
   "source": [
    "V = 11  # Volume in L\n",
    "dP_dt = 58.2015  # Rate of change of pressure in kPa/min\n",
    "nR = 8.3145  # nR constant in kPa L/K\n",
    "\n",
    "# Define the symbol for dT/dt\n",
    "dT_dt = smp.Symbol('dT_dt')\n",
    "\n",
    "# Create the equation using the given values and the ideal gas law\n",
    "equation = smp.Eq(V * dP_dt, nR * dT_dt)\n",
    "\n",
    "# Solve the equation for dT/dt\n",
    "dT_dt_solution = smp.solve(equation, dT_dt)[0]\n",
    "\n",
    "dT_dt_solution"
   ]
  },
  {
   "cell_type": "code",
   "execution_count": 5,
   "metadata": {},
   "outputs": [
    {
     "name": "stdout",
     "output_type": "stream",
     "text": [
      "r = 2.12531713836522, h = 2.12531713836522\n"
     ]
    }
   ],
   "source": [
    "r = smp.Symbol('r')\n",
    "h = smp.Symbol('h')\n",
    "\n",
    "V = 16 * smp.pi # Total volume \n",
    "V_cylinder = smp.pi * r**2 * h # Volume equation for this problem\n",
    "V_hemisphere = (2/3) * smp.pi * r**3 # Volume equation for this problem\n",
    "\n",
    "# Express h in terms of r using the volume constraint\n",
    "h_expr = (V - V_hemisphere) / (smp.pi * r**2)\n",
    "\n",
    "# Define the surface area equation for this container\n",
    "S = 2 * smp.pi * r * h + 3 * smp.pi * r**2\n",
    "\n",
    "# Substitute h_expr into the surface area equation\n",
    "S_substituted = S.subs(h, h_expr)\n",
    "\n",
    "# Find the critical points of the resulting function of r\n",
    "dS_dr = smp.diff(S_substituted, r)\n",
    "# Solve the derivative equation to find critical points\n",
    "critical_points = smp.solve(dS_dr, r)\n",
    "\n",
    "# Filter out non-real solutions\n",
    "real_critical_points = [cp for cp in critical_points if cp.is_real]\n",
    "\n",
    "# Evaluate the surface area at critical points\n",
    "surface_area_values = [(S_substituted.subs(r, cp), cp) for cp in real_critical_points]\n",
    "\n",
    "# Find the minimum surface area\n",
    "min_surface_area = min(surface_area_values, key=lambda x: x[0])\n",
    "\n",
    "# Calculate h using the minimum surface area\n",
    "min_r = min_surface_area[1] # Extract the optimal radius from the tuple with the min surface area\n",
    "min_h = h_expr.subs(r, min_r) # Calculate the optimal height using the expression for h in terms of r and optimal radius\n",
    "\n",
    "print(f\"r = {min_r}, h = {min_h}\")"
   ]
  },
  {
   "cell_type": "code",
   "execution_count": 6,
   "metadata": {},
   "outputs": [
    {
     "data": {
      "text/latex": [
       "$\\displaystyle -\\infty$"
      ],
      "text/plain": [
       "-oo"
      ]
     },
     "execution_count": 6,
     "metadata": {},
     "output_type": "execute_result"
    }
   ],
   "source": [
    "smp.limit((ln(19/(t+1)))/(4/t), t, smp.oo)"
   ]
  },
  {
   "cell_type": "code",
   "execution_count": 7,
   "metadata": {},
   "outputs": [
    {
     "data": {
      "text/latex": [
       "$\\displaystyle 4 t^{6} + 3 t^{3} - 18 t$"
      ],
      "text/plain": [
       "4*t**6 + 3*t**3 - 18*t"
      ]
     },
     "execution_count": 7,
     "metadata": {},
     "output_type": "execute_result"
    }
   ],
   "source": [
    "smp.integrate(24*t**5 + 9*t**2 - 18, t) # + C"
   ]
  },
  {
   "cell_type": "code",
   "execution_count": 8,
   "metadata": {},
   "outputs": [
    {
     "data": {
      "text/latex": [
       "$\\displaystyle 10.0 x^{0.5} + 9 \\log{\\left(x \\right)}$"
      ],
      "text/plain": [
       "10.0*x**0.5 + 9*log(x)"
      ]
     },
     "execution_count": 8,
     "metadata": {},
     "output_type": "execute_result"
    }
   ],
   "source": [
    "# Define the function\n",
    "f_x = 9/x + 5/(4*smp.sqrt(x))\n",
    "\n",
    "# Rewrite the second term using exponents\n",
    "f_x = 9/x + 5*x**(-1/2)\n",
    "\n",
    "# Find the indefinite integral\n",
    "integral_f_x = smp.integrate(f_x, x)\n",
    "\n",
    "integral_f_x"
   ]
  },
  {
   "cell_type": "code",
   "execution_count": 9,
   "metadata": {},
   "outputs": [
    {
     "data": {
      "text/latex": [
       "$\\displaystyle 10 \\sin{\\left(x \\right)}$"
      ],
      "text/plain": [
       "10*sin(x)"
      ]
     },
     "execution_count": 9,
     "metadata": {},
     "output_type": "execute_result"
    }
   ],
   "source": [
    "smp.integrate(10*smp.cos(x), x)"
   ]
  },
  {
   "cell_type": "code",
   "execution_count": 10,
   "metadata": {},
   "outputs": [
    {
     "data": {
      "text/latex": [
       "$\\displaystyle 389.52380952381$"
      ],
      "text/plain": [
       "389.523809523810"
      ]
     },
     "execution_count": 10,
     "metadata": {},
     "output_type": "execute_result"
    }
   ],
   "source": [
    "# Acceleration function\n",
    "a_t = 102*t**5 + 59*t\n",
    "\n",
    "# Velocity function = integral of acceleration function\n",
    "v_t = smp.integrate(a_t, t)\n",
    "\n",
    "# Postion function = integral of velocity function\n",
    "s_t = smp.integrate(v_t, t)\n",
    "\n",
    "# Velocity and position functions at t = 2\n",
    "v_2 = v_t.subs(t, 2)\n",
    "s_2 = s_t.subs(t, 2).evalf()\n",
    "\n",
    "s_2"
   ]
  },
  {
   "cell_type": "code",
   "execution_count": 11,
   "metadata": {},
   "outputs": [
    {
     "data": {
      "text/latex": [
       "$\\displaystyle 1.96336872222253$"
      ],
      "text/plain": [
       "1.96336872222253"
      ]
     },
     "execution_count": 11,
     "metadata": {},
     "output_type": "execute_result"
    }
   ],
   "source": [
    "Q = 4*smp.exp(-2*t)\n",
    "smp.integrate(Q, (t, 0, 2)).evalf()"
   ]
  }
 ],
 "metadata": {
  "kernelspec": {
   "display_name": "Jupyter_Notebooks",
   "language": "python",
   "name": "python3"
  },
  "language_info": {
   "codemirror_mode": {
    "name": "ipython",
    "version": 3
   },
   "file_extension": ".py",
   "mimetype": "text/x-python",
   "name": "python",
   "nbconvert_exporter": "python",
   "pygments_lexer": "ipython3",
   "version": "3.11.3"
  },
  "orig_nbformat": 4
 },
 "nbformat": 4,
 "nbformat_minor": 2
}
