{
 "cells": [
  {
   "cell_type": "code",
   "execution_count": 1,
   "metadata": {},
   "outputs": [],
   "source": [
    "import sympy as smp\n",
    "from sympy import *\n",
    "import numpy as np\n",
    "from numpy import *\n",
    "import scipy as sp\n",
    "from scipy.integrate import solve_ivp\n",
    "from scipy.interpolate import interp1d\n",
    "from scipy.integrate import odeint\n",
    "from scipy.optimize import fsolve\n",
    "import matplotlib.pyplot as plt\n",
    "import scienceplots\n",
    "plt.style.use(['science', 'notebook', 'grid'])\n",
    "\n",
    "x, y, t, n, a, b, C, c, r, u, s = smp.symbols('x y t n a b C c r u s')\n",
    "f, g, m, h = smp.symbols('f g m h', cls=smp.Function)"
   ]
  },
  {
   "attachments": {},
   "cell_type": "markdown",
   "metadata": {},
   "source": [
    "# 1\n",
    "\n",
    "A homogenous second-order linear differential equation, two functions y1 and y2, and a pair of initial \n",
    "\n",
    "conditions are given. Verify that y1 and y2 are solutions of the diff eq. Then find a particular solution\n",
    "\n",
    "of the form y = (c1)(y1) + (c2)(y2) that satisfies the given initial conditions. \n",
    "\n",
    "y\" - 2y' + 2y = 0\n",
    "\n",
    "y1 = (e^x)(cos(x))\n",
    "\n",
    "y2 = (e^x)(sin(x))\n",
    "\n",
    "y(0) = 20\n",
    "\n",
    "y'(0) = 12"
   ]
  },
  {
   "cell_type": "code",
   "execution_count": 43,
   "metadata": {},
   "outputs": [
    {
     "name": "stdout",
     "output_type": "stream",
     "text": [
      "y1 satisfies differential equation:  True\n",
      "y2 satisfies differential equation:  True\n"
     ]
    },
    {
     "data": {
      "text/latex": [
       "$\\displaystyle - e^{x} \\sin{\\left(x \\right)} + e^{x} \\cos{\\left(x \\right)}$"
      ],
      "text/plain": [
       "-exp(x)*sin(x) + exp(x)*cos(x)"
      ]
     },
     "metadata": {},
     "output_type": "display_data"
    },
    {
     "data": {
      "text/latex": [
       "$\\displaystyle - 2 e^{x} \\sin{\\left(x \\right)}$"
      ],
      "text/plain": [
       "-2*exp(x)*sin(x)"
      ]
     },
     "metadata": {},
     "output_type": "display_data"
    },
    {
     "data": {
      "text/latex": [
       "$\\displaystyle e^{x} \\sin{\\left(x \\right)} + e^{x} \\cos{\\left(x \\right)}$"
      ],
      "text/plain": [
       "exp(x)*sin(x) + exp(x)*cos(x)"
      ]
     },
     "metadata": {},
     "output_type": "display_data"
    },
    {
     "data": {
      "text/latex": [
       "$\\displaystyle 2 e^{x} \\cos{\\left(x \\right)}$"
      ],
      "text/plain": [
       "2*exp(x)*cos(x)"
      ]
     },
     "metadata": {},
     "output_type": "display_data"
    }
   ],
   "source": [
    "# 1\n",
    "\n",
    "# Define the variable and functions\n",
    "y1 = smp.exp(x) * smp.cos(x)\n",
    "y2 = smp.exp(x) * smp.sin(x)\n",
    "\n",
    "# Compute the second derivatives\n",
    "y1_prime_prime = smp.diff(y1, x, x)\n",
    "y1_prime = smp.diff(y1, x)\n",
    "\n",
    "y2_prime_prime = smp.diff(y2, x, x)\n",
    "y2_prime = smp.diff(y2, x)\n",
    "\n",
    "# Verify that they are solutions\n",
    "eq_y1 = y1_prime_prime - 2*y1_prime + 2*y1\n",
    "eq_y2 = y2_prime_prime - 2*y2_prime + 2*y2\n",
    "\n",
    "print(\"y1 satisfies differential equation: \", smp.simplify(eq_y1) == 0)\n",
    "print(\"y2 satisfies differential equation: \", smp.simplify(eq_y2) == 0)\n",
    "\n",
    "display(y1_prime)\n",
    "display(y1_prime_prime)\n",
    "display(y2_prime)\n",
    "display(y2_prime_prime)"
   ]
  },
  {
   "cell_type": "code",
   "execution_count": 44,
   "metadata": {},
   "outputs": [
    {
     "data": {
      "text/latex": [
       "$\\displaystyle - 8 e^{x} \\sin{\\left(x \\right)} + 20 e^{x} \\cos{\\left(x \\right)}$"
      ],
      "text/plain": [
       "-8*exp(x)*sin(x) + 20*exp(x)*cos(x)"
      ]
     },
     "execution_count": 44,
     "metadata": {},
     "output_type": "execute_result"
    }
   ],
   "source": [
    "# 1\n",
    "\n",
    "# Define c1 and c2\n",
    "c1, c2 = smp.symbols('c1 c2')\n",
    "\n",
    "# Combine y1 and y2 into a single function y\n",
    "y = (c1 * y1) + (c2 * y2)\n",
    "\n",
    "# Compute y' \n",
    "y_prime = smp.diff(y, x)\n",
    "\n",
    "# Set up the system of equations for the initial conditions\n",
    "eq1 = smp.Eq(y.subs(x, 0), 20) # CHANGE\n",
    "eq2 = smp.Eq(y_prime.subs(x, 0), 12) # CHANGE\n",
    "\n",
    "# Solve the system of equations for c1 and c2\n",
    "smp.solve((eq1, eq2), (c1, c2))\n",
    "\n",
    "y.subs({c1: 20, c2: -8})"
   ]
  },
  {
   "attachments": {},
   "cell_type": "markdown",
   "metadata": {},
   "source": [
    "1 - 2\n",
    "\n",
    "y\" - 2y' + 2y = 0\n",
    "\n",
    "y1 = (e^x)(cos(x))\n",
    "\n",
    "y2 = (e^x)(sin(x))\n",
    "\n",
    "y(0) = 5\n",
    "\n",
    "y'(0) = 12"
   ]
  },
  {
   "cell_type": "code",
   "execution_count": 34,
   "metadata": {},
   "outputs": [
    {
     "name": "stdout",
     "output_type": "stream",
     "text": [
      "y1 satisfies differential equation:  True\n",
      "y2 satisfies differential equation:  True\n"
     ]
    },
    {
     "data": {
      "text/latex": [
       "$\\displaystyle - e^{x} \\sin{\\left(x \\right)} + e^{x} \\cos{\\left(x \\right)}$"
      ],
      "text/plain": [
       "-exp(x)*sin(x) + exp(x)*cos(x)"
      ]
     },
     "metadata": {},
     "output_type": "display_data"
    },
    {
     "data": {
      "text/latex": [
       "$\\displaystyle - 2 e^{x} \\sin{\\left(x \\right)}$"
      ],
      "text/plain": [
       "-2*exp(x)*sin(x)"
      ]
     },
     "metadata": {},
     "output_type": "display_data"
    },
    {
     "data": {
      "text/latex": [
       "$\\displaystyle e^{x} \\sin{\\left(x \\right)} + e^{x} \\cos{\\left(x \\right)}$"
      ],
      "text/plain": [
       "exp(x)*sin(x) + exp(x)*cos(x)"
      ]
     },
     "metadata": {},
     "output_type": "display_data"
    },
    {
     "data": {
      "text/latex": [
       "$\\displaystyle 2 e^{x} \\cos{\\left(x \\right)}$"
      ],
      "text/plain": [
       "2*exp(x)*cos(x)"
      ]
     },
     "metadata": {},
     "output_type": "display_data"
    }
   ],
   "source": [
    "# 1 - 2\n",
    "\n",
    "# Define the variable and functions\n",
    "y1 = smp.exp(x) * smp.cos(x)\n",
    "y2 = smp.exp(x) * smp.sin(x)\n",
    "\n",
    "# Compute the second derivatives\n",
    "y1_prime_prime = smp.diff(y1, x, x)\n",
    "y1_prime = smp.diff(y1, x)\n",
    "\n",
    "y2_prime_prime = smp.diff(y2, x, x)\n",
    "y2_prime = smp.diff(y2, x)\n",
    "\n",
    "# Verify that they are solutions\n",
    "eq_y1 = y1_prime_prime - 2*y1_prime + 2*y1\n",
    "eq_y2 = y2_prime_prime - 2*y2_prime + 2*y2\n",
    "\n",
    "print(\"y1 satisfies differential equation: \", smp.simplify(eq_y1) == 0)\n",
    "print(\"y2 satisfies differential equation: \", smp.simplify(eq_y2) == 0)\n",
    "\n",
    "display(y1_prime)\n",
    "display(y1_prime_prime)\n",
    "display(y2_prime)\n",
    "display(y2_prime_prime)"
   ]
  },
  {
   "cell_type": "code",
   "execution_count": 42,
   "metadata": {},
   "outputs": [
    {
     "data": {
      "text/latex": [
       "$\\displaystyle 7 e^{x} \\sin{\\left(x \\right)} + 5 e^{x} \\cos{\\left(x \\right)}$"
      ],
      "text/plain": [
       "7*exp(x)*sin(x) + 5*exp(x)*cos(x)"
      ]
     },
     "execution_count": 42,
     "metadata": {},
     "output_type": "execute_result"
    }
   ],
   "source": [
    "# 1 - 2\n",
    "\n",
    "# Define c1 and c2\n",
    "c1, c2 = smp.symbols('c1 c2')\n",
    "\n",
    "# Combine y1 and y2 into a single function y\n",
    "y = (c1 * y1) + (c2 * y2)\n",
    "\n",
    "# Compute y' \n",
    "y_prime = smp.diff(y, x)\n",
    "\n",
    "# Set up the system of equations for the initial conditions\n",
    "eq1 = smp.Eq(y.subs(x, 0), 5) # CHANGE\n",
    "eq2 = smp.Eq(y_prime.subs(x, 0), 12) # CHANGE\n",
    "\n",
    "# Solve the system of equations for c1 and c2\n",
    "smp.solve((eq1, eq2), (c1, c2))\n",
    "\n",
    "y.subs({c1: 5, c2: 7})"
   ]
  },
  {
   "attachments": {},
   "cell_type": "markdown",
   "metadata": {},
   "source": [
    "# 2"
   ]
  },
  {
   "attachments": {},
   "cell_type": "markdown",
   "metadata": {},
   "source": [
    "Find a general solution to the differential equation given below. Primes are derivatives with respect to x.\n",
    "\n",
    "36y\" + 12y' + y = 0"
   ]
  },
  {
   "cell_type": "code",
   "execution_count": 48,
   "metadata": {},
   "outputs": [
    {
     "data": {
      "text/latex": [
       "$\\displaystyle y{\\left(x \\right)} = \\left(C_{1} + C_{2} x\\right) e^{- \\frac{x}{6}}$"
      ],
      "text/plain": [
       "Eq(y(x), (C1 + C2*x)*exp(-x/6))"
      ]
     },
     "execution_count": 48,
     "metadata": {},
     "output_type": "execute_result"
    }
   ],
   "source": [
    "x = smp.symbols('x')\n",
    "y = smp.Function('y')\n",
    "\n",
    "# Define diff eq\n",
    "diffeq = smp.Eq(36*y(x).diff(x, x) + 12*y(x).diff(x) + y(x), 0)\n",
    "\n",
    "# Use dsolve to solve the diff eq\n",
    "sol = smp.dsolve(diffeq)\n",
    "sol"
   ]
  },
  {
   "attachments": {},
   "cell_type": "markdown",
   "metadata": {},
   "source": [
    "Find a general solution to the differential equation given below. Primes are derivatives with respect to x.\n",
    "\n",
    "9y\" - 6y' + y = 0"
   ]
  },
  {
   "cell_type": "code",
   "execution_count": 49,
   "metadata": {},
   "outputs": [
    {
     "data": {
      "text/latex": [
       "$\\displaystyle y{\\left(x \\right)} = \\left(C_{1} + C_{2} x\\right) e^{\\frac{x}{3}}$"
      ],
      "text/plain": [
       "Eq(y(x), (C1 + C2*x)*exp(x/3))"
      ]
     },
     "execution_count": 49,
     "metadata": {},
     "output_type": "execute_result"
    }
   ],
   "source": [
    "x = smp.symbols('x')\n",
    "y = smp.Function('y')\n",
    "\n",
    "# Define diff eq\n",
    "diffeq = smp.Eq(9*y(x).diff(x, x) - 6*y(x).diff(x) + y(x), 0)\n",
    "\n",
    "# Use dsolve to solve the diff eq\n",
    "sol = smp.dsolve(diffeq)\n",
    "sol"
   ]
  },
  {
   "attachments": {},
   "cell_type": "markdown",
   "metadata": {},
   "source": [
    "# 3"
   ]
  },
  {
   "attachments": {},
   "cell_type": "markdown",
   "metadata": {},
   "source": [
    "Use the Wronskian to determine if the given functions are linearly independent on the indicated interval."
   ]
  },
  {
   "attachments": {},
   "cell_type": "markdown",
   "metadata": {},
   "source": [
    "f(x) = 13\n",
    "\n",
    "g(x) = 4x\n",
    "\n",
    "h(x) = 5x^2\n",
    "\n",
    "The real line"
   ]
  },
  {
   "cell_type": "code",
   "execution_count": 62,
   "metadata": {},
   "outputs": [
    {
     "name": "stdout",
     "output_type": "stream",
     "text": [
      "520\n"
     ]
    }
   ],
   "source": [
    "f = 13*smp.ones(1, 1) # Matrix of size 1x1 filled with 13s\n",
    "g = 4*x\n",
    "h = 5*x**2\n",
    "\n",
    "# Calculating the Wronskian\n",
    "W = smp.Matrix([[f[0], g, h], [f[0].diff(x), g.diff(x), h.diff(x)], [f[0].diff(x, 2), g.diff(x, 2), h.diff(x, 2)]]).det()\n",
    "\n",
    "print(W)\n",
    "\n",
    "# The Wronskian is W(f, g, h) = 520\n",
    "# As W is never 0 on the real line, the given functions are linearly independent"
   ]
  },
  {
   "attachments": {},
   "cell_type": "markdown",
   "metadata": {},
   "source": [
    "f(x) = 23\n",
    "\n",
    "g(x) = 6x\n",
    "\n",
    "h(x) = 2x^2\n",
    "\n",
    "The real line"
   ]
  },
  {
   "cell_type": "code",
   "execution_count": 63,
   "metadata": {},
   "outputs": [
    {
     "name": "stdout",
     "output_type": "stream",
     "text": [
      "552\n"
     ]
    }
   ],
   "source": [
    "f = 23*smp.ones(1, 1) # Matrix of size 1x1 filled with 13s\n",
    "g = 6*x\n",
    "h = 2*x**2\n",
    "\n",
    "# Calculating the Wronskian\n",
    "W = smp.Matrix([[f[0], g, h], [f[0].diff(x), g.diff(x), h.diff(x)], [f[0].diff(x, 2), g.diff(x, 2), h.diff(x, 2)]]).det()\n",
    "\n",
    "print(W)\n",
    "\n",
    "# The Wronskian is W(f, g, h) = 552\n",
    "# As W is never 0 on the real line, the given functions are linearly independent"
   ]
  },
  {
   "attachments": {},
   "cell_type": "markdown",
   "metadata": {},
   "source": [
    "# 4"
   ]
  },
  {
   "attachments": {},
   "cell_type": "markdown",
   "metadata": {},
   "source": [
    "A nonhomogenous diff eq, a complementary solution yc, and a particular solution yp are given.\n",
    "\n",
    "Find a solution satisfying the given initial conditions:"
   ]
  },
  {
   "attachments": {},
   "cell_type": "markdown",
   "metadata": {},
   "source": [
    "y\" - 2y' - 3y = 6\n",
    "\n",
    "y(0) = 3\n",
    "\n",
    "y'(0) = 11\n",
    "\n",
    "yc = ((c1)e^(-x)) + ((c2)(e^3x))\n",
    "\n",
    "yp = -2"
   ]
  },
  {
   "cell_type": "code",
   "execution_count": 68,
   "metadata": {},
   "outputs": [
    {
     "data": {
      "text/latex": [
       "$\\displaystyle 4 e^{3 x} - 2 + e^{- x}$"
      ],
      "text/plain": [
       "4*exp(3*x) - 2 + exp(-x)"
      ]
     },
     "execution_count": 68,
     "metadata": {},
     "output_type": "execute_result"
    }
   ],
   "source": [
    "# Define variables/constants\n",
    "x, c1, c2 = smp.symbols('x c1 c2')\n",
    "\n",
    "# Complementary solution\n",
    "yc = c1*smp.exp(-x) + c2*smp.exp(3*x)\n",
    "\n",
    "# Particular solution\n",
    "yp = -2\n",
    "\n",
    "# General solution = yc + yp\n",
    "y = yc + yp\n",
    "\n",
    "# Initial Conditions\n",
    "eq1 = smp.Eq(y.subs(x, 0), 3)\n",
    "eq2 = smp.Eq(y.diff(x).subs(x, 0), 11)\n",
    "\n",
    "# Solve for c1 and c2\n",
    "constants = smp.solve((eq1, eq2), (c1, c2))\n",
    "\n",
    "# Sub c1 and c2 into y\n",
    "y.subs(constants)"
   ]
  },
  {
   "attachments": {},
   "cell_type": "markdown",
   "metadata": {},
   "source": [
    "# 5"
   ]
  },
  {
   "attachments": {},
   "cell_type": "markdown",
   "metadata": {},
   "source": [
    "Find a general solution:\n",
    "\n",
    "2y\" + 17y' - 9y = 0"
   ]
  },
  {
   "cell_type": "code",
   "execution_count": 73,
   "metadata": {},
   "outputs": [
    {
     "data": {
      "text/latex": [
       "$\\displaystyle y{\\left(t \\right)} = C_{1} e^{- 9 t} + C_{2} e^{\\frac{t}{2}}$"
      ],
      "text/plain": [
       "Eq(y(t), C1*exp(-9*t) + C2*exp(t/2))"
      ]
     },
     "execution_count": 73,
     "metadata": {},
     "output_type": "execute_result"
    }
   ],
   "source": [
    "x = smp.symbols('t')\n",
    "y = smp.Function('y')\n",
    "\n",
    "# Define diff eq\n",
    "diffeq = smp.Eq(2*y(t).diff(t, t) + 17*y(t).diff(t) - 9*y(t), 0)\n",
    "\n",
    "# Use dsolve to solve the diff eq\n",
    "sol = smp.dsolve(diffeq)\n",
    "sol"
   ]
  },
  {
   "attachments": {},
   "cell_type": "markdown",
   "metadata": {},
   "source": [
    "# 6"
   ]
  },
  {
   "attachments": {},
   "cell_type": "markdown",
   "metadata": {},
   "source": [
    "Find three linearly independent solutions of the given \n",
    "\n",
    "third-order diff eqs and write a general solution as an arbitrary linear combination of them."
   ]
  },
  {
   "attachments": {},
   "cell_type": "markdown",
   "metadata": {},
   "source": [
    "z''' + 8z'' - 12z' - 144z = 0"
   ]
  },
  {
   "cell_type": "code",
   "execution_count": 79,
   "metadata": {},
   "outputs": [
    {
     "data": {
      "text/latex": [
       "$\\displaystyle z{\\left(t \\right)} = C_{3} e^{4 t} + \\left(C_{1} + C_{2} t\\right) e^{- 6 t}$"
      ],
      "text/plain": [
       "Eq(z(t), C3*exp(4*t) + (C1 + C2*t)*exp(-6*t))"
      ]
     },
     "execution_count": 79,
     "metadata": {},
     "output_type": "execute_result"
    }
   ],
   "source": [
    "t = smp.symbols('t')\n",
    "z = smp.Function('z')(t)\n",
    "\n",
    "diffeq = smp.Eq(z.diff(t, t, t) + 8*z.diff(t, t) - 12*z.diff(t) - 144*z, 0)\n",
    "\n",
    "smp.dsolve(diffeq)"
   ]
  },
  {
   "attachments": {},
   "cell_type": "markdown",
   "metadata": {},
   "source": [
    "# 7"
   ]
  },
  {
   "attachments": {},
   "cell_type": "markdown",
   "metadata": {},
   "source": [
    "7 - 1\n",
    "\n",
    "A body with mass of 250g is attached to the end of a spring that is stretched 25cm by a force of 4N.\n",
    "\n",
    " At time t=0 the body is pulled 1m to the left​, stretching the​ spring, and set in motion with an initial velocity of 6​m/s to the right.\n",
    "\n",
    "\n",
    "(A): Find x(t) in the form Ccos(ω₀t) - α\n",
    "\n",
    "\n",
    "(B): Find the amplitude and the period of motion of the body"
   ]
  },
  {
   "cell_type": "code",
   "execution_count": 35,
   "metadata": {},
   "outputs": [
    {
     "data": {
      "text/plain": [
       "-143.13010235415598"
      ]
     },
     "metadata": {},
     "output_type": "display_data"
    },
    {
     "name": "stdout",
     "output_type": "stream",
     "text": [
      "Amplitude = 1.25000000000000 m\n",
      "Angular Frequency = 8.00000000000000\n",
      "Phase Shift = -2.498091544796509\n",
      "Period = 0.25*pi s\n",
      "1.25000000000000cos(8.00000000000000t + -2.498091544796509)\n"
     ]
    }
   ],
   "source": [
    "from scipy.optimize import fsolve\n",
    "from sympy import atan2\n",
    "\n",
    "# Given values\n",
    "m = .25  # mass in kg\n",
    "\n",
    "# Hooke's Law: force F exerted by a spring is proportional to displacement x of spring from its equilibrium \n",
    "# F = k/x\n",
    "# k = F/x = 4N / .25m = 16N\n",
    "k = 4/m  # spring constant in N/m\n",
    "\n",
    "x0 = -1  # initial displacement in m\n",
    "v0 = 6  # initial velocity in m/s\n",
    "\n",
    "# Angular frequency\n",
    "w0 = smp.sqrt(k/m)\n",
    "\n",
    "# Phase shift of oscillatory motion - phi\n",
    "phi = smp.atan2(-v0, w0*x0)\n",
    "\n",
    "# Amplitude\n",
    "A = smp.sqrt(x0**2 + (v0/w0)**2)\n",
    "\n",
    "# Amplitude and period\n",
    "amplitude = A\n",
    "period = 2*smp.pi/w0\n",
    "\n",
    "# Convert phi to degrees to get alpha\n",
    "phi = float(phi)\n",
    "display(np.degrees(phi))\n",
    "\n",
    "print(f\"Amplitude = {amplitude} m\")\n",
    "print(f\"Angular Frequency = {w0}\")\n",
    "print(f\"Phase Shift = {phi}\")\n",
    "print(f\"Period = {period} s\")\n",
    "print(f\"{amplitude}cos({w0}t + {phi})\")"
   ]
  },
  {
   "attachments": {},
   "cell_type": "markdown",
   "metadata": {},
   "source": [
    "x(t) = Ccos((ω_0)t) − α\n",
    "\n",
    "C = amplitude of the motion\n",
    "\n",
    "ω_0 = angular frequency\n",
    "\n",
    "α = constant that shifts the function vertically\n",
    "\n"
   ]
  },
  {
   "attachments": {},
   "cell_type": "markdown",
   "metadata": {},
   "source": [
    "7 - 2\n",
    "\n",
    "A body with mass of 250g is attached to the end of a spring that is stretched 25cm by a force of 36N. \n",
    "\n",
    "At time t=0 the body is pulled 1m to the left​, stretching the​ spring, and set in motion with an initial velocity of 18​m/s to the right. \n",
    "\n",
    "​(a) Find​ x(t) in the form C cos((omega0)t -alpha) ​\n",
    "\n",
    "(b) Find the amplitude and the period of motion of the body."
   ]
  },
  {
   "cell_type": "code",
   "execution_count": 40,
   "metadata": {},
   "outputs": [
    {
     "data": {
      "text/plain": [
       "-143.13010235415598"
      ]
     },
     "metadata": {},
     "output_type": "display_data"
    },
    {
     "name": "stdout",
     "output_type": "stream",
     "text": [
      "Amplitude = 1.25000000000000 m\n",
      "Angular Frequency = 24.0000000000000\n",
      "Phase Shift = -2.498091544796509\n",
      "Period = 0.0833333333333333*pi s\n",
      "1.25000000000000cos(24.0000000000000t + -2.498091544796509)\n"
     ]
    }
   ],
   "source": [
    "from scipy.optimize import fsolve\n",
    "from sympy import atan2\n",
    "\n",
    "# Given values\n",
    "m = .25  # mass in kg\n",
    "\n",
    "# Hooke's Law: force F exerted by a spring is proportional to displacement x of spring from its equilibrium \n",
    "# F = k/x\n",
    "# k = F/x = 36N / .25m = 144N\n",
    "k = 36/m  # spring constant in N/m\n",
    "\n",
    "x0 = -1  # initial displacement in m\n",
    "v0 = 18  # initial velocity in m/s\n",
    "\n",
    "# Angular frequency\n",
    "w0 = smp.sqrt(k/m)\n",
    "\n",
    "# Phase shift of oscillatory motion - phi\n",
    "phi = smp.atan2(-v0, w0*x0)\n",
    "\n",
    "# Amplitude\n",
    "A = smp.sqrt(x0**2 + (v0/w0)**2)\n",
    "\n",
    "# Amplitude and period\n",
    "amplitude = A\n",
    "period = 2*smp.pi/w0\n",
    "\n",
    "# Convert phi to degrees to get alpha\n",
    "phi = float(phi)\n",
    "display(np.degrees(phi))\n",
    "\n",
    "print(f\"Amplitude = {amplitude} m\")\n",
    "print(f\"Angular Frequency = {w0}\")\n",
    "print(f\"Phase Shift = {phi}\")\n",
    "print(f\"Period = {period} s\")\n",
    "print(f\"{amplitude}cos({w0}t + {phi})\")"
   ]
  },
  {
   "attachments": {},
   "cell_type": "markdown",
   "metadata": {},
   "source": [
    "# 8"
   ]
  },
  {
   "attachments": {},
   "cell_type": "markdown",
   "metadata": {},
   "source": [
    "Find a particular solution y_p of the following equation using the Method of Undetermined Coefficients.\n",
    "\n",
    "Primes denote the derivatives w/ respect to x\n",
    "\n",
    "y\" = y' - 6y = 58cos(3x)"
   ]
  },
  {
   "cell_type": "code",
   "execution_count": 158,
   "metadata": {},
   "outputs": [
    {
     "data": {
      "text/latex": [
       "$\\displaystyle y{\\left(x \\right)} = \\frac{29 \\sin{\\left(3 x \\right)}}{39} - \\frac{145 \\cos{\\left(3 x \\right)}}{39}$"
      ],
      "text/plain": [
       "Eq(y(x), 29*sin(3*x)/39 - 145*cos(3*x)/39)"
      ]
     },
     "execution_count": 158,
     "metadata": {},
     "output_type": "execute_result"
    }
   ],
   "source": [
    "from sympy import symbols, Function, dsolve, Eq\n",
    "\n",
    "# Define the symbols\n",
    "x = symbols('x')\n",
    "\n",
    "# Define the function\n",
    "y = Function('y')(x)\n",
    "\n",
    "# Define the differential equation\n",
    "diff_eq = Eq(y.diff(x, x) + y.diff(x) - 6*y, 58*smp.cos(3*x))\n",
    "\n",
    "# Solve the differential equation\n",
    "solution = dsolve(diff_eq)\n",
    "\n",
    "part_sol = solution.subs({'C1': 0, 'C2': 0, 'C3': 0, 'C4': 0, 'C5': 0})\n",
    "\n",
    "# Print the solution\n",
    "part_sol"
   ]
  },
  {
   "cell_type": "code",
   "execution_count": 163,
   "metadata": {},
   "outputs": [
    {
     "data": {
      "text/latex": [
       "$\\displaystyle y{\\left(x \\right)} = - \\frac{59 \\sin{\\left(3 x \\right)}}{78} - \\frac{295 \\cos{\\left(3 x \\right)}}{78}$"
      ],
      "text/plain": [
       "Eq(y(x), -59*sin(3*x)/78 - 295*cos(3*x)/78)"
      ]
     },
     "execution_count": 163,
     "metadata": {},
     "output_type": "execute_result"
    }
   ],
   "source": [
    "from sympy import symbols, Function, dsolve, Eq\n",
    "\n",
    "# Define the symbols\n",
    "x = symbols('x')\n",
    "\n",
    "# Define the function\n",
    "y = Function('y')(x)\n",
    "\n",
    "# Define the differential equation\n",
    "diff_eq = Eq(y.diff(x, x) - y.diff(x) - 6*y, 59*smp.cos(3*x))\n",
    "\n",
    "# Solve the differential equation\n",
    "solution = dsolve(diff_eq)\n",
    "\n",
    "part_sol = solution.subs({'C1': 0, 'C2': 0, 'C3': 0, 'C4': 0, 'C5': 0})\n",
    "\n",
    "# Print the solution\n",
    "part_sol"
   ]
  },
  {
   "attachments": {},
   "cell_type": "markdown",
   "metadata": {},
   "source": [
    "# 9"
   ]
  },
  {
   "attachments": {},
   "cell_type": "markdown",
   "metadata": {},
   "source": [
    "Find a particular solution y_p of the following equation. Primes denote derivatives w/ respect to x\n",
    "\n",
    "y(5th_der) + 2y(3rd_der) + 2y\" = 3x^2 - 5"
   ]
  },
  {
   "cell_type": "code",
   "execution_count": 148,
   "metadata": {},
   "outputs": [
    {
     "data": {
      "text/latex": [
       "$\\displaystyle y{\\left(x \\right)} = \\frac{x^{4}}{8} - \\frac{x^{3}}{2} + \\frac{x^{2}}{4}$"
      ],
      "text/plain": [
       "Eq(y(x), x**4/8 - x**3/2 + x**2/4)"
      ]
     },
     "execution_count": 148,
     "metadata": {},
     "output_type": "execute_result"
    }
   ],
   "source": [
    "from sympy import symbols, Function, dsolve, Eq, sec\n",
    "\n",
    "# Define the symbols\n",
    "x = symbols('x')\n",
    "\n",
    "# Define the function\n",
    "y = Function('y')(x)\n",
    "\n",
    "# Define the differential equation\n",
    "diff_eq = Eq(y.diff(x, x, x, x, x) + 2*y.diff(x, x, x) + 2*y.diff(x, x), 3*x**2 - 5)\n",
    "\n",
    "# Solve the differential equation\n",
    "solution = dsolve(diff_eq)\n",
    "\n",
    "part_sol = solution.subs({'C1': 0, 'C2': 0, 'C3': 0, 'C4': 0, 'C5': 0})\n",
    "\n",
    "# Print the solution\n",
    "part_sol"
   ]
  },
  {
   "attachments": {},
   "cell_type": "markdown",
   "metadata": {},
   "source": [
    "Find a particular solution y_p of the following equation. Primes denote derivatives w/ respect to x\n",
    "\n",
    "y(5th_der) + 2y(3rd_der) + 2y\" = 6x^2 - 3"
   ]
  },
  {
   "cell_type": "code",
   "execution_count": 149,
   "metadata": {},
   "outputs": [
    {
     "data": {
      "text/latex": [
       "$\\displaystyle y{\\left(x \\right)} = \\frac{x^{4}}{4} - x^{3} + \\frac{9 x^{2}}{4}$"
      ],
      "text/plain": [
       "Eq(y(x), x**4/4 - x**3 + 9*x**2/4)"
      ]
     },
     "execution_count": 149,
     "metadata": {},
     "output_type": "execute_result"
    }
   ],
   "source": [
    "from sympy import symbols, Function, dsolve, Eq, sec\n",
    "\n",
    "# Define the symbols\n",
    "x = symbols('x')\n",
    "\n",
    "# Define the function\n",
    "y = Function('y')(x)\n",
    "\n",
    "# Define the differential equation\n",
    "diff_eq = Eq(y.diff(x, x, x, x, x) + 2*y.diff(x, x, x) + 2*y.diff(x, x), 6*x**2 - 3)\n",
    "\n",
    "# Solve the differential equation\n",
    "solution = dsolve(diff_eq)\n",
    "\n",
    "part_sol = solution.subs({'C1': 0, 'C2': 0, 'C3': 0, 'C4': 0, 'C5': 0})\n",
    "\n",
    "# Print the solution\n",
    "part_sol"
   ]
  },
  {
   "attachments": {},
   "cell_type": "markdown",
   "metadata": {},
   "source": [
    "# 10"
   ]
  },
  {
   "attachments": {},
   "cell_type": "markdown",
   "metadata": {},
   "source": [
    "Use the method of variation of parameters to find a particular solution of the following diff eq\n",
    "\n",
    "y\" = 9y = 5sec(3x)"
   ]
  },
  {
   "cell_type": "code",
   "execution_count": 156,
   "metadata": {},
   "outputs": [
    {
     "data": {
      "text/latex": [
       "$\\displaystyle y{\\left(x \\right)} = \\frac{5 x \\sin{\\left(3 x \\right)}}{3} + \\frac{5 \\log{\\left(\\cos{\\left(3 x \\right)} \\right)} \\cos{\\left(3 x \\right)}}{9}$"
      ],
      "text/plain": [
       "Eq(y(x), 5*x*sin(3*x)/3 + 5*log(cos(3*x))*cos(3*x)/9)"
      ]
     },
     "execution_count": 156,
     "metadata": {},
     "output_type": "execute_result"
    }
   ],
   "source": [
    "from sympy import symbols, Function, dsolve, Eq, sec\n",
    "\n",
    "# Define the symbols\n",
    "x = symbols('x')\n",
    "\n",
    "# Define the function\n",
    "y = Function('y')(x)\n",
    "\n",
    "# Define the differential equation\n",
    "diff_eq = Eq(y.diff(x, x) + 9*y, 5*smp.sec(3*x))\n",
    "\n",
    "# Solve the differential equation\n",
    "solution = dsolve(diff_eq)\n",
    "\n",
    "part_sol = solution.subs({'C1': 0, 'C2': 0, 'C3': 0, 'C4': 0, 'C5': 0})\n",
    "\n",
    "# Print the solution\n",
    "part_sol"
   ]
  },
  {
   "cell_type": "code",
   "execution_count": null,
   "metadata": {},
   "outputs": [],
   "source": []
  }
 ],
 "metadata": {
  "kernelspec": {
   "display_name": "Env1",
   "language": "python",
   "name": "python3"
  },
  "language_info": {
   "codemirror_mode": {
    "name": "ipython",
    "version": 3
   },
   "file_extension": ".py",
   "mimetype": "text/x-python",
   "name": "python",
   "nbconvert_exporter": "python",
   "pygments_lexer": "ipython3",
   "version": "3.10.10"
  },
  "orig_nbformat": 4
 },
 "nbformat": 4,
 "nbformat_minor": 2
}
